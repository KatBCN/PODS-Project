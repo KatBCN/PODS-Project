{
  "nbformat": 4,
  "nbformat_minor": 0,
  "metadata": {
    "colab": {
      "name": "Actions-115-116-117-Raw.ipynb",
      "provenance": [],
      "collapsed_sections": [],
      "authorship_tag": "ABX9TyO71W/sQSX6Pd/reeY5AVqn",
      "include_colab_link": true
    },
    "kernelspec": {
      "name": "python3",
      "display_name": "Python 3"
    },
    "language_info": {
      "name": "python"
    }
  },
  "cells": [
    {
      "cell_type": "markdown",
      "metadata": {
        "id": "view-in-github",
        "colab_type": "text"
      },
      "source": [
        "<a href=\"https://colab.research.google.com/github/KatBCN/PODS-Project/blob/main/ActionsAnalysis_115_116_117_Raw.ipynb\" target=\"_parent\"><img src=\"https://colab.research.google.com/assets/colab-badge.svg\" alt=\"Open In Colab\"/></a>"
      ]
    },
    {
      "cell_type": "code",
      "execution_count": 1,
      "metadata": {
        "id": "T7SyYuwXdgs5"
      },
      "outputs": [],
      "source": [
        "import pandas as pd\n",
        "from datetime import datetime\n",
        "import re"
      ]
    },
    {
      "cell_type": "code",
      "source": [
        "# Import raw data from Github link\n",
        "print(\"time of data loading: \", datetime.now())\n",
        "dfRaw = pd.read_csv(\"https://raw.githubusercontent.com/KatBCN/PODS-Project/main/obtain_data/data/event_logs/ALLCongress_BillActions_RAW.csv\")\n",
        "\n",
        "# Import original action code dictionary from Github link\n",
        "actionCode_df = pd.read_csv(\"https://raw.githubusercontent.com/KatBCN/PODS-Project/main/obtain_data/data/actionCode_dict.csv\", sep = '\\t')[['Code','Action']]\n",
        "actionCode_df.columns = ['actionCode','actionName']\n",
        "\n",
        "# Import updated action code dictionary from Github link\n",
        "updatedCode_df = pd.read_csv(\"https://raw.githubusercontent.com/KatBCN/PODS-Project/main/obtain_data/data/updatedCodes_dict.csv\", sep = ',')[['Code','Action']]\n",
        "updatedCode_df.columns = ['actionCode','actionName']"
      ],
      "metadata": {
        "id": "SV5BbwsdeIcc",
        "colab": {
          "base_uri": "https://localhost:8080/"
        },
        "outputId": "4276b25e-aff3-4bc8-8c0a-4c828821a166"
      },
      "execution_count": 2,
      "outputs": [
        {
          "output_type": "stream",
          "name": "stdout",
          "text": [
            "time of data loading:  2021-12-21 19:10:51.958068\n"
          ]
        }
      ]
    },
    {
      "cell_type": "code",
      "source": [
        "actionCode_df.shape"
      ],
      "metadata": {
        "colab": {
          "base_uri": "https://localhost:8080/"
        },
        "id": "-VzFklbLrzWM",
        "outputId": "8cbe8dfb-c423-4168-ddb7-d98a6ed3efda"
      },
      "execution_count": 69,
      "outputs": [
        {
          "output_type": "execute_result",
          "data": {
            "text/plain": [
              "(93, 2)"
            ]
          },
          "metadata": {},
          "execution_count": 69
        }
      ]
    },
    {
      "cell_type": "code",
      "source": [
        "updatedCode_df.shape"
      ],
      "metadata": {
        "colab": {
          "base_uri": "https://localhost:8080/"
        },
        "id": "4_fja_rlHCHE",
        "outputId": "972c0d87-9a7a-4bcd-f92e-7d1871279bd8"
      },
      "execution_count": 70,
      "outputs": [
        {
          "output_type": "execute_result",
          "data": {
            "text/plain": [
              "(146, 2)"
            ]
          },
          "metadata": {},
          "execution_count": 70
        }
      ]
    },
    {
      "cell_type": "code",
      "source": [
        "# Show shape of raw data frame\n",
        "dfRaw.shape"
      ],
      "metadata": {
        "colab": {
          "base_uri": "https://localhost:8080/"
        },
        "id": "cvazC_5WeQw-",
        "outputId": "70f295b6-af3b-4fa5-b539-a21231da3a62"
      },
      "execution_count": 4,
      "outputs": [
        {
          "output_type": "execute_result",
          "data": {
            "text/plain": [
              "(166790, 11)"
            ]
          },
          "metadata": {},
          "execution_count": 4
        }
      ]
    },
    {
      "cell_type": "code",
      "source": [
        "# Show column titles and types\n",
        "dfRaw.dtypes"
      ],
      "metadata": {
        "colab": {
          "base_uri": "https://localhost:8080/"
        },
        "id": "a8aP39dGeb6R",
        "outputId": "a6c37043-79b0-4e1f-e404-17895ebecdd5"
      },
      "execution_count": 5,
      "outputs": [
        {
          "output_type": "execute_result",
          "data": {
            "text/plain": [
              "billTitle            object\n",
              "billNumber            int64\n",
              "billType             object\n",
              "congress              int64\n",
              "fullDate             object\n",
              "actionCode           object\n",
              "actionName           object\n",
              "type                 object\n",
              "sourceSystem/name    object\n",
              "text                 object\n",
              "billOriginalTitle    object\n",
              "dtype: object"
            ]
          },
          "metadata": {},
          "execution_count": 5
        }
      ]
    },
    {
      "cell_type": "code",
      "source": [
        "# Assign data types\n",
        "dfRaw = dfRaw.astype({'billNumber':object, 'congress':object, 'fullDate':'datetime64'})"
      ],
      "metadata": {
        "id": "PxGQ9WsqlM17"
      },
      "execution_count": 6,
      "outputs": []
    },
    {
      "cell_type": "code",
      "source": [
        "# Check for duplicates\n",
        "sum(dfRaw.duplicated())"
      ],
      "metadata": {
        "colab": {
          "base_uri": "https://localhost:8080/"
        },
        "id": "p7uAx3Y5h0E7",
        "outputId": "1d319522-5ae8-4bcb-d087-3db432fb9d3c"
      },
      "execution_count": 7,
      "outputs": [
        {
          "output_type": "execute_result",
          "data": {
            "text/plain": [
              "0"
            ]
          },
          "metadata": {},
          "execution_count": 7
        }
      ]
    },
    {
      "cell_type": "code",
      "source": [
        "# Show first 5 rows of data\n",
        "dfRaw.head(5)"
      ],
      "metadata": {
        "colab": {
          "base_uri": "https://localhost:8080/",
          "height": 652
        },
        "id": "axI1TERXe2lH",
        "outputId": "48a97c83-4382-4558-bb6f-b749d67c271d"
      },
      "execution_count": 8,
      "outputs": [
        {
          "output_type": "execute_result",
          "data": {
            "text/html": [
              "\n",
              "  <div id=\"df-e1444ad0-a1f3-4fcc-8b5a-4a92bd6667d2\">\n",
              "    <div class=\"colab-df-container\">\n",
              "      <div>\n",
              "<style scoped>\n",
              "    .dataframe tbody tr th:only-of-type {\n",
              "        vertical-align: middle;\n",
              "    }\n",
              "\n",
              "    .dataframe tbody tr th {\n",
              "        vertical-align: top;\n",
              "    }\n",
              "\n",
              "    .dataframe thead th {\n",
              "        text-align: right;\n",
              "    }\n",
              "</style>\n",
              "<table border=\"1\" class=\"dataframe\">\n",
              "  <thead>\n",
              "    <tr style=\"text-align: right;\">\n",
              "      <th></th>\n",
              "      <th>billTitle</th>\n",
              "      <th>billNumber</th>\n",
              "      <th>billType</th>\n",
              "      <th>congress</th>\n",
              "      <th>fullDate</th>\n",
              "      <th>actionCode</th>\n",
              "      <th>actionName</th>\n",
              "      <th>type</th>\n",
              "      <th>sourceSystem/name</th>\n",
              "      <th>text</th>\n",
              "      <th>billOriginalTitle</th>\n",
              "    </tr>\n",
              "  </thead>\n",
              "  <tbody>\n",
              "    <tr>\n",
              "      <th>0</th>\n",
              "      <td>A joint resolution proposing an amendment to t...</td>\n",
              "      <td>1</td>\n",
              "      <td>SJRES</td>\n",
              "      <td>116</td>\n",
              "      <td>2019-01-03</td>\n",
              "      <td>10000</td>\n",
              "      <td>Introduced in Senate</td>\n",
              "      <td>IntroReferral</td>\n",
              "      <td>Library of Congress</td>\n",
              "      <td>Introduced in Senate</td>\n",
              "      <td>A joint resolution proposing an amendment to t...</td>\n",
              "    </tr>\n",
              "    <tr>\n",
              "      <th>1</th>\n",
              "      <td>A joint resolution proposing an amendment to t...</td>\n",
              "      <td>1</td>\n",
              "      <td>SJRES</td>\n",
              "      <td>116</td>\n",
              "      <td>2019-01-03</td>\n",
              "      <td>NaN</td>\n",
              "      <td>NaN</td>\n",
              "      <td>IntroReferral</td>\n",
              "      <td>Senate</td>\n",
              "      <td>Read twice and referred to the Committee on th...</td>\n",
              "      <td>A joint resolution proposing an amendment to t...</td>\n",
              "    </tr>\n",
              "    <tr>\n",
              "      <th>2</th>\n",
              "      <td>A joint resolution relating to a national emer...</td>\n",
              "      <td>10</td>\n",
              "      <td>SJRES</td>\n",
              "      <td>116</td>\n",
              "      <td>2019-02-28</td>\n",
              "      <td>10000</td>\n",
              "      <td>Introduced in Senate</td>\n",
              "      <td>IntroReferral</td>\n",
              "      <td>Library of Congress</td>\n",
              "      <td>Introduced in Senate</td>\n",
              "      <td>A joint resolution relating to a national emer...</td>\n",
              "    </tr>\n",
              "    <tr>\n",
              "      <th>3</th>\n",
              "      <td>A joint resolution relating to a national emer...</td>\n",
              "      <td>10</td>\n",
              "      <td>SJRES</td>\n",
              "      <td>116</td>\n",
              "      <td>2019-02-28</td>\n",
              "      <td>NaN</td>\n",
              "      <td>NaN</td>\n",
              "      <td>IntroReferral</td>\n",
              "      <td>Senate</td>\n",
              "      <td>Read twice and referred to the Committee on Ar...</td>\n",
              "      <td>A joint resolution relating to a national emer...</td>\n",
              "    </tr>\n",
              "    <tr>\n",
              "      <th>4</th>\n",
              "      <td>Prohibiting Unauthorized Military Action in Ve...</td>\n",
              "      <td>11</td>\n",
              "      <td>SJRES</td>\n",
              "      <td>116</td>\n",
              "      <td>2019-02-28</td>\n",
              "      <td>10000</td>\n",
              "      <td>Introduced in Senate</td>\n",
              "      <td>IntroReferral</td>\n",
              "      <td>Library of Congress</td>\n",
              "      <td>Introduced in Senate</td>\n",
              "      <td>NaN</td>\n",
              "    </tr>\n",
              "  </tbody>\n",
              "</table>\n",
              "</div>\n",
              "      <button class=\"colab-df-convert\" onclick=\"convertToInteractive('df-e1444ad0-a1f3-4fcc-8b5a-4a92bd6667d2')\"\n",
              "              title=\"Convert this dataframe to an interactive table.\"\n",
              "              style=\"display:none;\">\n",
              "        \n",
              "  <svg xmlns=\"http://www.w3.org/2000/svg\" height=\"24px\"viewBox=\"0 0 24 24\"\n",
              "       width=\"24px\">\n",
              "    <path d=\"M0 0h24v24H0V0z\" fill=\"none\"/>\n",
              "    <path d=\"M18.56 5.44l.94 2.06.94-2.06 2.06-.94-2.06-.94-.94-2.06-.94 2.06-2.06.94zm-11 1L8.5 8.5l.94-2.06 2.06-.94-2.06-.94L8.5 2.5l-.94 2.06-2.06.94zm10 10l.94 2.06.94-2.06 2.06-.94-2.06-.94-.94-2.06-.94 2.06-2.06.94z\"/><path d=\"M17.41 7.96l-1.37-1.37c-.4-.4-.92-.59-1.43-.59-.52 0-1.04.2-1.43.59L10.3 9.45l-7.72 7.72c-.78.78-.78 2.05 0 2.83L4 21.41c.39.39.9.59 1.41.59.51 0 1.02-.2 1.41-.59l7.78-7.78 2.81-2.81c.8-.78.8-2.07 0-2.86zM5.41 20L4 18.59l7.72-7.72 1.47 1.35L5.41 20z\"/>\n",
              "  </svg>\n",
              "      </button>\n",
              "      \n",
              "  <style>\n",
              "    .colab-df-container {\n",
              "      display:flex;\n",
              "      flex-wrap:wrap;\n",
              "      gap: 12px;\n",
              "    }\n",
              "\n",
              "    .colab-df-convert {\n",
              "      background-color: #E8F0FE;\n",
              "      border: none;\n",
              "      border-radius: 50%;\n",
              "      cursor: pointer;\n",
              "      display: none;\n",
              "      fill: #1967D2;\n",
              "      height: 32px;\n",
              "      padding: 0 0 0 0;\n",
              "      width: 32px;\n",
              "    }\n",
              "\n",
              "    .colab-df-convert:hover {\n",
              "      background-color: #E2EBFA;\n",
              "      box-shadow: 0px 1px 2px rgba(60, 64, 67, 0.3), 0px 1px 3px 1px rgba(60, 64, 67, 0.15);\n",
              "      fill: #174EA6;\n",
              "    }\n",
              "\n",
              "    [theme=dark] .colab-df-convert {\n",
              "      background-color: #3B4455;\n",
              "      fill: #D2E3FC;\n",
              "    }\n",
              "\n",
              "    [theme=dark] .colab-df-convert:hover {\n",
              "      background-color: #434B5C;\n",
              "      box-shadow: 0px 1px 3px 1px rgba(0, 0, 0, 0.15);\n",
              "      filter: drop-shadow(0px 1px 2px rgba(0, 0, 0, 0.3));\n",
              "      fill: #FFFFFF;\n",
              "    }\n",
              "  </style>\n",
              "\n",
              "      <script>\n",
              "        const buttonEl =\n",
              "          document.querySelector('#df-e1444ad0-a1f3-4fcc-8b5a-4a92bd6667d2 button.colab-df-convert');\n",
              "        buttonEl.style.display =\n",
              "          google.colab.kernel.accessAllowed ? 'block' : 'none';\n",
              "\n",
              "        async function convertToInteractive(key) {\n",
              "          const element = document.querySelector('#df-e1444ad0-a1f3-4fcc-8b5a-4a92bd6667d2');\n",
              "          const dataTable =\n",
              "            await google.colab.kernel.invokeFunction('convertToInteractive',\n",
              "                                                     [key], {});\n",
              "          if (!dataTable) return;\n",
              "\n",
              "          const docLinkHtml = 'Like what you see? Visit the ' +\n",
              "            '<a target=\"_blank\" href=https://colab.research.google.com/notebooks/data_table.ipynb>data table notebook</a>'\n",
              "            + ' to learn more about interactive tables.';\n",
              "          element.innerHTML = '';\n",
              "          dataTable['output_type'] = 'display_data';\n",
              "          await google.colab.output.renderOutput(dataTable, element);\n",
              "          const docLink = document.createElement('div');\n",
              "          docLink.innerHTML = docLinkHtml;\n",
              "          element.appendChild(docLink);\n",
              "        }\n",
              "      </script>\n",
              "    </div>\n",
              "  </div>\n",
              "  "
            ],
            "text/plain": [
              "                                           billTitle  ...                                  billOriginalTitle\n",
              "0  A joint resolution proposing an amendment to t...  ...  A joint resolution proposing an amendment to t...\n",
              "1  A joint resolution proposing an amendment to t...  ...  A joint resolution proposing an amendment to t...\n",
              "2  A joint resolution relating to a national emer...  ...  A joint resolution relating to a national emer...\n",
              "3  A joint resolution relating to a national emer...  ...  A joint resolution relating to a national emer...\n",
              "4  Prohibiting Unauthorized Military Action in Ve...  ...                                                NaN\n",
              "\n",
              "[5 rows x 11 columns]"
            ]
          },
          "metadata": {},
          "execution_count": 8
        }
      ]
    },
    {
      "cell_type": "code",
      "source": [
        "# Create function to view summary statistics of each variable.\n",
        "def mySummary(df):\n",
        "    for v in df.columns:\n",
        "            print (\"\\n\" + v)\n",
        "            print(df[v].describe())"
      ],
      "metadata": {
        "id": "Iuy4Vh0-jJ2h"
      },
      "execution_count": 9,
      "outputs": []
    },
    {
      "cell_type": "code",
      "source": [
        "mySummary(dfRaw)"
      ],
      "metadata": {
        "colab": {
          "base_uri": "https://localhost:8080/"
        },
        "id": "TPU91AfPjUMM",
        "outputId": "d9967239-9c7f-4513-b09c-a79affdac914"
      },
      "execution_count": 10,
      "outputs": [
        {
          "output_type": "stream",
          "name": "stdout",
          "text": [
            "\n",
            "billTitle\n",
            "count                                                166790\n",
            "unique                                                24805\n",
            "top       Interior and Environment, Agriculture and Rura...\n",
            "freq                                                    359\n",
            "Name: billTitle, dtype: object\n",
            "\n",
            "billNumber\n",
            "count     166790\n",
            "unique      9067\n",
            "top            1\n",
            "freq         400\n",
            "Name: billNumber, dtype: int64\n",
            "\n",
            "billType\n",
            "count     166790\n",
            "unique         4\n",
            "top           HR\n",
            "freq      125771\n",
            "Name: billType, dtype: object\n",
            "\n",
            "congress\n",
            "count     166790\n",
            "unique         3\n",
            "top          116\n",
            "freq       65804\n",
            "Name: congress, dtype: int64\n",
            "\n",
            "fullDate\n",
            "count                  166790\n",
            "unique                  21963\n",
            "top       2019-01-03 00:00:00\n",
            "freq                      909\n",
            "first     2017-01-03 00:00:00\n",
            "last      2021-12-10 00:00:00\n",
            "Name: fullDate, dtype: object\n",
            "\n",
            "actionCode\n",
            "count     120831\n",
            "unique       110\n",
            "top       H11100\n",
            "freq       22995\n",
            "Name: actionCode, dtype: object\n",
            "\n",
            "actionName\n",
            "count                  120799\n",
            "unique                     71\n",
            "top       Introduced in House\n",
            "freq                    45625\n",
            "Name: actionName, dtype: object\n",
            "\n",
            "type\n",
            "count            166790\n",
            "unique               10\n",
            "top       IntroReferral\n",
            "freq              97160\n",
            "Name: type, dtype: object\n",
            "\n",
            "sourceSystem/name\n",
            "count                  166790\n",
            "unique                      4\n",
            "top       Library of Congress\n",
            "freq                    71061\n",
            "Name: sourceSystem/name, dtype: object\n",
            "\n",
            "text\n",
            "count                  166790\n",
            "unique                  28526\n",
            "top       Introduced in House\n",
            "freq                    45625\n",
            "Name: text, dtype: object\n",
            "\n",
            "billOriginalTitle\n",
            "count                                                 64877\n",
            "unique                                                10622\n",
            "top       Making appropriations for the Department of De...\n",
            "freq                                                    149\n",
            "Name: billOriginalTitle, dtype: object\n"
          ]
        },
        {
          "output_type": "stream",
          "name": "stderr",
          "text": [
            "/usr/local/lib/python3.7/dist-packages/ipykernel_launcher.py:5: FutureWarning: Treating datetime data as categorical rather than numeric in `.describe` is deprecated and will be removed in a future version of pandas. Specify `datetime_is_numeric=True` to silence this warning and adopt the future behavior now.\n",
            "  \"\"\"\n"
          ]
        }
      ]
    },
    {
      "cell_type": "code",
      "source": [
        "# Create variable of unique actionCodes\n",
        "actionCodes = dfRaw['actionCode'].unique()\n",
        "actionCodes"
      ],
      "metadata": {
        "colab": {
          "base_uri": "https://localhost:8080/"
        },
        "id": "riC-T5Nrfdut",
        "outputId": "b2a113d2-c4bd-4f2a-ddd1-ed07f406addf"
      },
      "execution_count": 11,
      "outputs": [
        {
          "output_type": "execute_result",
          "data": {
            "text/plain": [
              "array(['10000', nan, '14500', '17000', 'H14000', 'H15000', 'H30000',\n",
              "       'H8D000', 'H35000', '8000', 'H37100', '28000', '31000', 'E20000',\n",
              "       'E30000', '35000', '14000', '18000', 'H1L210', 'H1L220', 'H38310',\n",
              "       'H11100', '5500', 'H12300', 'H30200', '36000', 'E40000', 'H36100',\n",
              "       'H8A000', 'H36110', '1000', 'Intro-H', '5000', 'H12200', 'H12410',\n",
              "       'H32020', 'H32400', 'H32340', 'H32341', 'H32700', 'H32050',\n",
              "       'H32600', 'H34400', 'B00100', 'H30300', 'H37300', 'H12440',\n",
              "       'H37220', 'H38800', 'H12210', '19500', 'H40150', 'H41400',\n",
              "       'H41610', 'H41931', '20500', 'H81000', 'H36800', 'H82000',\n",
              "       'H36810', 'H40140', 'H40110', 'H37210', 'H1B000', 'H12430',\n",
              "       'H38900', 'H40142', 'H11200', 'H11210', 'H12420', 'H12100',\n",
              "       'H36200', 'H36210', 'H17000', 'H38300', 'H30800', '14900', '9000',\n",
              "       'H41800', '20900', 'H25200', '20800', 'H40200', 'H42300', 'H40210',\n",
              "       '21000', 'H42510', 'H42831', '23000', 'H29800', '32000', 'H40300',\n",
              "       'H43410', '34000', 'H34200', '33000', 'H40310', 'H36600', 'H36610',\n",
              "       'H41930', 'H38400', 'H38410', 'H40130', 'H11100-A', 'H42410',\n",
              "       'H42411', 'H40141', 'H32500', 'H32350', 'H32351', '41000'],\n",
              "      dtype=object)"
            ]
          },
          "metadata": {},
          "execution_count": 11
        }
      ]
    },
    {
      "cell_type": "code",
      "source": [
        "# Show number of unique actionCodes in RawData\n",
        "actionCodes.shape"
      ],
      "metadata": {
        "colab": {
          "base_uri": "https://localhost:8080/"
        },
        "id": "tVOymYkpfnzU",
        "outputId": "7fd01736-0d69-4173-e26a-6c12743e46fa"
      },
      "execution_count": 12,
      "outputs": [
        {
          "output_type": "execute_result",
          "data": {
            "text/plain": [
              "(111,)"
            ]
          },
          "metadata": {},
          "execution_count": 12
        }
      ]
    },
    {
      "cell_type": "code",
      "source": [
        "groupedSource = dfRaw.groupby([\"sourceSystem/name\"])\n",
        "groupedSource.type.value_counts(normalize=True)*100"
      ],
      "metadata": {
        "colab": {
          "base_uri": "https://localhost:8080/"
        },
        "id": "T-fYoRoeSogg",
        "outputId": "a059a825-48c4-4256-89e3-d03ac655dde3"
      },
      "execution_count": 13,
      "outputs": [
        {
          "output_type": "execute_result",
          "data": {
            "text/plain": [
              "sourceSystem/name        type                \n",
              "House committee actions  Committee               100.000000\n",
              "House floor actions      IntroReferral            46.337151\n",
              "                         Floor                    42.734579\n",
              "                         Committee                 3.327306\n",
              "                         Calendars                 3.220816\n",
              "                         President                 2.057464\n",
              "                         Discharge                 1.217601\n",
              "                         ResolvingDifferences      1.093028\n",
              "                         Veto                      0.012055\n",
              "Library of Congress      IntroReferral            84.264224\n",
              "                         Committee                 5.610673\n",
              "                         Floor                     5.184278\n",
              "                         BecameLaw                 2.404976\n",
              "                         President                 2.212184\n",
              "                         NotUsed                   0.253303\n",
              "                         ResolvingDifferences      0.056290\n",
              "                         Veto                      0.014072\n",
              "Senate                   IntroReferral            58.921764\n",
              "                         Floor                    17.250953\n",
              "                         Committee                14.441406\n",
              "                         Calendars                 6.742085\n",
              "                         Discharge                 1.947621\n",
              "                         ResolvingDifferences      0.596718\n",
              "                         Veto                      0.099453\n",
              "Name: type, dtype: float64"
            ]
          },
          "metadata": {},
          "execution_count": 13
        }
      ]
    },
    {
      "cell_type": "code",
      "source": [
        "groupedBillType = dfRaw.groupby([\"billType\"])\n",
        "groupedBillType.type.value_counts(normalize=True)*100"
      ],
      "metadata": {
        "colab": {
          "base_uri": "https://localhost:8080/"
        },
        "id": "ur0aGVG3TmK8",
        "outputId": "3205e333-aba4-477e-b206-7a2fd8fddf9e"
      },
      "execution_count": 15,
      "outputs": [
        {
          "output_type": "execute_result",
          "data": {
            "text/plain": [
              "billType  type                \n",
              "HJRES     IntroReferral           51.509054\n",
              "          Floor                   28.672032\n",
              "          Committee               10.010060\n",
              "          President                4.426559\n",
              "          BecameLaw                2.716298\n",
              "          ResolvingDifferences     1.006036\n",
              "          Calendars                0.804829\n",
              "          Discharge                0.503018\n",
              "          Veto                     0.301811\n",
              "          NotUsed                  0.050302\n",
              "HR        IntroReferral           56.637858\n",
              "          Committee               20.843438\n",
              "          Floor                   17.584340\n",
              "          Calendars                1.610864\n",
              "          President                1.277719\n",
              "          BecameLaw                0.849957\n",
              "          Discharge                0.605863\n",
              "          ResolvingDifferences     0.482623\n",
              "          NotUsed                  0.100182\n",
              "          Veto                     0.007156\n",
              "S         IntroReferral           64.826311\n",
              "          Floor                   15.601638\n",
              "          Committee               11.802932\n",
              "          Calendars                3.053758\n",
              "          President                2.221635\n",
              "          BecameLaw                1.474046\n",
              "          Discharge                0.610223\n",
              "          ResolvingDifferences     0.266808\n",
              "          NotUsed                  0.140008\n",
              "          Veto                     0.002642\n",
              "SJRES     Floor                   44.557823\n",
              "          IntroReferral           30.782313\n",
              "          Committee                6.207483\n",
              "          Discharge                6.207483\n",
              "          President                5.102041\n",
              "          Calendars                2.721088\n",
              "          BecameLaw                2.380952\n",
              "          Veto                     2.040816\n",
              "Name: type, dtype: float64"
            ]
          },
          "metadata": {},
          "execution_count": 15
        }
      ]
    },
    {
      "cell_type": "markdown",
      "source": [
        "In order to fill in missing action codes and maintain consistency, we referenced the websites: https://www.congress.gov/help/field-values/action-codes and https://github.com/usgpo/bill-status/blob/master/BILLSTATUS-XML_User_User-Guide.md#3-action-code-element-possible-values\n",
        "\n",
        "\n",
        "The first round of action code analysis for the 117th congress was done in a separate notebook: https://colab.research.google.com/drive/16_phrhCTrIEBrkLjeUEfpHwuzKkm0IWO?usp=sharing\n",
        "\n",
        "\n",
        "The following dictionary contains codes and names that were sourced from the websites, supplemented with our own codes and names that were extracted from the \"text\" portion of the action."
      ],
      "metadata": {
        "id": "LKjLRIE8nB8u"
      }
    },
    {
      "cell_type": "code",
      "source": [
        "# Create dicitionary of original action codes being used\n",
        "actionCode_dict = dict(zip(actionCode_df.actionCode, actionCode_df.actionName))\n",
        "len(actionCode_dict)"
      ],
      "metadata": {
        "colab": {
          "base_uri": "https://localhost:8080/"
        },
        "id": "QtWa4lLswB2I",
        "outputId": "f7ac9c7c-2da7-437e-c879-c7fe47af866d"
      },
      "execution_count": 16,
      "outputs": [
        {
          "output_type": "execute_result",
          "data": {
            "text/plain": [
              "93"
            ]
          },
          "metadata": {},
          "execution_count": 16
        }
      ]
    },
    {
      "cell_type": "code",
      "source": [
        "# Display action code dictionary\n",
        "actionCode_dict"
      ],
      "metadata": {
        "colab": {
          "base_uri": "https://localhost:8080/"
        },
        "id": "tAblAiLJzNlg",
        "outputId": "0d46a99d-5e77-4ac7-f40c-d8343db057d9"
      },
      "execution_count": 17,
      "outputs": [
        {
          "output_type": "execute_result",
          "data": {
            "text/plain": [
              "{'1000': 'Introduced in House',\n",
              " '10000': 'Introduced in Senate',\n",
              " '11000': 'Referred to Senate committee',\n",
              " '12000': 'Referred to Senate subcommittee',\n",
              " '13000': 'Senate committee/subcommittee actions',\n",
              " '13100': 'Senate committee/subcommittee hearings',\n",
              " '13200': 'Senate committee/subcommittee markups',\n",
              " '13900': 'Senate committee time extension',\n",
              " '14000': 'Reported to Senate',\n",
              " '14500': 'Senate committee discharged',\n",
              " '14900': 'Senate committee report filed after reporting',\n",
              " '16000': 'Senate floor actions',\n",
              " '17000': 'Passed/agreed to in Senate',\n",
              " '18000': 'Failed of passage/not agreed to in Senate',\n",
              " '19000': 'Resolving differences -- House actions',\n",
              " '2000': 'Referred to House committee',\n",
              " '20000': 'Resolving differences -- Senate actions',\n",
              " '20800': 'Conference committee actions',\n",
              " '20900': 'Conference report filed',\n",
              " '21000': 'Conference report agreed to in House',\n",
              " '22000': 'Conference report disagreed to in House',\n",
              " '23000': 'Conference report agreed to in Senate',\n",
              " '24000': 'Conference report disagreed to in Senate',\n",
              " '25000': 'Roll call votes on measures in House',\n",
              " '26000': 'Roll call votes on measures in Senate',\n",
              " '28000': 'Presented to President',\n",
              " '29000': 'Signed by President',\n",
              " '29100': 'Sent to Archivist unsigned by President',\n",
              " '3000': 'Referred to House subcommittee',\n",
              " '30000': 'Pocket vetoed by President',\n",
              " '31000': 'Vetoed by President',\n",
              " '32000': 'Passed House over veto',\n",
              " '33000': 'Failed of passage in House over veto',\n",
              " '34000': 'Passed Senate over veto',\n",
              " '35000': 'Failed of passage in Senate over veto',\n",
              " '36000': 'Became Public Law',\n",
              " '37000': 'Public Law signed by President',\n",
              " '38000': 'Public Law unsigned by President',\n",
              " '39000': 'Public Law enacted over veto',\n",
              " '4000': 'House committee/subcommittee actions',\n",
              " '40000': 'Public Law by other means',\n",
              " '4100': 'House committee/subcommittee hearings',\n",
              " '41000': 'Became Private Law',\n",
              " '4200': 'House committee/subcommittee markups',\n",
              " '42000': 'Private Law signed by President',\n",
              " '43000': 'Private Law unsigned by President',\n",
              " '44000': 'Private Law enacted over veto',\n",
              " '45000': 'Private Law by other means',\n",
              " '46000': 'Line item veto by President',\n",
              " '47000': 'Disapproval bill in House',\n",
              " '48000': 'Disapproval bill in Senate',\n",
              " '4900': 'House committee time extension',\n",
              " '4950': 'House discharge petition filed',\n",
              " '5000': 'Reported to House',\n",
              " '5500': 'House committee discharged',\n",
              " '7000': 'House floor actions',\n",
              " '71000': 'House amendment offered',\n",
              " '72000': 'House amendment agreed to',\n",
              " '72500': 'House amendment considered as adopted',\n",
              " '73000': 'House amendment not agreed to',\n",
              " '74000': 'Other House amendment actions',\n",
              " '75000': 'Roll call votes on amendments in House',\n",
              " '8000': 'Passed/agreed to in House',\n",
              " '9000': 'Failed of passage/not agreed to in House',\n",
              " '91000': 'Senate amendment submitted',\n",
              " '92000': 'Senate amendment referred to committee',\n",
              " '93000': 'Senate amendment proposed (on the floor)',\n",
              " '94000': 'Senate amendment agreed to',\n",
              " '95000': 'Senate amendment not agreed to',\n",
              " '96000': 'Other Senate amendment actions',\n",
              " '97000': 'Roll call votes on amendments in Senate',\n",
              " 'B00100': 'Sponsor introductory remarks on measure',\n",
              " 'E20000': 'Presented to President',\n",
              " 'E30000': 'Signed by President',\n",
              " 'E40000': 'Became Public Law No: 114-47',\n",
              " 'H11100': 'Referred to the Committee',\n",
              " 'H11200': 'Sequential committee referral',\n",
              " 'H12100': 'Committee report of an original measure',\n",
              " 'H12200': 'Committee reported',\n",
              " 'H12300': 'Committee discharged',\n",
              " 'H12410': 'Union Calendar assignment',\n",
              " 'H14000': 'Received in the House',\n",
              " 'H15000': 'Held at the desk',\n",
              " 'H17000': 'Motion to Discharge Committee',\n",
              " 'H1L210': 'Rule provides for consideration of',\n",
              " 'H1L220': 'Rule passed/agreed in House',\n",
              " 'H25200': 'Conference report [free text] filed',\n",
              " 'H30000': 'Consideration by House',\n",
              " 'H35000': 'The previous question was ordered pursuant to the rule',\n",
              " 'H37300': 'Final Passage Under Suspension of the Rules Results',\n",
              " 'H38310': 'Motion To Reconsider Results',\n",
              " 'H81000': 'Point of order against a motion',\n",
              " 'H8D000': 'DEBATE'}"
            ]
          },
          "metadata": {},
          "execution_count": 17
        }
      ]
    },
    {
      "cell_type": "markdown",
      "source": [
        "Our goal is to fill in action codes and names that are missing."
      ],
      "metadata": {
        "id": "1dKRlQsWkS4R"
      }
    },
    {
      "cell_type": "code",
      "source": [
        "# Show number of rows which are missing actionCodes in Raw Data\n",
        "numMissingCodes = dfRaw.actionCode.isna().sum()\n",
        "numMissingCodes"
      ],
      "metadata": {
        "colab": {
          "base_uri": "https://localhost:8080/"
        },
        "id": "H0lylV3Lzy4T",
        "outputId": "d81b59db-d3ab-400c-e714-e6df650eb91c"
      },
      "execution_count": 18,
      "outputs": [
        {
          "output_type": "execute_result",
          "data": {
            "text/plain": [
              "45959"
            ]
          },
          "metadata": {},
          "execution_count": 18
        }
      ]
    },
    {
      "cell_type": "code",
      "source": [
        "ratioMissingCodes = numMissingCodes/dfRaw.shape[0]\n",
        "ratioMissingCodes"
      ],
      "metadata": {
        "colab": {
          "base_uri": "https://localhost:8080/"
        },
        "id": "bbTfCRfQknk7",
        "outputId": "a62768f4-6327-448d-825e-33d8638dc469"
      },
      "execution_count": 19,
      "outputs": [
        {
          "output_type": "execute_result",
          "data": {
            "text/plain": [
              "0.2755500929312309"
            ]
          },
          "metadata": {},
          "execution_count": 19
        }
      ]
    },
    {
      "cell_type": "markdown",
      "source": [
        "72% of the actions taken from the XML files have actionCodes assigned from their source databases."
      ],
      "metadata": {
        "id": "RM6mIG_U1wBJ"
      }
    },
    {
      "cell_type": "code",
      "source": [
        "1-ratioMissingCodes"
      ],
      "metadata": {
        "colab": {
          "base_uri": "https://localhost:8080/"
        },
        "id": "s1BJ8WGn1rN1",
        "outputId": "28644d58-e0c0-4440-b033-0ab245d1b797"
      },
      "execution_count": 20,
      "outputs": [
        {
          "output_type": "execute_result",
          "data": {
            "text/plain": [
              "0.7244499070687691"
            ]
          },
          "metadata": {},
          "execution_count": 20
        }
      ]
    },
    {
      "cell_type": "code",
      "source": [
        "# Create subset of dataframe which only has missing action codes\n",
        "dfCodeNA = dfRaw[dfRaw.actionCode.isna()] \n",
        "print(dfCodeNA.shape)\n",
        "# Create subset of with no missing action codes\n",
        "dfCode = dfRaw[-dfRaw.actionCode.isna()] \n",
        "print (dfCode.shape)"
      ],
      "metadata": {
        "colab": {
          "base_uri": "https://localhost:8080/"
        },
        "id": "Vt_krZB-3cjN",
        "outputId": "52357880-112a-4d9b-822d-7d7afaa9666b"
      },
      "execution_count": 43,
      "outputs": [
        {
          "output_type": "stream",
          "name": "stdout",
          "text": [
            "(45959, 11)\n",
            "(120831, 11)\n"
          ]
        }
      ]
    },
    {
      "cell_type": "code",
      "source": [
        "dfRaw.type.isna().sum()"
      ],
      "metadata": {
        "colab": {
          "base_uri": "https://localhost:8080/"
        },
        "id": "YCScdfDz4v-o",
        "outputId": "9f741b5a-3f5f-4ac1-e5ff-2f92a2bc11cd"
      },
      "execution_count": 22,
      "outputs": [
        {
          "output_type": "execute_result",
          "data": {
            "text/plain": [
              "0"
            ]
          },
          "metadata": {},
          "execution_count": 22
        }
      ]
    },
    {
      "cell_type": "code",
      "source": [
        "len(dfRaw.type.unique()) # number of unique action types"
      ],
      "metadata": {
        "colab": {
          "base_uri": "https://localhost:8080/"
        },
        "id": "7pacO-H35mYB",
        "outputId": "bac14bc2-0b01-4ba0-8c9b-11f887bb9270"
      },
      "execution_count": 23,
      "outputs": [
        {
          "output_type": "execute_result",
          "data": {
            "text/plain": [
              "10"
            ]
          },
          "metadata": {},
          "execution_count": 23
        }
      ]
    },
    {
      "cell_type": "code",
      "source": [
        "dfRaw.type.value_counts()"
      ],
      "metadata": {
        "colab": {
          "base_uri": "https://localhost:8080/"
        },
        "id": "u6erF0N35J29",
        "outputId": "e2ac0867-0649-410f-87e6-ec91d01d47ba"
      },
      "execution_count": 24,
      "outputs": [
        {
          "output_type": "execute_result",
          "data": {
            "text/plain": [
              "IntroReferral           97160\n",
              "Committee               30955\n",
              "Floor                   29116\n",
              "Calendars                3230\n",
              "President                2596\n",
              "BecameLaw                1709\n",
              "Discharge                1076\n",
              "ResolvingDifferences      728\n",
              "NotUsed                   180\n",
              "Veto                       40\n",
              "Name: type, dtype: int64"
            ]
          },
          "metadata": {},
          "execution_count": 24
        }
      ]
    },
    {
      "cell_type": "code",
      "source": [
        "dfCodeNA.type.value_counts()"
      ],
      "metadata": {
        "colab": {
          "base_uri": "https://localhost:8080/"
        },
        "id": "_1LhE35k4Hzb",
        "outputId": "132b3dc2-d38d-4f33-837d-70e606dc9b52"
      },
      "execution_count": 25,
      "outputs": [
        {
          "output_type": "execute_result",
          "data": {
            "text/plain": [
              "Committee               25312\n",
              "IntroReferral           14219\n",
              "Floor                    4163\n",
              "Calendars                1627\n",
              "Discharge                 470\n",
              "ResolvingDifferences      144\n",
              "Veto                       24\n",
              "Name: type, dtype: int64"
            ]
          },
          "metadata": {},
          "execution_count": 25
        }
      ]
    },
    {
      "cell_type": "markdown",
      "source": [
        "100% of the data from the House committee actions system and the Senate system are missing action codes.\n"
      ],
      "metadata": {
        "id": "_UyGC1E8ADR-"
      }
    },
    {
      "cell_type": "code",
      "source": [
        "dfCodeNA['sourceSystem/name'].value_counts()"
      ],
      "metadata": {
        "colab": {
          "base_uri": "https://localhost:8080/"
        },
        "id": "tBU08C-g4QTN",
        "outputId": "481d3349-b5c3-497f-d2be-dd67651c735a"
      },
      "execution_count": 26,
      "outputs": [
        {
          "output_type": "execute_result",
          "data": {
            "text/plain": [
              "Senate                     24132\n",
              "House committee actions    21827\n",
              "Name: sourceSystem/name, dtype: int64"
            ]
          },
          "metadata": {},
          "execution_count": 26
        }
      ]
    },
    {
      "cell_type": "code",
      "source": [
        "# Subset raw data frame per unique source system\n",
        "dfLOC = dfRaw.loc[dfRaw['sourceSystem/name'] == 'Library of Congress']\n",
        "dfHF = dfRaw.loc[dfRaw['sourceSystem/name'] == 'House floor actions']\n",
        "dfHC = dfRaw.loc[dfRaw['sourceSystem/name'] == 'House committee actions']\n",
        "dfS = dfRaw.loc[dfRaw['sourceSystem/name'] == 'Senate']\n",
        "print(\"LOC: \", dfLOC.shape)\n",
        "print(\"House Floor: \", dfHF.shape)\n",
        "print(\"House Committee: \", dfHC.shape)\n",
        "print(\"Senate: \", dfS.shape)"
      ],
      "metadata": {
        "colab": {
          "base_uri": "https://localhost:8080/"
        },
        "id": "X6_vUn03_rhO",
        "outputId": "92cf9bbd-d00b-4393-bbd8-7ed727f1ccfe"
      },
      "execution_count": 27,
      "outputs": [
        {
          "output_type": "stream",
          "name": "stdout",
          "text": [
            "LOC:  (71061, 11)\n",
            "House Floor:  (49770, 11)\n",
            "House Committee:  (21827, 11)\n",
            "Senate:  (24132, 11)\n"
          ]
        }
      ]
    },
    {
      "cell_type": "code",
      "source": [
        "len(dfCode.actionCode.unique())"
      ],
      "metadata": {
        "colab": {
          "base_uri": "https://localhost:8080/"
        },
        "id": "YhvojpHAdaJd",
        "outputId": "be11291d-b40d-45d6-abc0-6918c69e9013"
      },
      "execution_count": 45,
      "outputs": [
        {
          "output_type": "execute_result",
          "data": {
            "text/plain": [
              "110"
            ]
          },
          "metadata": {},
          "execution_count": 45
        }
      ]
    },
    {
      "cell_type": "code",
      "source": [
        "grouped = dfCode.groupby([\"sourceSystem/name\"])\n",
        "print(grouped.actionCode.unique())\n",
        "for e in grouped.actionCode.unique():\n",
        "  print (len(e))"
      ],
      "metadata": {
        "colab": {
          "base_uri": "https://localhost:8080/"
        },
        "id": "afQ-hJcCekG6",
        "outputId": "14200ba6-e16f-4958-f4d8-8ccaa4a88871"
      },
      "execution_count": 48,
      "outputs": [
        {
          "output_type": "stream",
          "name": "stdout",
          "text": [
            "sourceSystem/name\n",
            "House floor actions    [H14000, H15000, H30000, H8D000, H35000, H3710...\n",
            "Library of Congress    [10000, 14500, 17000, 8000, 28000, 31000, 3500...\n",
            "Name: actionCode, dtype: object\n",
            "82\n",
            "30\n"
          ]
        }
      ]
    },
    {
      "cell_type": "code",
      "source": [
        "def fillCode (row): \n",
        "  # Updated by Mateo for senate discharge type\n",
        "  # Updated by Kat for senate veto type\n",
        "  \"\"\"\n",
        "  A function to fill missing actionCodes. This can be used with\n",
        "  df['actionCode'] = df.apply (lambda row: fillCode(row) if pd.isnull(row['actionCode']) else row['actionCode'], axis=1)\n",
        "  This has only been tested on rows with null actionCodes.\n",
        "  If rows with non-null actionCodes are used, this will not work as intended.\n",
        "  After filling the actionCodes, it is recommended to apply a dictionary\n",
        "  of actionCodes and actionNames to complete the data.\n",
        "  \"\"\"\n",
        "  if row['sourceSystem/name'] == \"House committee actions\":\n",
        "    if \"referred to the subcommittee\" in str.lower(row['text']):\n",
        "      return '3000'  # Referred to House subcommittee\n",
        "    elif \"markup\" in str.lower(row['text']):\n",
        "      return '4200'  # House committee/subcommittee markups\n",
        "    elif \"mark-up\" in str.lower(row['text']):\n",
        "      return '4200'  # House committee/subcommittee markups\n",
        "    elif \"hearings\" in str.lower(row['text']):\n",
        "      return '4100'  # House committee/subcommittee hearings\n",
        "    elif \"ordered to be reported\" in str.lower(row['text']):\n",
        "      return '4000'  # House committee/subcommittee actions\n",
        "    # Generic rule based on type for text not matching earlier rules\n",
        "    elif row['type'] == \"Committee\":\n",
        "      return '4000'  # House committee/subcommittee actions\n",
        "  # Setting rules for actionCodes related to the Senate\n",
        "  elif row['sourceSystem/name'] == \"Senate\":\n",
        "    if \"received in the senate\" in str.lower(row['text']):\n",
        "      return '10000'  # Introduced in Senate\n",
        "    elif \"introduced in the senate\" in str.lower(row['text']):\n",
        "      return '10000'  # Introduced in Senate\n",
        "    elif \"referred to the committee\" in str.lower(row['text']):\n",
        "      return '11000'  # Referred to Senate committee\n",
        "    elif \"passed senate\" in str.lower(row['text']):\n",
        "      return '17000'  # Passed/agreed to in Senate\n",
        "    elif all(word in str.lower((row['text'])) for word in [\"committee\", \"filed\", \"report\"]):\n",
        "      return '14900' # Senate committee report filed after reporting\n",
        "    elif row['type'] == \"IntroReferral\":\n",
        "      return '11000'  # Referred to Senate committee\n",
        "    elif row['type'] == \"ResolvingDifferences\":\n",
        "      return '20000' # Resolving differences -- Senate actions\n",
        "    elif row['type'] == \"Discharge\":\n",
        "      if re.match('Senate Committee.*?discharged.*?', row['text']) is not None:\n",
        "        return 'H12300'\n",
        "      if re.match('Motion to discharge Senate Committee*', row['text']) is not None:\n",
        "        return 'H17000'\n",
        "    # Veto codes added by Kat 21 Dec 2021\n",
        "    elif row['type'] == \"Veto\":\n",
        "      if \"failed\" in str.lower(row['text']):\n",
        "        return '35000'  # Failed of passage in Senate over veto\n",
        "      if \"message received\" in str.lower(row['text']):\n",
        "        return 'SenateVetoRcvd'  # Veto received in Senate\n",
        "      if \"message considered\" in str.lower(row['text']):\n",
        "        return 'SenateVetoCon'  # Veto considered in Senate\n",
        "    # Generic rule based on type for text not matching earlier rules\n",
        "    elif row['type'] == \"Calendars\":\n",
        "      return 'SenateCal' # need to define a code for Senate Calendar and add to dictionary\n",
        "    elif row['type'] == \"Committee\":\n",
        "      if \"hearings\" in str.lower(row['text']):\n",
        "        return '13100' # Senate committee/subcommittee hearings\n",
        "      elif \"markup\" in str.lower(row['text']):\n",
        "        return '13200'  # Senate committee/subcommittee markups\n",
        "      elif \"mark-up\" in str.lower(row['text']):\n",
        "        return '13200'  # Senate committee/subcommittee markups\n",
        "      # Generic rule based on type for text not matching earlier rules\n",
        "      else:\n",
        "        return '13000' # Senate committee/subcommittee actions\n",
        "    elif row['type'] == \"Floor\":\n",
        "      if \"message on senate action sent to the house\" in str.lower(row['text']):\n",
        "        return '5000'  # Reported to House\n",
        "      if \"message on house action received in senate\" in str.lower(row['text']):\n",
        "        return '14000'  # Reported to Senate\n",
        "      # Generic rule based on type for text not matching earlier rules\n",
        "      else:\n",
        "        return '16000'  # Senate floor action\n",
        "  else:\n",
        "    return row['actionCode']  # do nothing if source system doesn't match rules"
      ],
      "metadata": {
        "id": "-BPfyVSaveQx"
      },
      "execution_count": 49,
      "outputs": []
    },
    {
      "cell_type": "code",
      "source": [
        "# Create a copy of original raw data to fill missing actionCodes\n",
        "df = dfRaw.copy()\n",
        "# Use df.apply with a lambda function to fill the missing actionCodes\n",
        "# It is very important only to pass rows to the function which have a null actionCode.\n",
        "df['actionCode'] = df.apply (lambda row: fillCode(row) if pd.isnull(row['actionCode']) else row['actionCode'], axis=1)  "
      ],
      "metadata": {
        "id": "d5ogJnzA33GW"
      },
      "execution_count": 50,
      "outputs": []
    },
    {
      "cell_type": "code",
      "source": [
        "# Number of null actionCodes in filled data\n",
        "df.actionCode.isna().sum()"
      ],
      "metadata": {
        "colab": {
          "base_uri": "https://localhost:8080/"
        },
        "id": "-jLRJNtO5_WU",
        "outputId": "d6fa5f5a-1a73-45c5-aa48-5e9dcf7249ae"
      },
      "execution_count": 51,
      "outputs": [
        {
          "output_type": "execute_result",
          "data": {
            "text/plain": [
              "0"
            ]
          },
          "metadata": {},
          "execution_count": 51
        }
      ]
    },
    {
      "cell_type": "code",
      "source": [
        "view = df[df['actionCode'] == '23000']\n",
        "pd.set_option('display.max_colwidth', None)\n",
        "view.shape"
      ],
      "metadata": {
        "colab": {
          "base_uri": "https://localhost:8080/"
        },
        "id": "W16989EZ1XTi",
        "outputId": "eb813dae-f9d8-40e8-9e23-e287b40d821f"
      },
      "execution_count": 62,
      "outputs": [
        {
          "output_type": "execute_result",
          "data": {
            "text/plain": [
              "(8, 11)"
            ]
          },
          "metadata": {},
          "execution_count": 62
        }
      ]
    },
    {
      "cell_type": "code",
      "source": [
        "view = df[df['actionCode'] == '41000']\n",
        "pd.set_option('display.max_colwidth', None)\n",
        "view.head()"
      ],
      "metadata": {
        "colab": {
          "base_uri": "https://localhost:8080/",
          "height": 696
        },
        "id": "nBjcVFtuArHi",
        "outputId": "0ea2f1a1-3ace-45d4-ce99-257ed03726ae"
      },
      "execution_count": 68,
      "outputs": [
        {
          "output_type": "execute_result",
          "data": {
            "text/html": [
              "\n",
              "  <div id=\"df-3dc09ad6-fd8c-4112-a17a-0e4fe30bf64f\">\n",
              "    <div class=\"colab-df-container\">\n",
              "      <div>\n",
              "<style scoped>\n",
              "    .dataframe tbody tr th:only-of-type {\n",
              "        vertical-align: middle;\n",
              "    }\n",
              "\n",
              "    .dataframe tbody tr th {\n",
              "        vertical-align: top;\n",
              "    }\n",
              "\n",
              "    .dataframe thead th {\n",
              "        text-align: right;\n",
              "    }\n",
              "</style>\n",
              "<table border=\"1\" class=\"dataframe\">\n",
              "  <thead>\n",
              "    <tr style=\"text-align: right;\">\n",
              "      <th></th>\n",
              "      <th>billTitle</th>\n",
              "      <th>billNumber</th>\n",
              "      <th>billType</th>\n",
              "      <th>congress</th>\n",
              "      <th>fullDate</th>\n",
              "      <th>actionCode</th>\n",
              "      <th>actionName</th>\n",
              "      <th>type</th>\n",
              "      <th>sourceSystem/name</th>\n",
              "      <th>text</th>\n",
              "      <th>billOriginalTitle</th>\n",
              "    </tr>\n",
              "  </thead>\n",
              "  <tbody>\n",
              "    <tr>\n",
              "      <th>131898</th>\n",
              "      <td>To authorize the President to award the Medal of Honor to John L. Canley for acts of valor during the Vietnam War while a member of the Marine Corps.</td>\n",
              "      <td>4641</td>\n",
              "      <td>HR</td>\n",
              "      <td>115</td>\n",
              "      <td>2018-01-29</td>\n",
              "      <td>41000</td>\n",
              "      <td>Became Private Law</td>\n",
              "      <td>BecameLaw</td>\n",
              "      <td>Library of Congress</td>\n",
              "      <td>Became Private Law No: 115-1.</td>\n",
              "      <td>To authorize the President to award the Medal of Honor to John L. Canley for acts of valor during the Vietnam War while a member of the Marine Corps.</td>\n",
              "    </tr>\n",
              "    <tr>\n",
              "      <th>131899</th>\n",
              "      <td>To authorize the President to award the Medal of Honor to John L. Canley for acts of valor during the Vietnam War while a member of the Marine Corps.</td>\n",
              "      <td>4641</td>\n",
              "      <td>HR</td>\n",
              "      <td>115</td>\n",
              "      <td>2018-01-29</td>\n",
              "      <td>41000</td>\n",
              "      <td>Became Private Law</td>\n",
              "      <td>BecameLaw</td>\n",
              "      <td>Library of Congress</td>\n",
              "      <td>Signed by President.</td>\n",
              "      <td>To authorize the President to award the Medal of Honor to John L. Canley for acts of valor during the Vietnam War while a member of the Marine Corps.</td>\n",
              "    </tr>\n",
              "  </tbody>\n",
              "</table>\n",
              "</div>\n",
              "      <button class=\"colab-df-convert\" onclick=\"convertToInteractive('df-3dc09ad6-fd8c-4112-a17a-0e4fe30bf64f')\"\n",
              "              title=\"Convert this dataframe to an interactive table.\"\n",
              "              style=\"display:none;\">\n",
              "        \n",
              "  <svg xmlns=\"http://www.w3.org/2000/svg\" height=\"24px\"viewBox=\"0 0 24 24\"\n",
              "       width=\"24px\">\n",
              "    <path d=\"M0 0h24v24H0V0z\" fill=\"none\"/>\n",
              "    <path d=\"M18.56 5.44l.94 2.06.94-2.06 2.06-.94-2.06-.94-.94-2.06-.94 2.06-2.06.94zm-11 1L8.5 8.5l.94-2.06 2.06-.94-2.06-.94L8.5 2.5l-.94 2.06-2.06.94zm10 10l.94 2.06.94-2.06 2.06-.94-2.06-.94-.94-2.06-.94 2.06-2.06.94z\"/><path d=\"M17.41 7.96l-1.37-1.37c-.4-.4-.92-.59-1.43-.59-.52 0-1.04.2-1.43.59L10.3 9.45l-7.72 7.72c-.78.78-.78 2.05 0 2.83L4 21.41c.39.39.9.59 1.41.59.51 0 1.02-.2 1.41-.59l7.78-7.78 2.81-2.81c.8-.78.8-2.07 0-2.86zM5.41 20L4 18.59l7.72-7.72 1.47 1.35L5.41 20z\"/>\n",
              "  </svg>\n",
              "      </button>\n",
              "      \n",
              "  <style>\n",
              "    .colab-df-container {\n",
              "      display:flex;\n",
              "      flex-wrap:wrap;\n",
              "      gap: 12px;\n",
              "    }\n",
              "\n",
              "    .colab-df-convert {\n",
              "      background-color: #E8F0FE;\n",
              "      border: none;\n",
              "      border-radius: 50%;\n",
              "      cursor: pointer;\n",
              "      display: none;\n",
              "      fill: #1967D2;\n",
              "      height: 32px;\n",
              "      padding: 0 0 0 0;\n",
              "      width: 32px;\n",
              "    }\n",
              "\n",
              "    .colab-df-convert:hover {\n",
              "      background-color: #E2EBFA;\n",
              "      box-shadow: 0px 1px 2px rgba(60, 64, 67, 0.3), 0px 1px 3px 1px rgba(60, 64, 67, 0.15);\n",
              "      fill: #174EA6;\n",
              "    }\n",
              "\n",
              "    [theme=dark] .colab-df-convert {\n",
              "      background-color: #3B4455;\n",
              "      fill: #D2E3FC;\n",
              "    }\n",
              "\n",
              "    [theme=dark] .colab-df-convert:hover {\n",
              "      background-color: #434B5C;\n",
              "      box-shadow: 0px 1px 3px 1px rgba(0, 0, 0, 0.15);\n",
              "      filter: drop-shadow(0px 1px 2px rgba(0, 0, 0, 0.3));\n",
              "      fill: #FFFFFF;\n",
              "    }\n",
              "  </style>\n",
              "\n",
              "      <script>\n",
              "        const buttonEl =\n",
              "          document.querySelector('#df-3dc09ad6-fd8c-4112-a17a-0e4fe30bf64f button.colab-df-convert');\n",
              "        buttonEl.style.display =\n",
              "          google.colab.kernel.accessAllowed ? 'block' : 'none';\n",
              "\n",
              "        async function convertToInteractive(key) {\n",
              "          const element = document.querySelector('#df-3dc09ad6-fd8c-4112-a17a-0e4fe30bf64f');\n",
              "          const dataTable =\n",
              "            await google.colab.kernel.invokeFunction('convertToInteractive',\n",
              "                                                     [key], {});\n",
              "          if (!dataTable) return;\n",
              "\n",
              "          const docLinkHtml = 'Like what you see? Visit the ' +\n",
              "            '<a target=\"_blank\" href=https://colab.research.google.com/notebooks/data_table.ipynb>data table notebook</a>'\n",
              "            + ' to learn more about interactive tables.';\n",
              "          element.innerHTML = '';\n",
              "          dataTable['output_type'] = 'display_data';\n",
              "          await google.colab.output.renderOutput(dataTable, element);\n",
              "          const docLink = document.createElement('div');\n",
              "          docLink.innerHTML = docLinkHtml;\n",
              "          element.appendChild(docLink);\n",
              "        }\n",
              "      </script>\n",
              "    </div>\n",
              "  </div>\n",
              "  "
            ],
            "text/plain": [
              "                                                                                                                                                    billTitle  ...                                                                                                                                      billOriginalTitle\n",
              "131898  To authorize the President to award the Medal of Honor to John L. Canley for acts of valor during the Vietnam War while a member of the Marine Corps.  ...  To authorize the President to award the Medal of Honor to John L. Canley for acts of valor during the Vietnam War while a member of the Marine Corps.\n",
              "131899  To authorize the President to award the Medal of Honor to John L. Canley for acts of valor during the Vietnam War while a member of the Marine Corps.  ...  To authorize the President to award the Medal of Honor to John L. Canley for acts of valor during the Vietnam War while a member of the Marine Corps.\n",
              "\n",
              "[2 rows x 11 columns]"
            ]
          },
          "metadata": {},
          "execution_count": 68
        }
      ]
    },
    {
      "cell_type": "code",
      "source": [
        "df.actionName.isna().sum()"
      ],
      "metadata": {
        "colab": {
          "base_uri": "https://localhost:8080/"
        },
        "id": "v5XiDM6gnjaW",
        "outputId": "1342803e-450f-4d07-a768-b4b3b447c7c3"
      },
      "execution_count": 72,
      "outputs": [
        {
          "output_type": "execute_result",
          "data": {
            "text/plain": [
              "75317"
            ]
          },
          "metadata": {},
          "execution_count": 72
        }
      ]
    },
    {
      "cell_type": "markdown",
      "source": [
        "Dictionaries of Action Codes should be analyzed per source system because multiple sources may use the same codes for different types of actions. The systems are not coordinated with each other."
      ],
      "metadata": {
        "id": "j3C8sOG6rGdA"
      }
    },
    {
      "cell_type": "markdown",
      "source": [
        "The next step should be to make sure that every actionCode has a reasonable actionName and standardize the names to name that are available on this website when possible: https://www.congress.gov/help/field-values/action-codes"
      ],
      "metadata": {
        "id": "T1SkTGVqA4fX"
      }
    },
    {
      "cell_type": "code",
      "source": [
        "pd.set_option('display.max_rows', None)\n",
        "# Create a data frame showing the frequency of actionCodes\n",
        "acFreq = df.actionCode.value_counts().to_frame()\n",
        "acFreq = acFreq.rename(columns={\"actionCode\": \"Frequency\"})\n",
        "acFreq['actionName'] = acFreq.index.map(actionCode_dict)  # index is actionCode\n",
        "acFreq"
      ],
      "metadata": {
        "colab": {
          "base_uri": "https://localhost:8080/",
          "height": 1000
        },
        "id": "W1rXIuk8-EwN",
        "outputId": "984e5bdc-372c-4e7d-e05b-fc1196951606"
      },
      "execution_count": 73,
      "outputs": [
        {
          "output_type": "execute_result",
          "data": {
            "text/html": [
              "\n",
              "  <div id=\"df-70d6039f-9a55-4d43-ba55-307d1cdb0c7f\">\n",
              "    <div class=\"colab-df-container\">\n",
              "      <div>\n",
              "<style scoped>\n",
              "    .dataframe tbody tr th:only-of-type {\n",
              "        vertical-align: middle;\n",
              "    }\n",
              "\n",
              "    .dataframe tbody tr th {\n",
              "        vertical-align: top;\n",
              "    }\n",
              "\n",
              "    .dataframe thead th {\n",
              "        text-align: right;\n",
              "    }\n",
              "</style>\n",
              "<table border=\"1\" class=\"dataframe\">\n",
              "  <thead>\n",
              "    <tr style=\"text-align: right;\">\n",
              "      <th></th>\n",
              "      <th>Frequency</th>\n",
              "      <th>actionName</th>\n",
              "    </tr>\n",
              "  </thead>\n",
              "  <tbody>\n",
              "    <tr>\n",
              "      <th>H11100</th>\n",
              "      <td>22995</td>\n",
              "      <td>Referred to the Committee</td>\n",
              "    </tr>\n",
              "    <tr>\n",
              "      <th>1000</th>\n",
              "      <td>22844</td>\n",
              "      <td>Introduced in House</td>\n",
              "    </tr>\n",
              "    <tr>\n",
              "      <th>Intro-H</th>\n",
              "      <td>22781</td>\n",
              "      <td>Introduced in House</td>\n",
              "    </tr>\n",
              "    <tr>\n",
              "      <th>10000</th>\n",
              "      <td>14710</td>\n",
              "      <td>Introduced in Senate</td>\n",
              "    </tr>\n",
              "    <tr>\n",
              "      <th>3000</th>\n",
              "      <td>14469</td>\n",
              "      <td>Referred to House subcommittee</td>\n",
              "    </tr>\n",
              "    <tr>\n",
              "      <th>11000</th>\n",
              "      <td>12256</td>\n",
              "      <td>Referred to Senate committee</td>\n",
              "    </tr>\n",
              "    <tr>\n",
              "      <th>H8D000</th>\n",
              "      <td>5977</td>\n",
              "      <td>DEBATE</td>\n",
              "    </tr>\n",
              "    <tr>\n",
              "      <th>4000</th>\n",
              "      <td>3550</td>\n",
              "      <td>House committee/subcommittee actions</td>\n",
              "    </tr>\n",
              "    <tr>\n",
              "      <th>H30000</th>\n",
              "      <td>3258</td>\n",
              "      <td>Consideration by House</td>\n",
              "    </tr>\n",
              "    <tr>\n",
              "      <th>5000</th>\n",
              "      <td>2972</td>\n",
              "      <td>Reported to House</td>\n",
              "    </tr>\n",
              "    <tr>\n",
              "      <th>4200</th>\n",
              "      <td>2942</td>\n",
              "      <td>House committee/subcommittee markups</td>\n",
              "    </tr>\n",
              "    <tr>\n",
              "      <th>13000</th>\n",
              "      <td>2460</td>\n",
              "      <td>Senate committee/subcommittee actions</td>\n",
              "    </tr>\n",
              "    <tr>\n",
              "      <th>8000</th>\n",
              "      <td>2424</td>\n",
              "      <td>Passed/agreed to in House</td>\n",
              "    </tr>\n",
              "    <tr>\n",
              "      <th>17000</th>\n",
              "      <td>2390</td>\n",
              "      <td>Passed/agreed to in Senate</td>\n",
              "    </tr>\n",
              "    <tr>\n",
              "      <th>H38310</th>\n",
              "      <td>2314</td>\n",
              "      <td>Motion To Reconsider Results</td>\n",
              "    </tr>\n",
              "    <tr>\n",
              "      <th>H37300</th>\n",
              "      <td>1911</td>\n",
              "      <td>Final Passage Under Suspension of the Rules Results</td>\n",
              "    </tr>\n",
              "    <tr>\n",
              "      <th>H30300</th>\n",
              "      <td>1911</td>\n",
              "      <td>Motion to suspend rules and pass bill</td>\n",
              "    </tr>\n",
              "    <tr>\n",
              "      <th>36000</th>\n",
              "      <td>1707</td>\n",
              "      <td>Became Public Law</td>\n",
              "    </tr>\n",
              "    <tr>\n",
              "      <th>H12200</th>\n",
              "      <td>1576</td>\n",
              "      <td>Committee reported</td>\n",
              "    </tr>\n",
              "    <tr>\n",
              "      <th>H12410</th>\n",
              "      <td>1554</td>\n",
              "      <td>Union Calendar assignment</td>\n",
              "    </tr>\n",
              "    <tr>\n",
              "      <th>16000</th>\n",
              "      <td>1415</td>\n",
              "      <td>Senate floor actions</td>\n",
              "    </tr>\n",
              "    <tr>\n",
              "      <th>SenateCal</th>\n",
              "      <td>1406</td>\n",
              "      <td>Placed on Senate Legislative Calendar</td>\n",
              "    </tr>\n",
              "    <tr>\n",
              "      <th>14000</th>\n",
              "      <td>1259</td>\n",
              "      <td>Reported to Senate</td>\n",
              "    </tr>\n",
              "    <tr>\n",
              "      <th>B00100</th>\n",
              "      <td>1126</td>\n",
              "      <td>Sponsor introductory remarks on measure</td>\n",
              "    </tr>\n",
              "    <tr>\n",
              "      <th>H12300</th>\n",
              "      <td>1046</td>\n",
              "      <td>Committee discharged</td>\n",
              "    </tr>\n",
              "    <tr>\n",
              "      <th>13100</th>\n",
              "      <td>1012</td>\n",
              "      <td>Senate committee/subcommittee hearings</td>\n",
              "    </tr>\n",
              "    <tr>\n",
              "      <th>E20000</th>\n",
              "      <td>866</td>\n",
              "      <td>Presented to President</td>\n",
              "    </tr>\n",
              "    <tr>\n",
              "      <th>4100</th>\n",
              "      <td>866</td>\n",
              "      <td>House committee/subcommittee hearings</td>\n",
              "    </tr>\n",
              "    <tr>\n",
              "      <th>28000</th>\n",
              "      <td>866</td>\n",
              "      <td>Presented to President</td>\n",
              "    </tr>\n",
              "    <tr>\n",
              "      <th>E30000</th>\n",
              "      <td>864</td>\n",
              "      <td>Signed by President</td>\n",
              "    </tr>\n",
              "    <tr>\n",
              "      <th>E40000</th>\n",
              "      <td>855</td>\n",
              "      <td>Became Public Law</td>\n",
              "    </tr>\n",
              "    <tr>\n",
              "      <th>H11100-A</th>\n",
              "      <td>687</td>\n",
              "      <td>NaN</td>\n",
              "    </tr>\n",
              "    <tr>\n",
              "      <th>H14000</th>\n",
              "      <td>648</td>\n",
              "      <td>Received in the House</td>\n",
              "    </tr>\n",
              "    <tr>\n",
              "      <th>H37220</th>\n",
              "      <td>598</td>\n",
              "      <td>Further proceedings postponed</td>\n",
              "    </tr>\n",
              "    <tr>\n",
              "      <th>5500</th>\n",
              "      <td>595</td>\n",
              "      <td>House committee discharged</td>\n",
              "    </tr>\n",
              "    <tr>\n",
              "      <th>H37100</th>\n",
              "      <td>531</td>\n",
              "      <td>Passed/agreed to in House</td>\n",
              "    </tr>\n",
              "    <tr>\n",
              "      <th>14500</th>\n",
              "      <td>451</td>\n",
              "      <td>Senate committee discharged</td>\n",
              "    </tr>\n",
              "    <tr>\n",
              "      <th>H15000</th>\n",
              "      <td>425</td>\n",
              "      <td>Held at the desk</td>\n",
              "    </tr>\n",
              "    <tr>\n",
              "      <th>H1L210</th>\n",
              "      <td>330</td>\n",
              "      <td>Rule provides for consideration of</td>\n",
              "    </tr>\n",
              "    <tr>\n",
              "      <th>H35000</th>\n",
              "      <td>306</td>\n",
              "      <td>The previous question was ordered pursuant to the rule</td>\n",
              "    </tr>\n",
              "    <tr>\n",
              "      <th>14900</th>\n",
              "      <td>233</td>\n",
              "      <td>Senate committee report filed after reporting</td>\n",
              "    </tr>\n",
              "    <tr>\n",
              "      <th>H30200</th>\n",
              "      <td>198</td>\n",
              "      <td>Motion to consider</td>\n",
              "    </tr>\n",
              "    <tr>\n",
              "      <th>H1L220</th>\n",
              "      <td>188</td>\n",
              "      <td>Rule passed/agreed in House</td>\n",
              "    </tr>\n",
              "    <tr>\n",
              "      <th>H8A000</th>\n",
              "      <td>181</td>\n",
              "      <td>Motion to recommit ordered</td>\n",
              "    </tr>\n",
              "    <tr>\n",
              "      <th>H38800</th>\n",
              "      <td>163</td>\n",
              "      <td>Title amended</td>\n",
              "    </tr>\n",
              "    <tr>\n",
              "      <th>H36100</th>\n",
              "      <td>156</td>\n",
              "      <td>NaN</td>\n",
              "    </tr>\n",
              "    <tr>\n",
              "      <th>H36110</th>\n",
              "      <td>156</td>\n",
              "      <td>NaN</td>\n",
              "    </tr>\n",
              "    <tr>\n",
              "      <th>20000</th>\n",
              "      <td>144</td>\n",
              "      <td>Resolving differences -- Senate actions</td>\n",
              "    </tr>\n",
              "    <tr>\n",
              "      <th>H1B000</th>\n",
              "      <td>143</td>\n",
              "      <td>Proceedings are considered vacated</td>\n",
              "    </tr>\n",
              "    <tr>\n",
              "      <th>H41610</th>\n",
              "      <td>131</td>\n",
              "      <td>Resolving differences -- House actions</td>\n",
              "    </tr>\n",
              "    <tr>\n",
              "      <th>H32700</th>\n",
              "      <td>117</td>\n",
              "      <td>NaN</td>\n",
              "    </tr>\n",
              "    <tr>\n",
              "      <th>H32050</th>\n",
              "      <td>116</td>\n",
              "      <td>NaN</td>\n",
              "    </tr>\n",
              "    <tr>\n",
              "      <th>H41931</th>\n",
              "      <td>116</td>\n",
              "      <td>Motion To Reconsider Results</td>\n",
              "    </tr>\n",
              "    <tr>\n",
              "      <th>19500</th>\n",
              "      <td>114</td>\n",
              "      <td>Resolving differences -- House actions</td>\n",
              "    </tr>\n",
              "    <tr>\n",
              "      <th>H32340</th>\n",
              "      <td>110</td>\n",
              "      <td>NaN</td>\n",
              "    </tr>\n",
              "    <tr>\n",
              "      <th>H32341</th>\n",
              "      <td>110</td>\n",
              "      <td>NaN</td>\n",
              "    </tr>\n",
              "    <tr>\n",
              "      <th>H32020</th>\n",
              "      <td>103</td>\n",
              "      <td>NaN</td>\n",
              "    </tr>\n",
              "    <tr>\n",
              "      <th>H32600</th>\n",
              "      <td>102</td>\n",
              "      <td>NaN</td>\n",
              "    </tr>\n",
              "    <tr>\n",
              "      <th>H32400</th>\n",
              "      <td>102</td>\n",
              "      <td>NaN</td>\n",
              "    </tr>\n",
              "    <tr>\n",
              "      <th>H41800</th>\n",
              "      <td>86</td>\n",
              "      <td>NaN</td>\n",
              "    </tr>\n",
              "    <tr>\n",
              "      <th>H34400</th>\n",
              "      <td>79</td>\n",
              "      <td>NaN</td>\n",
              "    </tr>\n",
              "    <tr>\n",
              "      <th>20500</th>\n",
              "      <td>66</td>\n",
              "      <td>Resolving differences -- Senate actions</td>\n",
              "    </tr>\n",
              "    <tr>\n",
              "      <th>H12100</th>\n",
              "      <td>63</td>\n",
              "      <td>Committee report of an original measure</td>\n",
              "    </tr>\n",
              "    <tr>\n",
              "      <th>H11210</th>\n",
              "      <td>59</td>\n",
              "      <td>House committee time extension</td>\n",
              "    </tr>\n",
              "    <tr>\n",
              "      <th>H37210</th>\n",
              "      <td>44</td>\n",
              "      <td>NaN</td>\n",
              "    </tr>\n",
              "    <tr>\n",
              "      <th>H40150</th>\n",
              "      <td>37</td>\n",
              "      <td>Resolving differences -- House actions</td>\n",
              "    </tr>\n",
              "    <tr>\n",
              "      <th>H38900</th>\n",
              "      <td>37</td>\n",
              "      <td>Clerk correction</td>\n",
              "    </tr>\n",
              "    <tr>\n",
              "      <th>H41400</th>\n",
              "      <td>37</td>\n",
              "      <td>The previous question was ordered pursuant to the rule</td>\n",
              "    </tr>\n",
              "    <tr>\n",
              "      <th>H40140</th>\n",
              "      <td>33</td>\n",
              "      <td>Resolving differences -- House actions</td>\n",
              "    </tr>\n",
              "    <tr>\n",
              "      <th>H36210</th>\n",
              "      <td>31</td>\n",
              "      <td>Motion to recommit Failed</td>\n",
              "    </tr>\n",
              "    <tr>\n",
              "      <th>H36200</th>\n",
              "      <td>31</td>\n",
              "      <td>Motion to recommit to Committee</td>\n",
              "    </tr>\n",
              "    <tr>\n",
              "      <th>H17000</th>\n",
              "      <td>30</td>\n",
              "      <td>Motion to Discharge Committee</td>\n",
              "    </tr>\n",
              "    <tr>\n",
              "      <th>H12420</th>\n",
              "      <td>27</td>\n",
              "      <td>House Calendar assignment</td>\n",
              "    </tr>\n",
              "    <tr>\n",
              "      <th>H40110</th>\n",
              "      <td>25</td>\n",
              "      <td>Resolving differences -- House actions</td>\n",
              "    </tr>\n",
              "    <tr>\n",
              "      <th>9000</th>\n",
              "      <td>19</td>\n",
              "      <td>Failed of passage/not agreed to in House</td>\n",
              "    </tr>\n",
              "    <tr>\n",
              "      <th>H12440</th>\n",
              "      <td>17</td>\n",
              "      <td>Motion to place bill on Consensus Calendar</td>\n",
              "    </tr>\n",
              "    <tr>\n",
              "      <th>H12210</th>\n",
              "      <td>17</td>\n",
              "      <td>Committee reported</td>\n",
              "    </tr>\n",
              "    <tr>\n",
              "      <th>20800</th>\n",
              "      <td>13</td>\n",
              "      <td>Conference committee actions</td>\n",
              "    </tr>\n",
              "    <tr>\n",
              "      <th>35000</th>\n",
              "      <td>12</td>\n",
              "      <td>Failed of passage in Senate over veto</td>\n",
              "    </tr>\n",
              "    <tr>\n",
              "      <th>H40142</th>\n",
              "      <td>12</td>\n",
              "      <td>NaN</td>\n",
              "    </tr>\n",
              "    <tr>\n",
              "      <th>31000</th>\n",
              "      <td>10</td>\n",
              "      <td>Vetoed by President</td>\n",
              "    </tr>\n",
              "    <tr>\n",
              "      <th>20900</th>\n",
              "      <td>10</td>\n",
              "      <td>Conference report filed</td>\n",
              "    </tr>\n",
              "    <tr>\n",
              "      <th>H25200</th>\n",
              "      <td>10</td>\n",
              "      <td>Conference report [free text] filed</td>\n",
              "    </tr>\n",
              "    <tr>\n",
              "      <th>H40200</th>\n",
              "      <td>9</td>\n",
              "      <td>NaN</td>\n",
              "    </tr>\n",
              "    <tr>\n",
              "      <th>SenateVetoCon</th>\n",
              "      <td>9</td>\n",
              "      <td>NaN</td>\n",
              "    </tr>\n",
              "    <tr>\n",
              "      <th>21000</th>\n",
              "      <td>9</td>\n",
              "      <td>Conference report agreed to in House</td>\n",
              "    </tr>\n",
              "    <tr>\n",
              "      <th>H42831</th>\n",
              "      <td>9</td>\n",
              "      <td>NaN</td>\n",
              "    </tr>\n",
              "    <tr>\n",
              "      <th>H42510</th>\n",
              "      <td>9</td>\n",
              "      <td>NaN</td>\n",
              "    </tr>\n",
              "    <tr>\n",
              "      <th>H11200</th>\n",
              "      <td>8</td>\n",
              "      <td>Sequential committee referral</td>\n",
              "    </tr>\n",
              "    <tr>\n",
              "      <th>SenateVetoRcvd</th>\n",
              "      <td>8</td>\n",
              "      <td>NaN</td>\n",
              "    </tr>\n",
              "    <tr>\n",
              "      <th>23000</th>\n",
              "      <td>8</td>\n",
              "      <td>Conference report agreed to in Senate</td>\n",
              "    </tr>\n",
              "    <tr>\n",
              "      <th>H42300</th>\n",
              "      <td>8</td>\n",
              "      <td>NaN</td>\n",
              "    </tr>\n",
              "    <tr>\n",
              "      <th>H82000</th>\n",
              "      <td>7</td>\n",
              "      <td>Motion to table Motion to Reconsider</td>\n",
              "    </tr>\n",
              "    <tr>\n",
              "      <th>H12430</th>\n",
              "      <td>5</td>\n",
              "      <td>NaN</td>\n",
              "    </tr>\n",
              "    <tr>\n",
              "      <th>18000</th>\n",
              "      <td>5</td>\n",
              "      <td>Failed of passage/not agreed to in Senate</td>\n",
              "    </tr>\n",
              "    <tr>\n",
              "      <th>H36610</th>\n",
              "      <td>4</td>\n",
              "      <td>Motion to table Motion to Reconsider Agreed</td>\n",
              "    </tr>\n",
              "    <tr>\n",
              "      <th>H40210</th>\n",
              "      <td>4</td>\n",
              "      <td>NaN</td>\n",
              "    </tr>\n",
              "    <tr>\n",
              "      <th>H40141</th>\n",
              "      <td>4</td>\n",
              "      <td>NaN</td>\n",
              "    </tr>\n",
              "    <tr>\n",
              "      <th>H32500</th>\n",
              "      <td>4</td>\n",
              "      <td>NaN</td>\n",
              "    </tr>\n",
              "    <tr>\n",
              "      <th>H43410</th>\n",
              "      <td>3</td>\n",
              "      <td>NaN</td>\n",
              "    </tr>\n",
              "    <tr>\n",
              "      <th>H40300</th>\n",
              "      <td>3</td>\n",
              "      <td>NaN</td>\n",
              "    </tr>\n",
              "    <tr>\n",
              "      <th>H36600</th>\n",
              "      <td>3</td>\n",
              "      <td>Motion to table Motion to Reconsider</td>\n",
              "    </tr>\n",
              "    <tr>\n",
              "      <th>H38300</th>\n",
              "      <td>3</td>\n",
              "      <td>NaN</td>\n",
              "    </tr>\n",
              "    <tr>\n",
              "      <th>H81000</th>\n",
              "      <td>2</td>\n",
              "      <td>Point of order against a motion</td>\n",
              "    </tr>\n",
              "    <tr>\n",
              "      <th>H30800</th>\n",
              "      <td>2</td>\n",
              "      <td>Consideration by House</td>\n",
              "    </tr>\n",
              "    <tr>\n",
              "      <th>H38400</th>\n",
              "      <td>2</td>\n",
              "      <td>Motion To Reconsider Results</td>\n",
              "    </tr>\n",
              "    <tr>\n",
              "      <th>H36810</th>\n",
              "      <td>2</td>\n",
              "      <td>NaN</td>\n",
              "    </tr>\n",
              "    <tr>\n",
              "      <th>41000</th>\n",
              "      <td>2</td>\n",
              "      <td>Became Private Law</td>\n",
              "    </tr>\n",
              "    <tr>\n",
              "      <th>H36800</th>\n",
              "      <td>2</td>\n",
              "      <td>NaN</td>\n",
              "    </tr>\n",
              "    <tr>\n",
              "      <th>33000</th>\n",
              "      <td>2</td>\n",
              "      <td>Failed of passage in House over veto</td>\n",
              "    </tr>\n",
              "    <tr>\n",
              "      <th>H40130</th>\n",
              "      <td>2</td>\n",
              "      <td>Resolving differences -- House actions</td>\n",
              "    </tr>\n",
              "    <tr>\n",
              "      <th>34000</th>\n",
              "      <td>1</td>\n",
              "      <td>Passed Senate over veto</td>\n",
              "    </tr>\n",
              "    <tr>\n",
              "      <th>H29800</th>\n",
              "      <td>1</td>\n",
              "      <td>NaN</td>\n",
              "    </tr>\n",
              "    <tr>\n",
              "      <th>H42411</th>\n",
              "      <td>1</td>\n",
              "      <td>NaN</td>\n",
              "    </tr>\n",
              "    <tr>\n",
              "      <th>H32351</th>\n",
              "      <td>1</td>\n",
              "      <td>NaN</td>\n",
              "    </tr>\n",
              "    <tr>\n",
              "      <th>H32350</th>\n",
              "      <td>1</td>\n",
              "      <td>NaN</td>\n",
              "    </tr>\n",
              "    <tr>\n",
              "      <th>32000</th>\n",
              "      <td>1</td>\n",
              "      <td>Passed House over veto</td>\n",
              "    </tr>\n",
              "    <tr>\n",
              "      <th>H38410</th>\n",
              "      <td>1</td>\n",
              "      <td>Motion to table Motion to Reconsider Agreed</td>\n",
              "    </tr>\n",
              "    <tr>\n",
              "      <th>H41930</th>\n",
              "      <td>1</td>\n",
              "      <td>Motion To Reconsider Results</td>\n",
              "    </tr>\n",
              "    <tr>\n",
              "      <th>H42410</th>\n",
              "      <td>1</td>\n",
              "      <td>NaN</td>\n",
              "    </tr>\n",
              "    <tr>\n",
              "      <th>H34200</th>\n",
              "      <td>1</td>\n",
              "      <td>NaN</td>\n",
              "    </tr>\n",
              "    <tr>\n",
              "      <th>H40310</th>\n",
              "      <td>1</td>\n",
              "      <td>NaN</td>\n",
              "    </tr>\n",
              "  </tbody>\n",
              "</table>\n",
              "</div>\n",
              "      <button class=\"colab-df-convert\" onclick=\"convertToInteractive('df-70d6039f-9a55-4d43-ba55-307d1cdb0c7f')\"\n",
              "              title=\"Convert this dataframe to an interactive table.\"\n",
              "              style=\"display:none;\">\n",
              "        \n",
              "  <svg xmlns=\"http://www.w3.org/2000/svg\" height=\"24px\"viewBox=\"0 0 24 24\"\n",
              "       width=\"24px\">\n",
              "    <path d=\"M0 0h24v24H0V0z\" fill=\"none\"/>\n",
              "    <path d=\"M18.56 5.44l.94 2.06.94-2.06 2.06-.94-2.06-.94-.94-2.06-.94 2.06-2.06.94zm-11 1L8.5 8.5l.94-2.06 2.06-.94-2.06-.94L8.5 2.5l-.94 2.06-2.06.94zm10 10l.94 2.06.94-2.06 2.06-.94-2.06-.94-.94-2.06-.94 2.06-2.06.94z\"/><path d=\"M17.41 7.96l-1.37-1.37c-.4-.4-.92-.59-1.43-.59-.52 0-1.04.2-1.43.59L10.3 9.45l-7.72 7.72c-.78.78-.78 2.05 0 2.83L4 21.41c.39.39.9.59 1.41.59.51 0 1.02-.2 1.41-.59l7.78-7.78 2.81-2.81c.8-.78.8-2.07 0-2.86zM5.41 20L4 18.59l7.72-7.72 1.47 1.35L5.41 20z\"/>\n",
              "  </svg>\n",
              "      </button>\n",
              "      \n",
              "  <style>\n",
              "    .colab-df-container {\n",
              "      display:flex;\n",
              "      flex-wrap:wrap;\n",
              "      gap: 12px;\n",
              "    }\n",
              "\n",
              "    .colab-df-convert {\n",
              "      background-color: #E8F0FE;\n",
              "      border: none;\n",
              "      border-radius: 50%;\n",
              "      cursor: pointer;\n",
              "      display: none;\n",
              "      fill: #1967D2;\n",
              "      height: 32px;\n",
              "      padding: 0 0 0 0;\n",
              "      width: 32px;\n",
              "    }\n",
              "\n",
              "    .colab-df-convert:hover {\n",
              "      background-color: #E2EBFA;\n",
              "      box-shadow: 0px 1px 2px rgba(60, 64, 67, 0.3), 0px 1px 3px 1px rgba(60, 64, 67, 0.15);\n",
              "      fill: #174EA6;\n",
              "    }\n",
              "\n",
              "    [theme=dark] .colab-df-convert {\n",
              "      background-color: #3B4455;\n",
              "      fill: #D2E3FC;\n",
              "    }\n",
              "\n",
              "    [theme=dark] .colab-df-convert:hover {\n",
              "      background-color: #434B5C;\n",
              "      box-shadow: 0px 1px 3px 1px rgba(0, 0, 0, 0.15);\n",
              "      filter: drop-shadow(0px 1px 2px rgba(0, 0, 0, 0.3));\n",
              "      fill: #FFFFFF;\n",
              "    }\n",
              "  </style>\n",
              "\n",
              "      <script>\n",
              "        const buttonEl =\n",
              "          document.querySelector('#df-70d6039f-9a55-4d43-ba55-307d1cdb0c7f button.colab-df-convert');\n",
              "        buttonEl.style.display =\n",
              "          google.colab.kernel.accessAllowed ? 'block' : 'none';\n",
              "\n",
              "        async function convertToInteractive(key) {\n",
              "          const element = document.querySelector('#df-70d6039f-9a55-4d43-ba55-307d1cdb0c7f');\n",
              "          const dataTable =\n",
              "            await google.colab.kernel.invokeFunction('convertToInteractive',\n",
              "                                                     [key], {});\n",
              "          if (!dataTable) return;\n",
              "\n",
              "          const docLinkHtml = 'Like what you see? Visit the ' +\n",
              "            '<a target=\"_blank\" href=https://colab.research.google.com/notebooks/data_table.ipynb>data table notebook</a>'\n",
              "            + ' to learn more about interactive tables.';\n",
              "          element.innerHTML = '';\n",
              "          dataTable['output_type'] = 'display_data';\n",
              "          await google.colab.output.renderOutput(dataTable, element);\n",
              "          const docLink = document.createElement('div');\n",
              "          docLink.innerHTML = docLinkHtml;\n",
              "          element.appendChild(docLink);\n",
              "        }\n",
              "      </script>\n",
              "    </div>\n",
              "  </div>\n",
              "  "
            ],
            "text/plain": [
              "                Frequency                                              actionName\n",
              "H11100              22995                               Referred to the Committee\n",
              "1000                22844                                     Introduced in House\n",
              "Intro-H             22781                                     Introduced in House\n",
              "10000               14710                                    Introduced in Senate\n",
              "3000                14469                          Referred to House subcommittee\n",
              "11000               12256                            Referred to Senate committee\n",
              "H8D000               5977                                                  DEBATE\n",
              "4000                 3550                    House committee/subcommittee actions\n",
              "H30000               3258                                  Consideration by House\n",
              "5000                 2972                                       Reported to House\n",
              "4200                 2942                    House committee/subcommittee markups\n",
              "13000                2460                   Senate committee/subcommittee actions\n",
              "8000                 2424                               Passed/agreed to in House\n",
              "17000                2390                              Passed/agreed to in Senate\n",
              "H38310               2314                            Motion To Reconsider Results\n",
              "H37300               1911     Final Passage Under Suspension of the Rules Results\n",
              "H30300               1911                   Motion to suspend rules and pass bill\n",
              "36000                1707                                       Became Public Law\n",
              "H12200               1576                                      Committee reported\n",
              "H12410               1554                               Union Calendar assignment\n",
              "16000                1415                                    Senate floor actions\n",
              "SenateCal            1406                   Placed on Senate Legislative Calendar\n",
              "14000                1259                                      Reported to Senate\n",
              "B00100               1126                 Sponsor introductory remarks on measure\n",
              "H12300               1046                                    Committee discharged\n",
              "13100                1012                  Senate committee/subcommittee hearings\n",
              "E20000                866                                  Presented to President\n",
              "4100                  866                   House committee/subcommittee hearings\n",
              "28000                 866                                  Presented to President\n",
              "E30000                864                                     Signed by President\n",
              "E40000                855                                       Became Public Law\n",
              "H11100-A              687                                                     NaN\n",
              "H14000                648                                   Received in the House\n",
              "H37220                598                           Further proceedings postponed\n",
              "5500                  595                              House committee discharged\n",
              "H37100                531                               Passed/agreed to in House\n",
              "14500                 451                             Senate committee discharged\n",
              "H15000                425                                        Held at the desk\n",
              "H1L210                330                      Rule provides for consideration of\n",
              "H35000                306  The previous question was ordered pursuant to the rule\n",
              "14900                 233           Senate committee report filed after reporting\n",
              "H30200                198                                      Motion to consider\n",
              "H1L220                188                             Rule passed/agreed in House\n",
              "H8A000                181                              Motion to recommit ordered\n",
              "H38800                163                                           Title amended\n",
              "H36100                156                                                     NaN\n",
              "H36110                156                                                     NaN\n",
              "20000                 144                 Resolving differences -- Senate actions\n",
              "H1B000                143                      Proceedings are considered vacated\n",
              "H41610                131                  Resolving differences -- House actions\n",
              "H32700                117                                                     NaN\n",
              "H32050                116                                                     NaN\n",
              "H41931                116                            Motion To Reconsider Results\n",
              "19500                 114                  Resolving differences -- House actions\n",
              "H32340                110                                                     NaN\n",
              "H32341                110                                                     NaN\n",
              "H32020                103                                                     NaN\n",
              "H32600                102                                                     NaN\n",
              "H32400                102                                                     NaN\n",
              "H41800                 86                                                     NaN\n",
              "H34400                 79                                                     NaN\n",
              "20500                  66                 Resolving differences -- Senate actions\n",
              "H12100                 63                 Committee report of an original measure\n",
              "H11210                 59                          House committee time extension\n",
              "H37210                 44                                                     NaN\n",
              "H40150                 37                  Resolving differences -- House actions\n",
              "H38900                 37                                        Clerk correction\n",
              "H41400                 37  The previous question was ordered pursuant to the rule\n",
              "H40140                 33                  Resolving differences -- House actions\n",
              "H36210                 31                               Motion to recommit Failed\n",
              "H36200                 31                         Motion to recommit to Committee\n",
              "H17000                 30                           Motion to Discharge Committee\n",
              "H12420                 27                               House Calendar assignment\n",
              "H40110                 25                  Resolving differences -- House actions\n",
              "9000                   19                Failed of passage/not agreed to in House\n",
              "H12440                 17              Motion to place bill on Consensus Calendar\n",
              "H12210                 17                                      Committee reported\n",
              "20800                  13                            Conference committee actions\n",
              "35000                  12                   Failed of passage in Senate over veto\n",
              "H40142                 12                                                     NaN\n",
              "31000                  10                                     Vetoed by President\n",
              "20900                  10                                 Conference report filed\n",
              "H25200                 10                     Conference report [free text] filed\n",
              "H40200                  9                                                     NaN\n",
              "SenateVetoCon           9                                                     NaN\n",
              "21000                   9                    Conference report agreed to in House\n",
              "H42831                  9                                                     NaN\n",
              "H42510                  9                                                     NaN\n",
              "H11200                  8                           Sequential committee referral\n",
              "SenateVetoRcvd          8                                                     NaN\n",
              "23000                   8                   Conference report agreed to in Senate\n",
              "H42300                  8                                                     NaN\n",
              "H82000                  7                    Motion to table Motion to Reconsider\n",
              "H12430                  5                                                     NaN\n",
              "18000                   5               Failed of passage/not agreed to in Senate\n",
              "H36610                  4             Motion to table Motion to Reconsider Agreed\n",
              "H40210                  4                                                     NaN\n",
              "H40141                  4                                                     NaN\n",
              "H32500                  4                                                     NaN\n",
              "H43410                  3                                                     NaN\n",
              "H40300                  3                                                     NaN\n",
              "H36600                  3                    Motion to table Motion to Reconsider\n",
              "H38300                  3                                                     NaN\n",
              "H81000                  2                         Point of order against a motion\n",
              "H30800                  2                                  Consideration by House\n",
              "H38400                  2                            Motion To Reconsider Results\n",
              "H36810                  2                                                     NaN\n",
              "41000                   2                                      Became Private Law\n",
              "H36800                  2                                                     NaN\n",
              "33000                   2                    Failed of passage in House over veto\n",
              "H40130                  2                  Resolving differences -- House actions\n",
              "34000                   1                                 Passed Senate over veto\n",
              "H29800                  1                                                     NaN\n",
              "H42411                  1                                                     NaN\n",
              "H32351                  1                                                     NaN\n",
              "H32350                  1                                                     NaN\n",
              "32000                   1                                  Passed House over veto\n",
              "H38410                  1             Motion to table Motion to Reconsider Agreed\n",
              "H41930                  1                            Motion To Reconsider Results\n",
              "H42410                  1                                                     NaN\n",
              "H34200                  1                                                     NaN\n",
              "H40310                  1                                                     NaN"
            ]
          },
          "metadata": {},
          "execution_count": 73
        }
      ]
    },
    {
      "cell_type": "markdown",
      "source": [
        "Due to time constraints, new codes that are missing action names with fewer than 5 occurrences are not being incorporated into the dictionary."
      ],
      "metadata": {
        "id": "y38_ahTX_6HL"
      }
    },
    {
      "cell_type": "code",
      "source": [
        "new_dict2 = {'H11100-A' : \"Referred to Multiple Committees\",\n",
        "             'H36100' : \"Motion to recommit to Committee\",  # similar to H36200\n",
        "             'H36110' : \"Motion to recommit Failed\", # similar to H36210\n",
        "             'H32700' : \"Leaves as unfinished business\",\n",
        "             'H32050' : \"Resolved into Committee of the Whole House\",\n",
        "             'H32340' : \"Motion to rise\",\n",
        "             'H32341' : \"Motion to rise agreed\",\n",
        "             'H32020' : \"Resolved into Committee of the Whole House\", # similar to H32050\n",
        "             'H32600' : \"House rose to report\",\n",
        "             'H32400' : \"Speaker designated Committee Chairperson\",\n",
        "             'H41800' : \"Speaker appointed conferees\",\n",
        "             'H34400' : actionCode_dict['72500'], # Amendment adopted\n",
        "             'H37210' : 'Further proceedings postponed', # similar to H37220\n",
        "             'H40142' : 'Further proceedings postponed', # similar to H37220\n",
        "             'H40200' : 'Conference report considered',\t# Should occur sometime after 20900\n",
        "             'SenateVetoCon' : 'Veto considered in Senate',\n",
        "             'SenateVetoRcvd' : 'Veto received in Senate',\n",
        "             'H42831' : 'Motion to Reconsider agreed',\n",
        "             'H42510' : actionCode_dict['21000'],  # Conference Report agreed\n",
        "             'H42300' : \"The previous question was ordered pursuant to the rule\",\n",
        "             'H12430' : 'Calendar Assignment'}            "
      ],
      "metadata": {
        "id": "HeutjxMSEIVv"
      },
      "execution_count": 103,
      "outputs": []
    },
    {
      "cell_type": "code",
      "source": [
        "view = df.loc[df['actionCode'] == 'H12430']\n",
        "pd.set_option('display.max_colwidth', None)\n",
        "view.text"
      ],
      "metadata": {
        "id": "SpxQGW_cE0N4",
        "colab": {
          "base_uri": "https://localhost:8080/"
        },
        "outputId": "e3170b43-003e-43f6-c3b2-98eae47d663a"
      },
      "execution_count": 104,
      "outputs": [
        {
          "output_type": "execute_result",
          "data": {
            "text/plain": [
              "105107    Placed on the Private Calendar, Calendar No. 1.\n",
              "123649    Placed on the Private Calendar, Calendar No. 3.\n",
              "136492    Placed on the Private Calendar, Calendar No. 2.\n",
              "140223    Placed on the Private Calendar, Calendar No. 4.\n",
              "142299    Placed on the Private Calendar, Calendar No. 5.\n",
              "Name: text, dtype: object"
            ]
          },
          "metadata": {},
          "execution_count": 104
        }
      ]
    },
    {
      "cell_type": "markdown",
      "source": [
        "We will write a new .csv file documenting the new action code names we have created."
      ],
      "metadata": {
        "id": "A_-FkelrlpU-"
      }
    },
    {
      "cell_type": "code",
      "source": [
        "new_dict2_df = pd.DataFrame.from_dict(new_dict2, orient='index') \n",
        "new_dict2_df.index.names = ['Code']\n",
        "new_dict2_df.columns = ['Action']\n",
        "# Line to write file commented out\n",
        "#new_dict2_df.to_csv (r'createdCodeNames2_dict.csv', index = True, header=True)"
      ],
      "metadata": {
        "id": "sg4UBIQ0jQoJ"
      },
      "execution_count": 105,
      "outputs": []
    },
    {
      "cell_type": "markdown",
      "source": [
        "We will create a combined dictionary of existing codes and names and our new names, and then write a new .csv file documenting all of the action codes and names to use for our analysis.\n"
      ],
      "metadata": {
        "id": "ZNTqR2w9l3Pb"
      }
    },
    {
      "cell_type": "code",
      "source": [
        "updatedCode_dict = {**actionCode_dict, **new_dict2}\n",
        "updatedCode_dict"
      ],
      "metadata": {
        "colab": {
          "base_uri": "https://localhost:8080/"
        },
        "id": "Ex4rNi91l_fS",
        "outputId": "9018483f-108b-4484-e322-359c64b86b38"
      },
      "execution_count": 106,
      "outputs": [
        {
          "output_type": "execute_result",
          "data": {
            "text/plain": [
              "{'1000': 'Introduced in House',\n",
              " '10000': 'Introduced in Senate',\n",
              " '11000': 'Referred to Senate committee',\n",
              " '12000': 'Referred to Senate subcommittee',\n",
              " '13000': 'Senate committee/subcommittee actions',\n",
              " '13100': 'Senate committee/subcommittee hearings',\n",
              " '13200': 'Senate committee/subcommittee markups',\n",
              " '13900': 'Senate committee time extension',\n",
              " '14000': 'Reported to Senate',\n",
              " '14500': 'Senate committee discharged',\n",
              " '14900': 'Senate committee report filed after reporting',\n",
              " '16000': 'Senate floor actions',\n",
              " '17000': 'Passed/agreed to in Senate',\n",
              " '18000': 'Failed of passage/not agreed to in Senate',\n",
              " '19000': 'Resolving differences -- House actions',\n",
              " '19500': 'Resolving differences -- House actions',\n",
              " '2000': 'Referred to House committee',\n",
              " '20000': 'Resolving differences -- Senate actions',\n",
              " '20500': 'Resolving differences -- Senate actions',\n",
              " '20800': 'Conference committee actions',\n",
              " '20900': 'Conference report filed',\n",
              " '21000': 'Conference report agreed to in House',\n",
              " '22000': 'Conference report disagreed to in House',\n",
              " '23000': 'Conference report agreed to in Senate',\n",
              " '24000': 'Conference report disagreed to in Senate',\n",
              " '25000': 'Roll call votes on measures in House',\n",
              " '26000': 'Roll call votes on measures in Senate',\n",
              " '28000': 'Presented to President',\n",
              " '29000': 'Signed by President',\n",
              " '29100': 'Sent to Archivist unsigned by President',\n",
              " '3000': 'Referred to House subcommittee',\n",
              " '30000': 'Pocket vetoed by President',\n",
              " '31000': 'Vetoed by President',\n",
              " '32000': 'Passed House over veto',\n",
              " '33000': 'Failed of passage in House over veto',\n",
              " '34000': 'Passed Senate over veto',\n",
              " '35000': 'Failed of passage in Senate over veto',\n",
              " '36000': 'Became Public Law',\n",
              " '37000': 'Public Law signed by President',\n",
              " '38000': 'Public Law unsigned by President',\n",
              " '39000': 'Public Law enacted over veto',\n",
              " '4000': 'House committee/subcommittee actions',\n",
              " '40000': 'Public Law by other means',\n",
              " '4100': 'House committee/subcommittee hearings',\n",
              " '41000': 'Became Private Law',\n",
              " '4200': 'House committee/subcommittee markups',\n",
              " '42000': 'Private Law signed by President',\n",
              " '43000': 'Private Law unsigned by President',\n",
              " '44000': 'Private Law enacted over veto',\n",
              " '45000': 'Private Law by other means',\n",
              " '46000': 'Line item veto by President',\n",
              " '47000': 'Disapproval bill in House',\n",
              " '48000': 'Disapproval bill in Senate',\n",
              " '4900': 'House committee time extension',\n",
              " '4950': 'House discharge petition filed',\n",
              " '5000': 'Reported to House',\n",
              " '5500': 'House committee discharged',\n",
              " '7000': 'House floor actions',\n",
              " '71000': 'House amendment offered',\n",
              " '72000': 'House amendment agreed to',\n",
              " '72500': 'House amendment considered as adopted',\n",
              " '73000': 'House amendment not agreed to',\n",
              " '74000': 'Other House amendment actions',\n",
              " '75000': 'Roll call votes on amendments in House',\n",
              " '8000': 'Passed/agreed to in House',\n",
              " '9000': 'Failed of passage/not agreed to in House',\n",
              " '91000': 'Senate amendment submitted',\n",
              " '92000': 'Senate amendment referred to committee',\n",
              " '93000': 'Senate amendment proposed (on the floor)',\n",
              " '94000': 'Senate amendment agreed to',\n",
              " '95000': 'Senate amendment not agreed to',\n",
              " '96000': 'Other Senate amendment actions',\n",
              " '97000': 'Roll call votes on amendments in Senate',\n",
              " 'B00100': 'Sponsor introductory remarks on measure',\n",
              " 'E20000': 'Presented to President',\n",
              " 'E30000': 'Signed by President',\n",
              " 'E40000': 'Became Public Law',\n",
              " 'H11100': 'Referred to the Committee',\n",
              " 'H11100-A': 'Referred to Multiple Committees',\n",
              " 'H11200': 'Sequential committee referral',\n",
              " 'H11210': 'House committee time extension',\n",
              " 'H12100': 'Committee report of an original measure',\n",
              " 'H12200': 'Committee reported',\n",
              " 'H12210': 'Committee reported',\n",
              " 'H12300': 'Committee discharged',\n",
              " 'H12410': 'Union Calendar assignment',\n",
              " 'H12420': 'House Calendar assignment',\n",
              " 'H12430': 'Calendar Assignment',\n",
              " 'H12440': 'Motion to place bill on Consensus Calendar',\n",
              " 'H14000': 'Received in the House',\n",
              " 'H15000': 'Held at the desk',\n",
              " 'H17000': 'Motion to Discharge Committee',\n",
              " 'H1B000': 'Proceedings are considered vacated',\n",
              " 'H1L210': 'Rule provides for consideration of',\n",
              " 'H1L220': 'Rule passed/agreed in House',\n",
              " 'H25200': 'Conference report [free text] filed',\n",
              " 'H30000': 'Consideration by House',\n",
              " 'H30200': 'Motion to consider',\n",
              " 'H30300': 'Motion to suspend rules and pass bill',\n",
              " 'H30800': 'Consideration by House',\n",
              " 'H32020': 'Resolved into Committee of the Whole House',\n",
              " 'H32050': 'Resolved into Committee of the Whole House',\n",
              " 'H32340': 'Motion to rise',\n",
              " 'H32341': 'Motion to rise agreed',\n",
              " 'H32400': 'Speaker designated Committee Chairperson',\n",
              " 'H32600': 'House rose to report',\n",
              " 'H32700': 'Leaves as unfinished business',\n",
              " 'H34400': 'House amendment considered as adopted',\n",
              " 'H35000': 'The previous question was ordered pursuant to the rule',\n",
              " 'H36100': 'Motion to recommit to Committee',\n",
              " 'H36110': 'Motion to recommit Failed',\n",
              " 'H36200': 'Motion to recommit to Committee',\n",
              " 'H36210': 'Motion to recommit Failed',\n",
              " 'H36600': 'Motion to table Motion to Reconsider',\n",
              " 'H36610': 'Motion to table Motion to Reconsider Agreed',\n",
              " 'H37100': 'Passed/agreed to in House',\n",
              " 'H37210': 'Further proceedings postponed',\n",
              " 'H37220': 'Further proceedings postponed',\n",
              " 'H37300': 'Final Passage Under Suspension of the Rules Results',\n",
              " 'H38310': 'Motion To Reconsider Results',\n",
              " 'H38400': 'Motion To Reconsider Results',\n",
              " 'H38410': 'Motion to table Motion to Reconsider Agreed',\n",
              " 'H38800': 'Title amended',\n",
              " 'H38900': 'Clerk correction',\n",
              " 'H40110': 'Resolving differences -- House actions',\n",
              " 'H40130': 'Resolving differences -- House actions',\n",
              " 'H40140': 'Resolving differences -- House actions',\n",
              " 'H40142': 'Further proceedings postponed',\n",
              " 'H40150': 'Resolving differences -- House actions',\n",
              " 'H40200': 'Conference report considered',\n",
              " 'H41400': 'The previous question was ordered pursuant to the rule',\n",
              " 'H41610': 'Resolving differences -- House actions',\n",
              " 'H41800': 'Speaker appointed conferees',\n",
              " 'H41930': 'Motion To Reconsider Results',\n",
              " 'H41931': 'Motion To Reconsider Results',\n",
              " 'H42300': 'The previous question was ordered pursuant to the rule',\n",
              " 'H42510': 'Conference report agreed to in House',\n",
              " 'H42831': 'Motion to Reconsider agreed',\n",
              " 'H81000': 'Point of order against a motion',\n",
              " 'H82000': 'Motion to table Motion to Reconsider',\n",
              " 'H8A000': 'Motion to recommit ordered',\n",
              " 'H8D000': 'DEBATE',\n",
              " 'Intro-H': 'Introduced in House',\n",
              " 'SenateCal': 'Placed on Senate Legislative Calendar',\n",
              " 'SenateVetoCon': 'Veto considered in Senate',\n",
              " 'SenateVetoRcvd': 'Veto received in Senate'}"
            ]
          },
          "metadata": {},
          "execution_count": 106
        }
      ]
    },
    {
      "cell_type": "code",
      "source": [
        "len(updatedCode_dict)"
      ],
      "metadata": {
        "colab": {
          "base_uri": "https://localhost:8080/"
        },
        "id": "pBgwoHjmAPRh",
        "outputId": "ab80b4fc-713b-439e-ae71-258adeff0142"
      },
      "execution_count": 108,
      "outputs": [
        {
          "output_type": "execute_result",
          "data": {
            "text/plain": [
              "146"
            ]
          },
          "metadata": {},
          "execution_count": 108
        }
      ]
    },
    {
      "cell_type": "code",
      "source": [
        "updatedCode_dict_df = pd.DataFrame.from_dict(updatedCode_dict, orient='index') \n",
        "updatedCode_dict_df.index.names = ['Code']\n",
        "updatedCode_dict_df.columns = ['Action']\n",
        "# Line to write file commented out\n",
        "#updatedCode_dict_df.to_csv (r'updatedCodes_dict.csv', index = True, header=True)"
      ],
      "metadata": {
        "id": "WAS40uD_m6H3"
      },
      "execution_count": 109,
      "outputs": []
    }
  ]
}