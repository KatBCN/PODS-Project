{
  "nbformat": 4,
  "nbformat_minor": 0,
  "metadata": {
    "colab": {
      "name": "MissingActionCodes.ipynb",
      "provenance": [],
      "collapsed_sections": [],
      "authorship_tag": "ABX9TyOU4aQbkghR7ElB8weKrGlk",
      "include_colab_link": true
    },
    "kernelspec": {
      "name": "python3",
      "display_name": "Python 3"
    },
    "language_info": {
      "name": "python"
    }
  },
  "cells": [
    {
      "cell_type": "markdown",
      "metadata": {
        "id": "view-in-github",
        "colab_type": "text"
      },
      "source": [
        "<a href=\"https://colab.research.google.com/github/KatBCN/PODS-Project/blob/main/MissingActionCodes.ipynb\" target=\"_parent\"><img src=\"https://colab.research.google.com/assets/colab-badge.svg\" alt=\"Open In Colab\"/></a>"
      ]
    },
    {
      "cell_type": "code",
      "execution_count": 1,
      "metadata": {
        "id": "T7SyYuwXdgs5"
      },
      "outputs": [],
      "source": [
        "import pandas as pd\n",
        "import datetime"
      ]
    },
    {
      "cell_type": "code",
      "source": [
        "# Import raw data from Github link\n",
        "dfRaw = pd.read_csv(\"https://raw.githubusercontent.com/KatBCN/PODS-Project/Irene/obtain_data/data/117Congress_BillActions_RAW.csv\")\n",
        "\n",
        "# Import action code dictionary from Github link\n",
        "actionCode_df = pd.read_csv(\"https://raw.githubusercontent.com/KatBCN/PODS-Project/Irene/obtain_data/data/actionCode_dict.csv\", sep = '\\t', )[['Code','Action']]\n",
        "actionCode_df.columns = ['actionCode','actionName']"
      ],
      "metadata": {
        "id": "SV5BbwsdeIcc"
      },
      "execution_count": 2,
      "outputs": []
    },
    {
      "cell_type": "code",
      "source": [
        "# Show shape of raw data frame\n",
        "dfRaw.shape"
      ],
      "metadata": {
        "colab": {
          "base_uri": "https://localhost:8080/"
        },
        "id": "cvazC_5WeQw-",
        "outputId": "b8ce9b6a-4c29-41c3-84a4-b277667cc5fa"
      },
      "execution_count": 3,
      "outputs": [
        {
          "output_type": "execute_result",
          "data": {
            "text/plain": [
              "(33020, 11)"
            ]
          },
          "metadata": {},
          "execution_count": 3
        }
      ]
    },
    {
      "cell_type": "code",
      "source": [
        "# Show column titles and types\n",
        "dfRaw.dtypes"
      ],
      "metadata": {
        "colab": {
          "base_uri": "https://localhost:8080/"
        },
        "id": "a8aP39dGeb6R",
        "outputId": "931a2dfc-8ea4-4f36-914c-0a9e47d6776d"
      },
      "execution_count": 4,
      "outputs": [
        {
          "output_type": "execute_result",
          "data": {
            "text/plain": [
              "billTitle            object\n",
              "billNumber            int64\n",
              "billType             object\n",
              "congress              int64\n",
              "fullDate             object\n",
              "actionCode           object\n",
              "actionName           object\n",
              "type                 object\n",
              "sourceSystem/name    object\n",
              "text                 object\n",
              "billOriginalTitle    object\n",
              "dtype: object"
            ]
          },
          "metadata": {},
          "execution_count": 4
        }
      ]
    },
    {
      "cell_type": "code",
      "source": [
        "# Assign data types\n",
        "dfRaw = dfRaw.astype({'billNumber':object, 'congress':object, 'fullDate':'datetime64'})"
      ],
      "metadata": {
        "id": "PxGQ9WsqlM17"
      },
      "execution_count": 5,
      "outputs": []
    },
    {
      "cell_type": "code",
      "source": [
        "# Check for duplicates\n",
        "sum(dfRaw.duplicated())"
      ],
      "metadata": {
        "colab": {
          "base_uri": "https://localhost:8080/"
        },
        "id": "p7uAx3Y5h0E7",
        "outputId": "4c788934-2ac3-4b37-d77b-c707ab8b7089"
      },
      "execution_count": 6,
      "outputs": [
        {
          "output_type": "execute_result",
          "data": {
            "text/plain": [
              "0"
            ]
          },
          "metadata": {},
          "execution_count": 6
        }
      ]
    },
    {
      "cell_type": "code",
      "source": [
        "# Show first 5 rows of data\n",
        "dfRaw.head(5)"
      ],
      "metadata": {
        "colab": {
          "base_uri": "https://localhost:8080/",
          "height": 686
        },
        "id": "axI1TERXe2lH",
        "outputId": "35d64342-975b-4043-eeae-ea02e399712a"
      },
      "execution_count": 7,
      "outputs": [
        {
          "output_type": "execute_result",
          "data": {
            "text/html": [
              "\n",
              "  <div id=\"df-c52d3960-36c3-40af-8126-dcdeddeddfb2\">\n",
              "    <div class=\"colab-df-container\">\n",
              "      <div>\n",
              "<style scoped>\n",
              "    .dataframe tbody tr th:only-of-type {\n",
              "        vertical-align: middle;\n",
              "    }\n",
              "\n",
              "    .dataframe tbody tr th {\n",
              "        vertical-align: top;\n",
              "    }\n",
              "\n",
              "    .dataframe thead th {\n",
              "        text-align: right;\n",
              "    }\n",
              "</style>\n",
              "<table border=\"1\" class=\"dataframe\">\n",
              "  <thead>\n",
              "    <tr style=\"text-align: right;\">\n",
              "      <th></th>\n",
              "      <th>billTitle</th>\n",
              "      <th>billNumber</th>\n",
              "      <th>billType</th>\n",
              "      <th>congress</th>\n",
              "      <th>fullDate</th>\n",
              "      <th>actionCode</th>\n",
              "      <th>actionName</th>\n",
              "      <th>type</th>\n",
              "      <th>sourceSystem/name</th>\n",
              "      <th>text</th>\n",
              "      <th>billOriginalTitle</th>\n",
              "    </tr>\n",
              "  </thead>\n",
              "  <tbody>\n",
              "    <tr>\n",
              "      <th>0</th>\n",
              "      <td>Proposing an amendment to the Constitution of ...</td>\n",
              "      <td>1</td>\n",
              "      <td>HJRES</td>\n",
              "      <td>117</td>\n",
              "      <td>2021-01-04</td>\n",
              "      <td>1000</td>\n",
              "      <td>Introduced in House</td>\n",
              "      <td>IntroReferral</td>\n",
              "      <td>Library of Congress</td>\n",
              "      <td>Introduced in House</td>\n",
              "      <td>Proposing an amendment to the Constitution of ...</td>\n",
              "    </tr>\n",
              "    <tr>\n",
              "      <th>1</th>\n",
              "      <td>Proposing an amendment to the Constitution of ...</td>\n",
              "      <td>1</td>\n",
              "      <td>HJRES</td>\n",
              "      <td>117</td>\n",
              "      <td>2021-01-04</td>\n",
              "      <td>H11100</td>\n",
              "      <td>Referred to the Committee</td>\n",
              "      <td>IntroReferral</td>\n",
              "      <td>House floor actions</td>\n",
              "      <td>Referred to the House Committee on the Judiciary.</td>\n",
              "      <td>Proposing an amendment to the Constitution of ...</td>\n",
              "    </tr>\n",
              "    <tr>\n",
              "      <th>2</th>\n",
              "      <td>Proposing an amendment to the Constitution of ...</td>\n",
              "      <td>1</td>\n",
              "      <td>HJRES</td>\n",
              "      <td>117</td>\n",
              "      <td>2021-01-04</td>\n",
              "      <td>Intro-H</td>\n",
              "      <td>NaN</td>\n",
              "      <td>IntroReferral</td>\n",
              "      <td>Library of Congress</td>\n",
              "      <td>Introduced in House</td>\n",
              "      <td>Proposing an amendment to the Constitution of ...</td>\n",
              "    </tr>\n",
              "    <tr>\n",
              "      <th>3</th>\n",
              "      <td>Proposing an amendment to the Constitution of ...</td>\n",
              "      <td>1</td>\n",
              "      <td>HJRES</td>\n",
              "      <td>117</td>\n",
              "      <td>2021-03-04</td>\n",
              "      <td>NaN</td>\n",
              "      <td>NaN</td>\n",
              "      <td>Committee</td>\n",
              "      <td>House committee actions</td>\n",
              "      <td>Referred to the Subcommittee on the Constituti...</td>\n",
              "      <td>Proposing an amendment to the Constitution of ...</td>\n",
              "    </tr>\n",
              "    <tr>\n",
              "      <th>4</th>\n",
              "      <td>Expressing support for designation of Septembe...</td>\n",
              "      <td>10</td>\n",
              "      <td>HJRES</td>\n",
              "      <td>117</td>\n",
              "      <td>2021-01-04</td>\n",
              "      <td>1000</td>\n",
              "      <td>Introduced in House</td>\n",
              "      <td>IntroReferral</td>\n",
              "      <td>Library of Congress</td>\n",
              "      <td>Introduced in House</td>\n",
              "      <td>Expressing support for designation of Septembe...</td>\n",
              "    </tr>\n",
              "  </tbody>\n",
              "</table>\n",
              "</div>\n",
              "      <button class=\"colab-df-convert\" onclick=\"convertToInteractive('df-c52d3960-36c3-40af-8126-dcdeddeddfb2')\"\n",
              "              title=\"Convert this dataframe to an interactive table.\"\n",
              "              style=\"display:none;\">\n",
              "        \n",
              "  <svg xmlns=\"http://www.w3.org/2000/svg\" height=\"24px\"viewBox=\"0 0 24 24\"\n",
              "       width=\"24px\">\n",
              "    <path d=\"M0 0h24v24H0V0z\" fill=\"none\"/>\n",
              "    <path d=\"M18.56 5.44l.94 2.06.94-2.06 2.06-.94-2.06-.94-.94-2.06-.94 2.06-2.06.94zm-11 1L8.5 8.5l.94-2.06 2.06-.94-2.06-.94L8.5 2.5l-.94 2.06-2.06.94zm10 10l.94 2.06.94-2.06 2.06-.94-2.06-.94-.94-2.06-.94 2.06-2.06.94z\"/><path d=\"M17.41 7.96l-1.37-1.37c-.4-.4-.92-.59-1.43-.59-.52 0-1.04.2-1.43.59L10.3 9.45l-7.72 7.72c-.78.78-.78 2.05 0 2.83L4 21.41c.39.39.9.59 1.41.59.51 0 1.02-.2 1.41-.59l7.78-7.78 2.81-2.81c.8-.78.8-2.07 0-2.86zM5.41 20L4 18.59l7.72-7.72 1.47 1.35L5.41 20z\"/>\n",
              "  </svg>\n",
              "      </button>\n",
              "      \n",
              "  <style>\n",
              "    .colab-df-container {\n",
              "      display:flex;\n",
              "      flex-wrap:wrap;\n",
              "      gap: 12px;\n",
              "    }\n",
              "\n",
              "    .colab-df-convert {\n",
              "      background-color: #E8F0FE;\n",
              "      border: none;\n",
              "      border-radius: 50%;\n",
              "      cursor: pointer;\n",
              "      display: none;\n",
              "      fill: #1967D2;\n",
              "      height: 32px;\n",
              "      padding: 0 0 0 0;\n",
              "      width: 32px;\n",
              "    }\n",
              "\n",
              "    .colab-df-convert:hover {\n",
              "      background-color: #E2EBFA;\n",
              "      box-shadow: 0px 1px 2px rgba(60, 64, 67, 0.3), 0px 1px 3px 1px rgba(60, 64, 67, 0.15);\n",
              "      fill: #174EA6;\n",
              "    }\n",
              "\n",
              "    [theme=dark] .colab-df-convert {\n",
              "      background-color: #3B4455;\n",
              "      fill: #D2E3FC;\n",
              "    }\n",
              "\n",
              "    [theme=dark] .colab-df-convert:hover {\n",
              "      background-color: #434B5C;\n",
              "      box-shadow: 0px 1px 3px 1px rgba(0, 0, 0, 0.15);\n",
              "      filter: drop-shadow(0px 1px 2px rgba(0, 0, 0, 0.3));\n",
              "      fill: #FFFFFF;\n",
              "    }\n",
              "  </style>\n",
              "\n",
              "      <script>\n",
              "        const buttonEl =\n",
              "          document.querySelector('#df-c52d3960-36c3-40af-8126-dcdeddeddfb2 button.colab-df-convert');\n",
              "        buttonEl.style.display =\n",
              "          google.colab.kernel.accessAllowed ? 'block' : 'none';\n",
              "\n",
              "        async function convertToInteractive(key) {\n",
              "          const element = document.querySelector('#df-c52d3960-36c3-40af-8126-dcdeddeddfb2');\n",
              "          const dataTable =\n",
              "            await google.colab.kernel.invokeFunction('convertToInteractive',\n",
              "                                                     [key], {});\n",
              "          if (!dataTable) return;\n",
              "\n",
              "          const docLinkHtml = 'Like what you see? Visit the ' +\n",
              "            '<a target=\"_blank\" href=https://colab.research.google.com/notebooks/data_table.ipynb>data table notebook</a>'\n",
              "            + ' to learn more about interactive tables.';\n",
              "          element.innerHTML = '';\n",
              "          dataTable['output_type'] = 'display_data';\n",
              "          await google.colab.output.renderOutput(dataTable, element);\n",
              "          const docLink = document.createElement('div');\n",
              "          docLink.innerHTML = docLinkHtml;\n",
              "          element.appendChild(docLink);\n",
              "        }\n",
              "      </script>\n",
              "    </div>\n",
              "  </div>\n",
              "  "
            ],
            "text/plain": [
              "                                           billTitle  ...                                  billOriginalTitle\n",
              "0  Proposing an amendment to the Constitution of ...  ...  Proposing an amendment to the Constitution of ...\n",
              "1  Proposing an amendment to the Constitution of ...  ...  Proposing an amendment to the Constitution of ...\n",
              "2  Proposing an amendment to the Constitution of ...  ...  Proposing an amendment to the Constitution of ...\n",
              "3  Proposing an amendment to the Constitution of ...  ...  Proposing an amendment to the Constitution of ...\n",
              "4  Expressing support for designation of Septembe...  ...  Expressing support for designation of Septembe...\n",
              "\n",
              "[5 rows x 11 columns]"
            ]
          },
          "metadata": {},
          "execution_count": 7
        }
      ]
    },
    {
      "cell_type": "code",
      "source": [
        "# Create function to view summary statistics of each variable.\n",
        "def mySummary(df):\n",
        "    for v in df.columns:\n",
        "            print (\"\\n\" + v)\n",
        "            print(df[v].describe())"
      ],
      "metadata": {
        "id": "Iuy4Vh0-jJ2h"
      },
      "execution_count": 8,
      "outputs": []
    },
    {
      "cell_type": "code",
      "source": [
        "mySummary(dfRaw)"
      ],
      "metadata": {
        "colab": {
          "base_uri": "https://localhost:8080/"
        },
        "id": "TPU91AfPjUMM",
        "outputId": "463e97db-5ab4-44b7-94b3-f879c8235cbb"
      },
      "execution_count": 9,
      "outputs": [
        {
          "output_type": "stream",
          "name": "stdout",
          "text": [
            "\n",
            "billTitle\n",
            "count                                                 33020\n",
            "unique                                                 7675\n",
            "top       National Defense Authorization Act for Fiscal ...\n",
            "freq                                                     43\n",
            "Name: billTitle, dtype: object\n",
            "\n",
            "billNumber\n",
            "count     33020\n",
            "unique     6065\n",
            "top         610\n",
            "freq         41\n",
            "Name: billNumber, dtype: int64\n",
            "\n",
            "billType\n",
            "count     33020\n",
            "unique        4\n",
            "top          HR\n",
            "freq      24976\n",
            "Name: billType, dtype: object\n",
            "\n",
            "congress\n",
            "count     33020\n",
            "unique        1\n",
            "top         117\n",
            "freq      33020\n",
            "Name: congress, dtype: int64\n",
            "\n",
            "fullDate\n",
            "count                   33020\n",
            "unique                   2706\n",
            "top       2021-01-28 00:00:00\n",
            "freq                      587\n",
            "first     2021-01-03 00:00:00\n",
            "last      2021-12-10 00:00:00\n",
            "Name: fullDate, dtype: object\n",
            "\n",
            "actionCode\n",
            "count     25921\n",
            "unique       62\n",
            "top        1000\n",
            "freq       6132\n",
            "Name: actionCode, dtype: object\n",
            "\n",
            "actionName\n",
            "count                   18965\n",
            "unique                     30\n",
            "top       Introduced in House\n",
            "freq                     6132\n",
            "Name: actionName, dtype: object\n",
            "\n",
            "type\n",
            "count             33020\n",
            "unique                9\n",
            "top       IntroReferral\n",
            "freq              25644\n",
            "Name: type, dtype: object\n",
            "\n",
            "sourceSystem/name\n",
            "count                   33020\n",
            "unique                      4\n",
            "top       Library of Congress\n",
            "freq                    16959\n",
            "Name: sourceSystem/name, dtype: object\n",
            "\n",
            "text\n",
            "count                   33020\n",
            "unique                   3781\n",
            "top       Introduced in House\n",
            "freq                    12250\n",
            "Name: text, dtype: object\n",
            "\n",
            "billOriginalTitle\n",
            "count                                                  3685\n",
            "unique                                                  927\n",
            "top       To prevent across-the-board direct spending cu...\n",
            "freq                                                     26\n",
            "Name: billOriginalTitle, dtype: object\n"
          ]
        },
        {
          "output_type": "stream",
          "name": "stderr",
          "text": [
            "/usr/local/lib/python3.7/dist-packages/ipykernel_launcher.py:5: FutureWarning: Treating datetime data as categorical rather than numeric in `.describe` is deprecated and will be removed in a future version of pandas. Specify `datetime_is_numeric=True` to silence this warning and adopt the future behavior now.\n",
            "  \"\"\"\n"
          ]
        }
      ]
    },
    {
      "cell_type": "code",
      "source": [
        "# Create variable of unique actionCodes\n",
        "actionCodes = dfRaw['actionCode'].unique()\n",
        "actionCodes"
      ],
      "metadata": {
        "colab": {
          "base_uri": "https://localhost:8080/"
        },
        "id": "riC-T5Nrfdut",
        "outputId": "87b2f11f-829a-4da7-e240-6169ebf6c591"
      },
      "execution_count": 10,
      "outputs": [
        {
          "output_type": "execute_result",
          "data": {
            "text/plain": [
              "array(['1000', 'H11100', 'Intro-H', nan, 'H1L210', 'H1L220', 'H30000',\n",
              "       'H8D000', 'H35000', '8000', 'H37100', 'H38310', 'B00100', '5500',\n",
              "       'H12300', 'H30200', '14500', '17000', '28000', 'E20000', '36000',\n",
              "       'E30000', 'E40000', '5000', 'H12200', 'H12410', 'H36200', 'H8A000',\n",
              "       'H36210', 'H38900', 'H30300', 'H37220', 'H37300', 'H1B000', '9000',\n",
              "       'H38800', '19500', 'H41610', 'H41931', 'H12100', 'H40150',\n",
              "       'H41400', 'H12440', 'H40110', 'H40140', 'H11210', '14000',\n",
              "       'H36600', 'H36610', 'H17000', 'H12210', 'H12420', 'H30800',\n",
              "       'H41930', 'H82000', 'H38400', 'H38410', 'H40130', '10000',\n",
              "       'H14000', 'H15000', '20500', '14900'], dtype=object)"
            ]
          },
          "metadata": {},
          "execution_count": 10
        }
      ]
    },
    {
      "cell_type": "code",
      "source": [
        "# Show number of unique actionCodes\n",
        "actionCodes.shape"
      ],
      "metadata": {
        "colab": {
          "base_uri": "https://localhost:8080/"
        },
        "id": "tVOymYkpfnzU",
        "outputId": "b0b215fe-7432-4824-e631-404ea56461f1"
      },
      "execution_count": 11,
      "outputs": [
        {
          "output_type": "execute_result",
          "data": {
            "text/plain": [
              "(63,)"
            ]
          },
          "metadata": {},
          "execution_count": 11
        }
      ]
    },
    {
      "cell_type": "code",
      "source": [
        "# Create variable of unique actionNames\n",
        "actionNames = dfRaw['actionName'].unique()\n",
        "actionNames"
      ],
      "metadata": {
        "colab": {
          "base_uri": "https://localhost:8080/"
        },
        "id": "Lsz8xtBXoDwH",
        "outputId": "e18e18c8-f9b2-459b-faf2-0ea726640bb5"
      },
      "execution_count": 12,
      "outputs": [
        {
          "output_type": "execute_result",
          "data": {
            "text/plain": [
              "array(['Introduced in House', 'Referred to the Committee', nan,\n",
              "       'Rule provides for consideration of',\n",
              "       'Rule passed/agreed in House', 'Consideration by House', 'DEBATE',\n",
              "       'The previous question was ordered pursuant to the rule',\n",
              "       'Passed/agreed to in House', 'Motion To Reconsider Results',\n",
              "       'Sponsor introductory remarks on measure',\n",
              "       'House committee discharged', 'Committee discharged',\n",
              "       'Senate committee discharged', 'Passed/agreed to in Senate',\n",
              "       'Presented to President', 'Became Public Law',\n",
              "       'Signed by President', 'Became Public Law No: 114-47',\n",
              "       'Reported to House', 'Committee reported',\n",
              "       'Union Calendar assignment',\n",
              "       'Final Passage Under Suspension of the Rules Results',\n",
              "       'Failed of passage/not agreed to in House',\n",
              "       'Committee report of an original measure', 'Reported to Senate',\n",
              "       'Motion to Discharge Committee', 'Introduced in Senate',\n",
              "       'Received in the House', 'Held at the desk',\n",
              "       'Senate committee report filed after reporting'], dtype=object)"
            ]
          },
          "metadata": {},
          "execution_count": 12
        }
      ]
    },
    {
      "cell_type": "code",
      "source": [
        "# Show number of unique actionNames\n",
        "actionNames.shape"
      ],
      "metadata": {
        "colab": {
          "base_uri": "https://localhost:8080/"
        },
        "id": "zgYMgELLoNvH",
        "outputId": "b78aa25b-8cb3-4eba-ab5b-c59d3b260546"
      },
      "execution_count": 13,
      "outputs": [
        {
          "output_type": "execute_result",
          "data": {
            "text/plain": [
              "(31,)"
            ]
          },
          "metadata": {},
          "execution_count": 13
        }
      ]
    },
    {
      "cell_type": "markdown",
      "source": [
        "In order to fill in missing action codes and maintain consistency, we will reference the websites: https://www.congress.gov/help/field-values/action-codes and https://github.com/usgpo/bill-status/blob/master/BILLSTATUS-XML_User_User-Guide.md#3-action-code-element-possible-values"
      ],
      "metadata": {
        "id": "LKjLRIE8nB8u"
      }
    },
    {
      "cell_type": "code",
      "source": [
        "# Create dicitionary of published action codes\n",
        "actionCode_dict = dict(zip(actionCode_df.actionCode, actionCode_df.actionName))\n",
        "len(actionCode_dict)"
      ],
      "metadata": {
        "colab": {
          "base_uri": "https://localhost:8080/"
        },
        "id": "QtWa4lLswB2I",
        "outputId": "602ada9e-4bc3-4453-e144-f8af59b871e7"
      },
      "execution_count": 14,
      "outputs": [
        {
          "output_type": "execute_result",
          "data": {
            "text/plain": [
              "93"
            ]
          },
          "metadata": {},
          "execution_count": 14
        }
      ]
    },
    {
      "cell_type": "code",
      "source": [
        "# Display action code dictionary from published sources\n",
        "actionCode_dict"
      ],
      "metadata": {
        "colab": {
          "base_uri": "https://localhost:8080/"
        },
        "id": "tAblAiLJzNlg",
        "outputId": "3af107bb-ebd6-4a76-94af-a1f6712776c0"
      },
      "execution_count": 15,
      "outputs": [
        {
          "output_type": "execute_result",
          "data": {
            "text/plain": [
              "{'1000': 'Introduced in House',\n",
              " '10000': 'Introduced in Senate',\n",
              " '11000': 'Referred to Senate committee',\n",
              " '12000': 'Referred to Senate subcommittee',\n",
              " '13000': 'Senate committee/subcommittee actions',\n",
              " '13100': 'Senate committee/subcommittee hearings',\n",
              " '13200': 'Senate committee/subcommittee markups',\n",
              " '13900': 'Senate committee time extension',\n",
              " '14000': 'Reported to Senate',\n",
              " '14500': 'Senate committee discharged',\n",
              " '14900': 'Senate committee report filed after reporting',\n",
              " '16000': 'Senate floor actions',\n",
              " '17000': 'Passed/agreed to in Senate',\n",
              " '18000': 'Failed of passage/not agreed to in Senate',\n",
              " '19000': 'Resolving differences -- House actions',\n",
              " '2000': 'Referred to House committee',\n",
              " '20000': 'Resolving differences -- Senate actions',\n",
              " '20800': 'Conference committee actions',\n",
              " '20900': 'Conference report filed',\n",
              " '21000': 'Conference report agreed to in House',\n",
              " '22000': 'Conference report disagreed to in House',\n",
              " '23000': 'Conference report agreed to in Senate',\n",
              " '24000': 'Conference report disagreed to in Senate',\n",
              " '25000': 'Roll call votes on measures in House',\n",
              " '26000': 'Roll call votes on measures in Senate',\n",
              " '28000': 'Presented to President',\n",
              " '29000': 'Signed by President',\n",
              " '29100': 'Sent to Archivist unsigned by President',\n",
              " '3000': 'Referred to House subcommittee',\n",
              " '30000': 'Pocket vetoed by President',\n",
              " '31000': 'Vetoed by President',\n",
              " '32000': 'Passed House over veto',\n",
              " '33000': 'Failed of passage in House over veto',\n",
              " '34000': 'Passed Senate over veto',\n",
              " '35000': 'Failed of passage in Senate over veto',\n",
              " '36000': 'Became Public Law',\n",
              " '37000': 'Public Law signed by President',\n",
              " '38000': 'Public Law unsigned by President',\n",
              " '39000': 'Public Law enacted over veto',\n",
              " '4000': 'House committee/subcommittee actions',\n",
              " '40000': 'Public Law by other means',\n",
              " '4100': 'House committee/subcommittee hearings',\n",
              " '41000': 'Became Private Law',\n",
              " '4200': 'House committee/subcommittee markups',\n",
              " '42000': 'Private Law signed by President',\n",
              " '43000': 'Private Law unsigned by President',\n",
              " '44000': 'Private Law enacted over veto',\n",
              " '45000': 'Private Law by other means',\n",
              " '46000': 'Line item veto by President',\n",
              " '47000': 'Disapproval bill in House',\n",
              " '48000': 'Disapproval bill in Senate',\n",
              " '4900': 'House committee time extension',\n",
              " '4950': 'House discharge petition filed',\n",
              " '5000': 'Reported to House',\n",
              " '5500': 'House committee discharged',\n",
              " '7000': 'House floor actions',\n",
              " '71000': 'House amendment offered',\n",
              " '72000': 'House amendment agreed to',\n",
              " '72500': 'House amendment considered as adopted',\n",
              " '73000': 'House amendment not agreed to',\n",
              " '74000': 'Other House amendment actions',\n",
              " '75000': 'Roll call votes on amendments in House',\n",
              " '8000': 'Passed/agreed to in House',\n",
              " '9000': 'Failed of passage/not agreed to in House',\n",
              " '91000': 'Senate amendment submitted',\n",
              " '92000': 'Senate amendment referred to committee',\n",
              " '93000': 'Senate amendment proposed (on the floor)',\n",
              " '94000': 'Senate amendment agreed to',\n",
              " '95000': 'Senate amendment not agreed to',\n",
              " '96000': 'Other Senate amendment actions',\n",
              " '97000': 'Roll call votes on amendments in Senate',\n",
              " 'B00100': 'Sponsor introductory remarks on measure',\n",
              " 'E20000': 'Presented to President',\n",
              " 'E30000': 'Signed by President',\n",
              " 'E40000': 'Became Public Law No: 114-47',\n",
              " 'H11100': 'Referred to the Committee',\n",
              " 'H11200': 'Sequential committee referral',\n",
              " 'H12100': 'Committee report of an original measure',\n",
              " 'H12200': 'Committee reported',\n",
              " 'H12300': 'Committee discharged',\n",
              " 'H12410': 'Union Calendar assignment',\n",
              " 'H14000': 'Received in the House',\n",
              " 'H15000': 'Held at the desk',\n",
              " 'H17000': 'Motion to Discharge Committee',\n",
              " 'H1L210': 'Rule provides for consideration of',\n",
              " 'H1L220': 'Rule passed/agreed in House',\n",
              " 'H25200': 'Conference report [free text] filed',\n",
              " 'H30000': 'Consideration by House',\n",
              " 'H35000': 'The previous question was ordered pursuant to the rule',\n",
              " 'H37300': 'Final Passage Under Suspension of the Rules Results',\n",
              " 'H38310': 'Motion To Reconsider Results',\n",
              " 'H81000': 'Point of order against a motion',\n",
              " 'H8D000': 'DEBATE'}"
            ]
          },
          "metadata": {},
          "execution_count": 15
        }
      ]
    },
    {
      "cell_type": "markdown",
      "source": [
        "Dictionaries of Action Codes should be built per source system because multiple sources may use the same codes for different types of actions. The systems are not coordinated with each other."
      ],
      "metadata": {
        "id": "j3C8sOG6rGdA"
      }
    },
    {
      "cell_type": "code",
      "source": [
        "# Display unique source system names\n",
        "dfRaw['sourceSystem/name'].unique()"
      ],
      "metadata": {
        "colab": {
          "base_uri": "https://localhost:8080/"
        },
        "id": "gpKa_up4kxhh",
        "outputId": "37061aa2-f53d-4011-ba6c-11f529cae596"
      },
      "execution_count": 16,
      "outputs": [
        {
          "output_type": "execute_result",
          "data": {
            "text/plain": [
              "array(['Library of Congress', 'House floor actions',\n",
              "       'House committee actions', 'Senate'], dtype=object)"
            ]
          },
          "metadata": {},
          "execution_count": 16
        }
      ]
    },
    {
      "cell_type": "code",
      "source": [
        "# Subset data frame per unique source system\n",
        "dfLOC = dfRaw.loc[dfRaw['sourceSystem/name'] == 'Library of Congress']\n",
        "dfHF = dfRaw.loc[dfRaw['sourceSystem/name'] == 'House floor actions']\n",
        "dfHC = dfRaw.loc[dfRaw['sourceSystem/name'] == 'House committee actions']\n",
        "dfS = dfRaw.loc[dfRaw['sourceSystem/name'] == 'Senate']"
      ],
      "metadata": {
        "id": "TN4wpMhCj68_"
      },
      "execution_count": 17,
      "outputs": []
    },
    {
      "cell_type": "code",
      "source": [
        "# Create dictionaries of action codes and names per system that appear in data\n",
        "codeNameLOC = dict(zip(dfLOC.actionCode, dfLOC.actionName))\n",
        "codeNameHF = dict(zip(dfHF.actionCode, dfHF.actionName))\n",
        "codeNameHC = dict(zip(dfHC.actionCode, dfHC.actionName))\n",
        "codeNameS = dict(zip(dfS.actionCode, dfS.actionName))"
      ],
      "metadata": {
        "id": "LHV-8zKBlgGy"
      },
      "execution_count": 18,
      "outputs": []
    },
    {
      "cell_type": "markdown",
      "source": [
        "Action Code Dictionary for Library of Congress:"
      ],
      "metadata": {
        "id": "aw_T54NRmIFD"
      }
    },
    {
      "cell_type": "code",
      "source": [
        "codeNameLOC"
      ],
      "metadata": {
        "colab": {
          "base_uri": "https://localhost:8080/"
        },
        "id": "fWXuAdVhl9qe",
        "outputId": "2ac54bd4-a968-4d60-be2c-38fe0dd6815c"
      },
      "execution_count": 19,
      "outputs": [
        {
          "output_type": "execute_result",
          "data": {
            "text/plain": [
              "{'1000': 'Introduced in House',\n",
              " '10000': 'Introduced in Senate',\n",
              " '14000': 'Reported to Senate',\n",
              " '14500': 'Senate committee discharged',\n",
              " '14900': 'Senate committee report filed after reporting',\n",
              " '17000': 'Passed/agreed to in Senate',\n",
              " '19500': nan,\n",
              " '20500': nan,\n",
              " '28000': 'Presented to President',\n",
              " '36000': 'Became Public Law',\n",
              " '5000': 'Reported to House',\n",
              " '5500': 'House committee discharged',\n",
              " '8000': 'Passed/agreed to in House',\n",
              " '9000': 'Failed of passage/not agreed to in House',\n",
              " 'B00100': 'Sponsor introductory remarks on measure',\n",
              " 'E30000': 'Signed by President',\n",
              " 'E40000': 'Became Public Law No: 114-47',\n",
              " 'Intro-H': nan}"
            ]
          },
          "metadata": {},
          "execution_count": 19
        }
      ]
    },
    {
      "cell_type": "markdown",
      "source": [
        "Action Code Dictionary for House of Representatives Floor Actions"
      ],
      "metadata": {
        "id": "twhFyfogmQhr"
      }
    },
    {
      "cell_type": "code",
      "source": [
        "codeNameHF"
      ],
      "metadata": {
        "colab": {
          "base_uri": "https://localhost:8080/"
        },
        "id": "Hpwff85XmGlS",
        "outputId": "8f9a8e58-e194-4a51-9115-26f1c38a5431"
      },
      "execution_count": 20,
      "outputs": [
        {
          "output_type": "execute_result",
          "data": {
            "text/plain": [
              "{'E20000': 'Presented to President',\n",
              " 'H11100': 'Referred to the Committee',\n",
              " 'H11210': nan,\n",
              " 'H12100': 'Committee report of an original measure',\n",
              " 'H12200': 'Committee reported',\n",
              " 'H12210': nan,\n",
              " 'H12300': 'Committee discharged',\n",
              " 'H12410': 'Union Calendar assignment',\n",
              " 'H12420': nan,\n",
              " 'H12440': nan,\n",
              " 'H14000': 'Received in the House',\n",
              " 'H15000': 'Held at the desk',\n",
              " 'H17000': 'Motion to Discharge Committee',\n",
              " 'H1B000': nan,\n",
              " 'H1L210': 'Rule provides for consideration of',\n",
              " 'H1L220': 'Rule passed/agreed in House',\n",
              " 'H30000': 'Consideration by House',\n",
              " 'H30200': nan,\n",
              " 'H30300': nan,\n",
              " 'H30800': nan,\n",
              " 'H35000': 'The previous question was ordered pursuant to the rule',\n",
              " 'H36200': nan,\n",
              " 'H36210': nan,\n",
              " 'H36600': nan,\n",
              " 'H36610': nan,\n",
              " 'H37100': nan,\n",
              " 'H37220': nan,\n",
              " 'H37300': 'Final Passage Under Suspension of the Rules Results',\n",
              " 'H38310': 'Motion To Reconsider Results',\n",
              " 'H38400': nan,\n",
              " 'H38410': nan,\n",
              " 'H38800': nan,\n",
              " 'H38900': nan,\n",
              " 'H40110': nan,\n",
              " 'H40130': nan,\n",
              " 'H40140': nan,\n",
              " 'H40150': nan,\n",
              " 'H41400': nan,\n",
              " 'H41610': nan,\n",
              " 'H41930': nan,\n",
              " 'H41931': nan,\n",
              " 'H82000': nan,\n",
              " 'H8A000': nan,\n",
              " 'H8D000': 'DEBATE'}"
            ]
          },
          "metadata": {},
          "execution_count": 20
        }
      ]
    },
    {
      "cell_type": "markdown",
      "source": [
        "Action Code Dictionary for House of Representatives Committee Actions:"
      ],
      "metadata": {
        "id": "KxLfegHammKL"
      }
    },
    {
      "cell_type": "code",
      "source": [
        "codeNameHC"
      ],
      "metadata": {
        "colab": {
          "base_uri": "https://localhost:8080/"
        },
        "id": "o0AqllFwmeeP",
        "outputId": "aecf807a-9514-4eb3-e07f-ac35adb768e7"
      },
      "execution_count": 21,
      "outputs": [
        {
          "output_type": "execute_result",
          "data": {
            "text/plain": [
              "{nan: nan}"
            ]
          },
          "metadata": {},
          "execution_count": 21
        }
      ]
    },
    {
      "cell_type": "markdown",
      "source": [
        "Action Code Dictionary for Senate:"
      ],
      "metadata": {
        "id": "2hmxozMrm1ks"
      }
    },
    {
      "cell_type": "code",
      "source": [
        "codeNameS"
      ],
      "metadata": {
        "colab": {
          "base_uri": "https://localhost:8080/"
        },
        "id": "cjTEaeA-mx_Y",
        "outputId": "709f6664-8cfc-433c-fdac-a37bb4d7c6e3"
      },
      "execution_count": 22,
      "outputs": [
        {
          "output_type": "execute_result",
          "data": {
            "text/plain": [
              "{nan: nan}"
            ]
          },
          "metadata": {},
          "execution_count": 22
        }
      ]
    },
    {
      "cell_type": "code",
      "source": [
        "# Show number of rows which are missing actionCodes in Raw Data\n",
        "dfRaw.actionCode.isna().sum()"
      ],
      "metadata": {
        "colab": {
          "base_uri": "https://localhost:8080/"
        },
        "id": "H0lylV3Lzy4T",
        "outputId": "e655cdec-0c81-4956-ef01-960edc145213"
      },
      "execution_count": 23,
      "outputs": [
        {
          "output_type": "execute_result",
          "data": {
            "text/plain": [
              "7099"
            ]
          },
          "metadata": {},
          "execution_count": 23
        }
      ]
    },
    {
      "cell_type": "markdown",
      "source": [
        "All data that comes from the sources House Committee Actions and Senate do not have action codes included in the xml files that were downloaded from the bulk data repository."
      ],
      "metadata": {
        "id": "u6GvTdljzzYq"
      }
    },
    {
      "cell_type": "code",
      "source": [
        "# Create subset of data frame where actionCode is missing\n",
        "df = dfRaw[dfRaw['actionCode'].isnull()]\n",
        "df.shape"
      ],
      "metadata": {
        "colab": {
          "base_uri": "https://localhost:8080/"
        },
        "id": "Q8xGGiKgf6o8",
        "outputId": "03539a65-b989-4878-c559-f6654a062c0a"
      },
      "execution_count": 24,
      "outputs": [
        {
          "output_type": "execute_result",
          "data": {
            "text/plain": [
              "(7099, 11)"
            ]
          },
          "metadata": {},
          "execution_count": 24
        }
      ]
    },
    {
      "cell_type": "code",
      "source": [
        "df.head(5)"
      ],
      "metadata": {
        "colab": {
          "base_uri": "https://localhost:8080/",
          "height": 686
        },
        "id": "pTLQ98HigXkX",
        "outputId": "89e5bc92-0f36-4988-fc70-da70678d9a52"
      },
      "execution_count": 25,
      "outputs": [
        {
          "output_type": "execute_result",
          "data": {
            "text/html": [
              "\n",
              "  <div id=\"df-4d25a662-9951-450e-819c-579d393c7a34\">\n",
              "    <div class=\"colab-df-container\">\n",
              "      <div>\n",
              "<style scoped>\n",
              "    .dataframe tbody tr th:only-of-type {\n",
              "        vertical-align: middle;\n",
              "    }\n",
              "\n",
              "    .dataframe tbody tr th {\n",
              "        vertical-align: top;\n",
              "    }\n",
              "\n",
              "    .dataframe thead th {\n",
              "        text-align: right;\n",
              "    }\n",
              "</style>\n",
              "<table border=\"1\" class=\"dataframe\">\n",
              "  <thead>\n",
              "    <tr style=\"text-align: right;\">\n",
              "      <th></th>\n",
              "      <th>billTitle</th>\n",
              "      <th>billNumber</th>\n",
              "      <th>billType</th>\n",
              "      <th>congress</th>\n",
              "      <th>fullDate</th>\n",
              "      <th>actionCode</th>\n",
              "      <th>actionName</th>\n",
              "      <th>type</th>\n",
              "      <th>sourceSystem/name</th>\n",
              "      <th>text</th>\n",
              "      <th>billOriginalTitle</th>\n",
              "    </tr>\n",
              "  </thead>\n",
              "  <tbody>\n",
              "    <tr>\n",
              "      <th>3</th>\n",
              "      <td>Proposing an amendment to the Constitution of ...</td>\n",
              "      <td>1</td>\n",
              "      <td>HJRES</td>\n",
              "      <td>117</td>\n",
              "      <td>2021-03-04</td>\n",
              "      <td>NaN</td>\n",
              "      <td>NaN</td>\n",
              "      <td>Committee</td>\n",
              "      <td>House committee actions</td>\n",
              "      <td>Referred to the Subcommittee on the Constituti...</td>\n",
              "      <td>Proposing an amendment to the Constitution of ...</td>\n",
              "    </tr>\n",
              "    <tr>\n",
              "      <th>10</th>\n",
              "      <td>Proposing an amendment to the Constitution of ...</td>\n",
              "      <td>11</td>\n",
              "      <td>HJRES</td>\n",
              "      <td>117</td>\n",
              "      <td>2021-03-04</td>\n",
              "      <td>NaN</td>\n",
              "      <td>NaN</td>\n",
              "      <td>Committee</td>\n",
              "      <td>House committee actions</td>\n",
              "      <td>Referred to the Subcommittee on the Constituti...</td>\n",
              "      <td>Proposing an amendment to the Constitution of ...</td>\n",
              "    </tr>\n",
              "    <tr>\n",
              "      <th>14</th>\n",
              "      <td>Proposing an amendment to the Constitution of ...</td>\n",
              "      <td>12</td>\n",
              "      <td>HJRES</td>\n",
              "      <td>117</td>\n",
              "      <td>2021-03-04</td>\n",
              "      <td>NaN</td>\n",
              "      <td>NaN</td>\n",
              "      <td>Committee</td>\n",
              "      <td>House committee actions</td>\n",
              "      <td>Referred to the Subcommittee on the Constituti...</td>\n",
              "      <td>Proposing an amendment to the Constitution of ...</td>\n",
              "    </tr>\n",
              "    <tr>\n",
              "      <th>18</th>\n",
              "      <td>Proposing a balanced budget amendment to the C...</td>\n",
              "      <td>13</td>\n",
              "      <td>HJRES</td>\n",
              "      <td>117</td>\n",
              "      <td>2021-03-04</td>\n",
              "      <td>NaN</td>\n",
              "      <td>NaN</td>\n",
              "      <td>Committee</td>\n",
              "      <td>House committee actions</td>\n",
              "      <td>Referred to the Subcommittee on the Constituti...</td>\n",
              "      <td>Proposing a balanced budget amendment to the C...</td>\n",
              "    </tr>\n",
              "    <tr>\n",
              "      <th>22</th>\n",
              "      <td>Proposing an amendment to the Constitution of ...</td>\n",
              "      <td>14</td>\n",
              "      <td>HJRES</td>\n",
              "      <td>117</td>\n",
              "      <td>2021-03-04</td>\n",
              "      <td>NaN</td>\n",
              "      <td>NaN</td>\n",
              "      <td>Committee</td>\n",
              "      <td>House committee actions</td>\n",
              "      <td>Referred to the Subcommittee on the Constituti...</td>\n",
              "      <td>Proposing an amendment to the Constitution of ...</td>\n",
              "    </tr>\n",
              "  </tbody>\n",
              "</table>\n",
              "</div>\n",
              "      <button class=\"colab-df-convert\" onclick=\"convertToInteractive('df-4d25a662-9951-450e-819c-579d393c7a34')\"\n",
              "              title=\"Convert this dataframe to an interactive table.\"\n",
              "              style=\"display:none;\">\n",
              "        \n",
              "  <svg xmlns=\"http://www.w3.org/2000/svg\" height=\"24px\"viewBox=\"0 0 24 24\"\n",
              "       width=\"24px\">\n",
              "    <path d=\"M0 0h24v24H0V0z\" fill=\"none\"/>\n",
              "    <path d=\"M18.56 5.44l.94 2.06.94-2.06 2.06-.94-2.06-.94-.94-2.06-.94 2.06-2.06.94zm-11 1L8.5 8.5l.94-2.06 2.06-.94-2.06-.94L8.5 2.5l-.94 2.06-2.06.94zm10 10l.94 2.06.94-2.06 2.06-.94-2.06-.94-.94-2.06-.94 2.06-2.06.94z\"/><path d=\"M17.41 7.96l-1.37-1.37c-.4-.4-.92-.59-1.43-.59-.52 0-1.04.2-1.43.59L10.3 9.45l-7.72 7.72c-.78.78-.78 2.05 0 2.83L4 21.41c.39.39.9.59 1.41.59.51 0 1.02-.2 1.41-.59l7.78-7.78 2.81-2.81c.8-.78.8-2.07 0-2.86zM5.41 20L4 18.59l7.72-7.72 1.47 1.35L5.41 20z\"/>\n",
              "  </svg>\n",
              "      </button>\n",
              "      \n",
              "  <style>\n",
              "    .colab-df-container {\n",
              "      display:flex;\n",
              "      flex-wrap:wrap;\n",
              "      gap: 12px;\n",
              "    }\n",
              "\n",
              "    .colab-df-convert {\n",
              "      background-color: #E8F0FE;\n",
              "      border: none;\n",
              "      border-radius: 50%;\n",
              "      cursor: pointer;\n",
              "      display: none;\n",
              "      fill: #1967D2;\n",
              "      height: 32px;\n",
              "      padding: 0 0 0 0;\n",
              "      width: 32px;\n",
              "    }\n",
              "\n",
              "    .colab-df-convert:hover {\n",
              "      background-color: #E2EBFA;\n",
              "      box-shadow: 0px 1px 2px rgba(60, 64, 67, 0.3), 0px 1px 3px 1px rgba(60, 64, 67, 0.15);\n",
              "      fill: #174EA6;\n",
              "    }\n",
              "\n",
              "    [theme=dark] .colab-df-convert {\n",
              "      background-color: #3B4455;\n",
              "      fill: #D2E3FC;\n",
              "    }\n",
              "\n",
              "    [theme=dark] .colab-df-convert:hover {\n",
              "      background-color: #434B5C;\n",
              "      box-shadow: 0px 1px 3px 1px rgba(0, 0, 0, 0.15);\n",
              "      filter: drop-shadow(0px 1px 2px rgba(0, 0, 0, 0.3));\n",
              "      fill: #FFFFFF;\n",
              "    }\n",
              "  </style>\n",
              "\n",
              "      <script>\n",
              "        const buttonEl =\n",
              "          document.querySelector('#df-4d25a662-9951-450e-819c-579d393c7a34 button.colab-df-convert');\n",
              "        buttonEl.style.display =\n",
              "          google.colab.kernel.accessAllowed ? 'block' : 'none';\n",
              "\n",
              "        async function convertToInteractive(key) {\n",
              "          const element = document.querySelector('#df-4d25a662-9951-450e-819c-579d393c7a34');\n",
              "          const dataTable =\n",
              "            await google.colab.kernel.invokeFunction('convertToInteractive',\n",
              "                                                     [key], {});\n",
              "          if (!dataTable) return;\n",
              "\n",
              "          const docLinkHtml = 'Like what you see? Visit the ' +\n",
              "            '<a target=\"_blank\" href=https://colab.research.google.com/notebooks/data_table.ipynb>data table notebook</a>'\n",
              "            + ' to learn more about interactive tables.';\n",
              "          element.innerHTML = '';\n",
              "          dataTable['output_type'] = 'display_data';\n",
              "          await google.colab.output.renderOutput(dataTable, element);\n",
              "          const docLink = document.createElement('div');\n",
              "          docLink.innerHTML = docLinkHtml;\n",
              "          element.appendChild(docLink);\n",
              "        }\n",
              "      </script>\n",
              "    </div>\n",
              "  </div>\n",
              "  "
            ],
            "text/plain": [
              "                                            billTitle  ...                                  billOriginalTitle\n",
              "3   Proposing an amendment to the Constitution of ...  ...  Proposing an amendment to the Constitution of ...\n",
              "10  Proposing an amendment to the Constitution of ...  ...  Proposing an amendment to the Constitution of ...\n",
              "14  Proposing an amendment to the Constitution of ...  ...  Proposing an amendment to the Constitution of ...\n",
              "18  Proposing a balanced budget amendment to the C...  ...  Proposing a balanced budget amendment to the C...\n",
              "22  Proposing an amendment to the Constitution of ...  ...  Proposing an amendment to the Constitution of ...\n",
              "\n",
              "[5 rows x 11 columns]"
            ]
          },
          "metadata": {},
          "execution_count": 25
        }
      ]
    },
    {
      "cell_type": "code",
      "source": [
        "# Summary of data frame of rows with missing action codes\n",
        "mySummary(df)"
      ],
      "metadata": {
        "colab": {
          "base_uri": "https://localhost:8080/"
        },
        "id": "zCCBcTPMkg6q",
        "outputId": "96815699-6d0a-40c8-c34b-c5e508efcc84"
      },
      "execution_count": 26,
      "outputs": [
        {
          "output_type": "stream",
          "name": "stdout",
          "text": [
            "\n",
            "billTitle\n",
            "count                                              7099\n",
            "unique                                             5605\n",
            "top       Promoting Physical Activity for Americans Act\n",
            "freq                                                  7\n",
            "Name: billTitle, dtype: object\n",
            "\n",
            "billNumber\n",
            "count     7099\n",
            "unique    4376\n",
            "top        610\n",
            "freq         8\n",
            "Name: billNumber, dtype: int64\n",
            "\n",
            "billType\n",
            "count     7099\n",
            "unique       4\n",
            "top          S\n",
            "freq      3540\n",
            "Name: billType, dtype: object\n",
            "\n",
            "congress\n",
            "count     7099\n",
            "unique       1\n",
            "top        117\n",
            "freq      7099\n",
            "Name: congress, dtype: int64\n",
            "\n",
            "fullDate\n",
            "count                    7099\n",
            "unique                    238\n",
            "top       2021-06-24 00:00:00\n",
            "freq                      150\n",
            "first     2021-01-03 00:00:00\n",
            "last      2021-12-10 00:00:00\n",
            "Name: fullDate, dtype: object\n",
            "\n",
            "actionCode\n",
            "count       0\n",
            "unique      0\n",
            "top       NaN\n",
            "freq      NaN\n",
            "Name: actionCode, dtype: object\n",
            "\n",
            "actionName\n",
            "count       0\n",
            "unique      0\n",
            "top       NaN\n",
            "freq      NaN\n",
            "Name: actionName, dtype: object\n",
            "\n",
            "type\n",
            "count              7099\n",
            "unique                5\n",
            "top       IntroReferral\n",
            "freq               3634\n",
            "Name: type, dtype: object\n",
            "\n",
            "sourceSystem/name\n",
            "count       7099\n",
            "unique         2\n",
            "top       Senate\n",
            "freq        3925\n",
            "Name: sourceSystem/name, dtype: object\n",
            "\n",
            "text\n",
            "count                                        7099\n",
            "unique                                        605\n",
            "top       Referred to the Subcommittee on Health.\n",
            "freq                                          790\n",
            "Name: text, dtype: object\n",
            "\n",
            "billOriginalTitle\n",
            "count                                                   647\n",
            "unique                                                  551\n",
            "top       To designate the facility of the United States...\n",
            "freq                                                      4\n",
            "Name: billOriginalTitle, dtype: object\n"
          ]
        },
        {
          "output_type": "stream",
          "name": "stderr",
          "text": [
            "/usr/local/lib/python3.7/dist-packages/ipykernel_launcher.py:5: FutureWarning: Treating datetime data as categorical rather than numeric in `.describe` is deprecated and will be removed in a future version of pandas. Specify `datetime_is_numeric=True` to silence this warning and adopt the future behavior now.\n",
            "  \"\"\"\n"
          ]
        }
      ]
    },
    {
      "cell_type": "code",
      "source": [
        "\n",
        "def fillCode (row):\n",
        "  \"\"\"\n",
        "  A function to fill missing actionCodes. This can be used with\n",
        "  df['actionCode'] = df.apply (lambda row: fillCode(row) if pd.isnull(row['actionCode']) else row['actionCode'], axis=1)\n",
        "\n",
        "  This has only been tested on rows with null actionCodes.\n",
        "  If rows with non-null actionCodes are used, this will not work as intended.\n",
        "\n",
        "  After filling the actionCodes, it is recommended to apply a dictionary\n",
        "  of actionCodes and actionNames to complete the data.\n",
        "  \"\"\"\n",
        "  if row['sourceSystem/name'] == \"House committee actions\":\n",
        "    if \"referred to the subcommittee\" in str.lower(row['text']):\n",
        "      return '3000'  # Referred to House subcommittee\n",
        "    elif \"markup\" in str.lower(row['text']):\n",
        "      return '4200'  # House committee/subcommittee markups\n",
        "    elif \"mark-up\" in str.lower(row['text']):\n",
        "      return '4200'  # House committee/subcommittee markups\n",
        "    elif \"hearings\" in str.lower(row['text']):\n",
        "      return '4100'  # House committee/subcommittee hearings\n",
        "    elif \"ordered to be reported\" in str.lower(row['text']):\n",
        "      return '4000'  # House committee/subcommittee actions\n",
        "    # Generic rule based on type for text not matching earlier rules\n",
        "    elif row['type'] == \"Committee\":\n",
        "      return '4000'  # House committee/subcommittee actions\n",
        "  # Setting rules for actionCodes related to the Senate\n",
        "  elif row['sourceSystem/name'] == \"Senate\":\n",
        "    if \"received in the senate\" in str.lower(row['text']):\n",
        "      return '10000'  # Introduced in Senate\n",
        "    elif \"introduced in the senate\" in str.lower(row['text']):\n",
        "      return '10000'  # Introduced in Senate\n",
        "    elif \"referred to the committee\" in str.lower(row['text']):\n",
        "      return '11000'  # Referred to Senate committee\n",
        "    elif \"passed senate\" in str.lower(row['text']):\n",
        "      return '17000'  # Passed/agreed to in Senate\n",
        "    elif all(word in str.lower((row['text'])) for word in [\"committee\", \"filed\", \"report\"]):\n",
        "      return '14900' # Senate committee report filed after reporting\n",
        "    elif row['type'] == \"IntroReferral\":\n",
        "      return '11000'  # Referred to Senate committee\n",
        "    elif row['type'] == \"ResolvingDifferences\":\n",
        "      return '20000' # Resolving differences -- Senate actions\n",
        "    # Generic rule based on type for text not matching earlier rules\n",
        "    elif row['type'] == \"Calendars\":\n",
        "      return 'SenateCal' # need to define a code for Senate Calendar and add to dictionary\n",
        "    elif row['type'] == \"Committee\":\n",
        "      if \"hearings\" in str.lower(row['text']):\n",
        "        return '13100' # Senate committee/subcommittee hearings\n",
        "      elif \"markup\" in str.lower(row['text']):\n",
        "        return '13200'  # Senate committee/subcommittee markups\n",
        "      elif \"mark-up\" in str.lower(row['text']):\n",
        "        return '13200'  # Senate committee/subcommittee markups\n",
        "      # Generic rule based on type for text not matching earlier rules\n",
        "      else: \n",
        "        return '13000' # Senate committee/subcommittee actions\n",
        "    elif row['type'] == \"Floor\":\n",
        "      if \"message on senate action sent to the house\" in str.lower(row['text']):\n",
        "        return '5000'  # Reported to House\n",
        "      if \"message on house action received in senate\" in str.lower(row['text']):\n",
        "        return '14000'  # Reported to Senate\n",
        "      # Generic rule based on type for text not matching earlier rules\n",
        "      else:\n",
        "        return '16000'  # Senate floor action\n",
        "  else:\n",
        "    return row['actionCode']  # do nothing if source system doesn't match rules\n",
        "\n"
      ],
      "metadata": {
        "id": "AKESV-5N23o8"
      },
      "execution_count": 27,
      "outputs": []
    },
    {
      "cell_type": "code",
      "source": [
        "# Create a copy of original raw data to fill missing actionCodes\n",
        "df = dfRaw.copy()\n",
        "# Use df.apply with a lambda function to fill the missing actionCodes\n",
        "# It is very important only to pass rows to the function which have a null actionCode.\n",
        "df['actionCode'] = df.apply (lambda row: fillCode(row) if pd.isnull(row['actionCode']) else row['actionCode'], axis=1)  "
      ],
      "metadata": {
        "id": "d5ogJnzA33GW"
      },
      "execution_count": 28,
      "outputs": []
    },
    {
      "cell_type": "code",
      "source": [
        "# Number of null actionCodes in original data\n",
        "dfRaw.actionCode.isna().sum()"
      ],
      "metadata": {
        "colab": {
          "base_uri": "https://localhost:8080/"
        },
        "id": "76NXidho3aoJ",
        "outputId": "3b830636-72b0-4bcf-8f57-92e5fadc5c1d"
      },
      "execution_count": 29,
      "outputs": [
        {
          "output_type": "execute_result",
          "data": {
            "text/plain": [
              "7099"
            ]
          },
          "metadata": {},
          "execution_count": 29
        }
      ]
    },
    {
      "cell_type": "code",
      "source": [
        "# Number of null actionCodes in filled data\n",
        "df.actionCode.isna().sum()"
      ],
      "metadata": {
        "colab": {
          "base_uri": "https://localhost:8080/"
        },
        "id": "-jLRJNtO5_WU",
        "outputId": "e5678ce6-e8d6-42f9-cb87-f8d479776a21"
      },
      "execution_count": 30,
      "outputs": [
        {
          "output_type": "execute_result",
          "data": {
            "text/plain": [
              "0"
            ]
          },
          "metadata": {},
          "execution_count": 30
        }
      ]
    },
    {
      "cell_type": "markdown",
      "source": [
        "The next step should be to make sure that every actionCode has a reasonable actionName and standardize the names to name that are available on this website when possible: https://www.congress.gov/help/field-values/action-codes"
      ],
      "metadata": {
        "id": "T1SkTGVqA4fX"
      }
    },
    {
      "cell_type": "code",
      "source": [
        "pd.set_option('display.max_rows', None)\n",
        "# Create a data frame showing the frequency of actionCodes\n",
        "acFreq = df.actionCode.value_counts().to_frame()\n",
        "acFreq = acFreq.rename(columns={\"actionCode\": \"Frequency\"})\n",
        "acFreq['actionName'] = acFreq.index.map(actionCode_dict)  # index is actionCode\n",
        "acFreq"
      ],
      "metadata": {
        "colab": {
          "base_uri": "https://localhost:8080/",
          "height": 1000
        },
        "id": "W1rXIuk8-EwN",
        "outputId": "b90a0c1d-5809-4221-a946-0c46426a142f"
      },
      "execution_count": 31,
      "outputs": [
        {
          "output_type": "execute_result",
          "data": {
            "text/html": [
              "\n",
              "  <div id=\"df-0a59dcf0-af6c-433e-9526-63f08d65cf23\">\n",
              "    <div class=\"colab-df-container\">\n",
              "      <div>\n",
              "<style scoped>\n",
              "    .dataframe tbody tr th:only-of-type {\n",
              "        vertical-align: middle;\n",
              "    }\n",
              "\n",
              "    .dataframe tbody tr th {\n",
              "        vertical-align: top;\n",
              "    }\n",
              "\n",
              "    .dataframe thead th {\n",
              "        text-align: right;\n",
              "    }\n",
              "</style>\n",
              "<table border=\"1\" class=\"dataframe\">\n",
              "  <thead>\n",
              "    <tr style=\"text-align: right;\">\n",
              "      <th></th>\n",
              "      <th>Frequency</th>\n",
              "      <th>actionName</th>\n",
              "    </tr>\n",
              "  </thead>\n",
              "  <tbody>\n",
              "    <tr>\n",
              "      <th>1000</th>\n",
              "      <td>6132</td>\n",
              "      <td>Introduced in House</td>\n",
              "    </tr>\n",
              "    <tr>\n",
              "      <th>Intro-H</th>\n",
              "      <td>6118</td>\n",
              "      <td>NaN</td>\n",
              "    </tr>\n",
              "    <tr>\n",
              "      <th>H11100</th>\n",
              "      <td>6109</td>\n",
              "      <td>Referred to the Committee</td>\n",
              "    </tr>\n",
              "    <tr>\n",
              "      <th>10000</th>\n",
              "      <td>3735</td>\n",
              "      <td>Introduced in Senate</td>\n",
              "    </tr>\n",
              "    <tr>\n",
              "      <th>11000</th>\n",
              "      <td>3348</td>\n",
              "      <td>Referred to Senate committee</td>\n",
              "    </tr>\n",
              "    <tr>\n",
              "      <th>3000</th>\n",
              "      <td>2951</td>\n",
              "      <td>Referred to House subcommittee</td>\n",
              "    </tr>\n",
              "    <tr>\n",
              "      <th>H30000</th>\n",
              "      <td>485</td>\n",
              "      <td>Consideration by House</td>\n",
              "    </tr>\n",
              "    <tr>\n",
              "      <th>H8D000</th>\n",
              "      <td>392</td>\n",
              "      <td>DEBATE</td>\n",
              "    </tr>\n",
              "    <tr>\n",
              "      <th>8000</th>\n",
              "      <td>337</td>\n",
              "      <td>Passed/agreed to in House</td>\n",
              "    </tr>\n",
              "    <tr>\n",
              "      <th>H30300</th>\n",
              "      <td>281</td>\n",
              "      <td>NaN</td>\n",
              "    </tr>\n",
              "    <tr>\n",
              "      <th>H37300</th>\n",
              "      <td>281</td>\n",
              "      <td>Final Passage Under Suspension of the Rules Re...</td>\n",
              "    </tr>\n",
              "    <tr>\n",
              "      <th>B00100</th>\n",
              "      <td>247</td>\n",
              "      <td>Sponsor introductory remarks on measure</td>\n",
              "    </tr>\n",
              "    <tr>\n",
              "      <th>H38310</th>\n",
              "      <td>232</td>\n",
              "      <td>Motion To Reconsider Results</td>\n",
              "    </tr>\n",
              "    <tr>\n",
              "      <th>17000</th>\n",
              "      <td>221</td>\n",
              "      <td>Passed/agreed to in Senate</td>\n",
              "    </tr>\n",
              "    <tr>\n",
              "      <th>H37220</th>\n",
              "      <td>210</td>\n",
              "      <td>NaN</td>\n",
              "    </tr>\n",
              "    <tr>\n",
              "      <th>4000</th>\n",
              "      <td>177</td>\n",
              "      <td>House committee/subcommittee actions</td>\n",
              "    </tr>\n",
              "    <tr>\n",
              "      <th>5000</th>\n",
              "      <td>161</td>\n",
              "      <td>Reported to House</td>\n",
              "    </tr>\n",
              "    <tr>\n",
              "      <th>H12410</th>\n",
              "      <td>120</td>\n",
              "      <td>Union Calendar assignment</td>\n",
              "    </tr>\n",
              "    <tr>\n",
              "      <th>H12200</th>\n",
              "      <td>115</td>\n",
              "      <td>Committee reported</td>\n",
              "    </tr>\n",
              "    <tr>\n",
              "      <th>H1B000</th>\n",
              "      <td>105</td>\n",
              "      <td>NaN</td>\n",
              "    </tr>\n",
              "    <tr>\n",
              "      <th>SenateCal</th>\n",
              "      <td>104</td>\n",
              "      <td>NaN</td>\n",
              "    </tr>\n",
              "    <tr>\n",
              "      <th>14000</th>\n",
              "      <td>100</td>\n",
              "      <td>Reported to Senate</td>\n",
              "    </tr>\n",
              "    <tr>\n",
              "      <th>H15000</th>\n",
              "      <td>85</td>\n",
              "      <td>Held at the desk</td>\n",
              "    </tr>\n",
              "    <tr>\n",
              "      <th>H14000</th>\n",
              "      <td>85</td>\n",
              "      <td>Received in the House</td>\n",
              "    </tr>\n",
              "    <tr>\n",
              "      <th>E20000</th>\n",
              "      <td>70</td>\n",
              "      <td>Presented to President</td>\n",
              "    </tr>\n",
              "    <tr>\n",
              "      <th>28000</th>\n",
              "      <td>70</td>\n",
              "      <td>Presented to President</td>\n",
              "    </tr>\n",
              "    <tr>\n",
              "      <th>E30000</th>\n",
              "      <td>68</td>\n",
              "      <td>Signed by President</td>\n",
              "    </tr>\n",
              "    <tr>\n",
              "      <th>E40000</th>\n",
              "      <td>68</td>\n",
              "      <td>Became Public Law No: 114-47</td>\n",
              "    </tr>\n",
              "    <tr>\n",
              "      <th>36000</th>\n",
              "      <td>68</td>\n",
              "      <td>Became Public Law</td>\n",
              "    </tr>\n",
              "    <tr>\n",
              "      <th>H37100</th>\n",
              "      <td>60</td>\n",
              "      <td>NaN</td>\n",
              "    </tr>\n",
              "    <tr>\n",
              "      <th>14500</th>\n",
              "      <td>56</td>\n",
              "      <td>Senate committee discharged</td>\n",
              "    </tr>\n",
              "    <tr>\n",
              "      <th>H1L210</th>\n",
              "      <td>54</td>\n",
              "      <td>Rule provides for consideration of</td>\n",
              "    </tr>\n",
              "    <tr>\n",
              "      <th>H35000</th>\n",
              "      <td>51</td>\n",
              "      <td>The previous question was ordered pursuant to ...</td>\n",
              "    </tr>\n",
              "    <tr>\n",
              "      <th>4200</th>\n",
              "      <td>42</td>\n",
              "      <td>House committee/subcommittee markups</td>\n",
              "    </tr>\n",
              "    <tr>\n",
              "      <th>H36210</th>\n",
              "      <td>28</td>\n",
              "      <td>NaN</td>\n",
              "    </tr>\n",
              "    <tr>\n",
              "      <th>H36200</th>\n",
              "      <td>28</td>\n",
              "      <td>NaN</td>\n",
              "    </tr>\n",
              "    <tr>\n",
              "      <th>H8A000</th>\n",
              "      <td>26</td>\n",
              "      <td>NaN</td>\n",
              "    </tr>\n",
              "    <tr>\n",
              "      <th>H1L220</th>\n",
              "      <td>21</td>\n",
              "      <td>Rule passed/agreed in House</td>\n",
              "    </tr>\n",
              "    <tr>\n",
              "      <th>H12300</th>\n",
              "      <td>18</td>\n",
              "      <td>Committee discharged</td>\n",
              "    </tr>\n",
              "    <tr>\n",
              "      <th>5500</th>\n",
              "      <td>18</td>\n",
              "      <td>House committee discharged</td>\n",
              "    </tr>\n",
              "    <tr>\n",
              "      <th>H38800</th>\n",
              "      <td>17</td>\n",
              "      <td>NaN</td>\n",
              "    </tr>\n",
              "    <tr>\n",
              "      <th>H12100</th>\n",
              "      <td>14</td>\n",
              "      <td>Committee report of an original measure</td>\n",
              "    </tr>\n",
              "    <tr>\n",
              "      <th>H38900</th>\n",
              "      <td>9</td>\n",
              "      <td>NaN</td>\n",
              "    </tr>\n",
              "    <tr>\n",
              "      <th>19500</th>\n",
              "      <td>8</td>\n",
              "      <td>NaN</td>\n",
              "    </tr>\n",
              "    <tr>\n",
              "      <th>H41931</th>\n",
              "      <td>8</td>\n",
              "      <td>NaN</td>\n",
              "    </tr>\n",
              "    <tr>\n",
              "      <th>H41610</th>\n",
              "      <td>8</td>\n",
              "      <td>NaN</td>\n",
              "    </tr>\n",
              "    <tr>\n",
              "      <th>16000</th>\n",
              "      <td>7</td>\n",
              "      <td>Senate floor actions</td>\n",
              "    </tr>\n",
              "    <tr>\n",
              "      <th>14900</th>\n",
              "      <td>6</td>\n",
              "      <td>Senate committee report filed after reporting</td>\n",
              "    </tr>\n",
              "    <tr>\n",
              "      <th>H30200</th>\n",
              "      <td>6</td>\n",
              "      <td>NaN</td>\n",
              "    </tr>\n",
              "    <tr>\n",
              "      <th>H12420</th>\n",
              "      <td>5</td>\n",
              "      <td>NaN</td>\n",
              "    </tr>\n",
              "    <tr>\n",
              "      <th>H11210</th>\n",
              "      <td>5</td>\n",
              "      <td>NaN</td>\n",
              "    </tr>\n",
              "    <tr>\n",
              "      <th>H12210</th>\n",
              "      <td>5</td>\n",
              "      <td>NaN</td>\n",
              "    </tr>\n",
              "    <tr>\n",
              "      <th>4100</th>\n",
              "      <td>4</td>\n",
              "      <td>House committee/subcommittee hearings</td>\n",
              "    </tr>\n",
              "    <tr>\n",
              "      <th>9000</th>\n",
              "      <td>4</td>\n",
              "      <td>Failed of passage/not agreed to in House</td>\n",
              "    </tr>\n",
              "    <tr>\n",
              "      <th>H82000</th>\n",
              "      <td>3</td>\n",
              "      <td>NaN</td>\n",
              "    </tr>\n",
              "    <tr>\n",
              "      <th>H36610</th>\n",
              "      <td>3</td>\n",
              "      <td>NaN</td>\n",
              "    </tr>\n",
              "    <tr>\n",
              "      <th>H36600</th>\n",
              "      <td>3</td>\n",
              "      <td>NaN</td>\n",
              "    </tr>\n",
              "    <tr>\n",
              "      <th>20500</th>\n",
              "      <td>3</td>\n",
              "      <td>NaN</td>\n",
              "    </tr>\n",
              "    <tr>\n",
              "      <th>H41400</th>\n",
              "      <td>3</td>\n",
              "      <td>NaN</td>\n",
              "    </tr>\n",
              "    <tr>\n",
              "      <th>13100</th>\n",
              "      <td>3</td>\n",
              "      <td>Senate committee/subcommittee hearings</td>\n",
              "    </tr>\n",
              "    <tr>\n",
              "      <th>H17000</th>\n",
              "      <td>3</td>\n",
              "      <td>Motion to Discharge Committee</td>\n",
              "    </tr>\n",
              "    <tr>\n",
              "      <th>H12440</th>\n",
              "      <td>2</td>\n",
              "      <td>NaN</td>\n",
              "    </tr>\n",
              "    <tr>\n",
              "      <th>H38400</th>\n",
              "      <td>2</td>\n",
              "      <td>NaN</td>\n",
              "    </tr>\n",
              "    <tr>\n",
              "      <th>H40150</th>\n",
              "      <td>2</td>\n",
              "      <td>NaN</td>\n",
              "    </tr>\n",
              "    <tr>\n",
              "      <th>H40140</th>\n",
              "      <td>2</td>\n",
              "      <td>NaN</td>\n",
              "    </tr>\n",
              "    <tr>\n",
              "      <th>H40110</th>\n",
              "      <td>2</td>\n",
              "      <td>NaN</td>\n",
              "    </tr>\n",
              "    <tr>\n",
              "      <th>20000</th>\n",
              "      <td>2</td>\n",
              "      <td>Resolving differences -- Senate actions</td>\n",
              "    </tr>\n",
              "    <tr>\n",
              "      <th>H30800</th>\n",
              "      <td>1</td>\n",
              "      <td>NaN</td>\n",
              "    </tr>\n",
              "    <tr>\n",
              "      <th>H38410</th>\n",
              "      <td>1</td>\n",
              "      <td>NaN</td>\n",
              "    </tr>\n",
              "    <tr>\n",
              "      <th>H40130</th>\n",
              "      <td>1</td>\n",
              "      <td>NaN</td>\n",
              "    </tr>\n",
              "    <tr>\n",
              "      <th>H41930</th>\n",
              "      <td>1</td>\n",
              "      <td>NaN</td>\n",
              "    </tr>\n",
              "  </tbody>\n",
              "</table>\n",
              "</div>\n",
              "      <button class=\"colab-df-convert\" onclick=\"convertToInteractive('df-0a59dcf0-af6c-433e-9526-63f08d65cf23')\"\n",
              "              title=\"Convert this dataframe to an interactive table.\"\n",
              "              style=\"display:none;\">\n",
              "        \n",
              "  <svg xmlns=\"http://www.w3.org/2000/svg\" height=\"24px\"viewBox=\"0 0 24 24\"\n",
              "       width=\"24px\">\n",
              "    <path d=\"M0 0h24v24H0V0z\" fill=\"none\"/>\n",
              "    <path d=\"M18.56 5.44l.94 2.06.94-2.06 2.06-.94-2.06-.94-.94-2.06-.94 2.06-2.06.94zm-11 1L8.5 8.5l.94-2.06 2.06-.94-2.06-.94L8.5 2.5l-.94 2.06-2.06.94zm10 10l.94 2.06.94-2.06 2.06-.94-2.06-.94-.94-2.06-.94 2.06-2.06.94z\"/><path d=\"M17.41 7.96l-1.37-1.37c-.4-.4-.92-.59-1.43-.59-.52 0-1.04.2-1.43.59L10.3 9.45l-7.72 7.72c-.78.78-.78 2.05 0 2.83L4 21.41c.39.39.9.59 1.41.59.51 0 1.02-.2 1.41-.59l7.78-7.78 2.81-2.81c.8-.78.8-2.07 0-2.86zM5.41 20L4 18.59l7.72-7.72 1.47 1.35L5.41 20z\"/>\n",
              "  </svg>\n",
              "      </button>\n",
              "      \n",
              "  <style>\n",
              "    .colab-df-container {\n",
              "      display:flex;\n",
              "      flex-wrap:wrap;\n",
              "      gap: 12px;\n",
              "    }\n",
              "\n",
              "    .colab-df-convert {\n",
              "      background-color: #E8F0FE;\n",
              "      border: none;\n",
              "      border-radius: 50%;\n",
              "      cursor: pointer;\n",
              "      display: none;\n",
              "      fill: #1967D2;\n",
              "      height: 32px;\n",
              "      padding: 0 0 0 0;\n",
              "      width: 32px;\n",
              "    }\n",
              "\n",
              "    .colab-df-convert:hover {\n",
              "      background-color: #E2EBFA;\n",
              "      box-shadow: 0px 1px 2px rgba(60, 64, 67, 0.3), 0px 1px 3px 1px rgba(60, 64, 67, 0.15);\n",
              "      fill: #174EA6;\n",
              "    }\n",
              "\n",
              "    [theme=dark] .colab-df-convert {\n",
              "      background-color: #3B4455;\n",
              "      fill: #D2E3FC;\n",
              "    }\n",
              "\n",
              "    [theme=dark] .colab-df-convert:hover {\n",
              "      background-color: #434B5C;\n",
              "      box-shadow: 0px 1px 3px 1px rgba(0, 0, 0, 0.15);\n",
              "      filter: drop-shadow(0px 1px 2px rgba(0, 0, 0, 0.3));\n",
              "      fill: #FFFFFF;\n",
              "    }\n",
              "  </style>\n",
              "\n",
              "      <script>\n",
              "        const buttonEl =\n",
              "          document.querySelector('#df-0a59dcf0-af6c-433e-9526-63f08d65cf23 button.colab-df-convert');\n",
              "        buttonEl.style.display =\n",
              "          google.colab.kernel.accessAllowed ? 'block' : 'none';\n",
              "\n",
              "        async function convertToInteractive(key) {\n",
              "          const element = document.querySelector('#df-0a59dcf0-af6c-433e-9526-63f08d65cf23');\n",
              "          const dataTable =\n",
              "            await google.colab.kernel.invokeFunction('convertToInteractive',\n",
              "                                                     [key], {});\n",
              "          if (!dataTable) return;\n",
              "\n",
              "          const docLinkHtml = 'Like what you see? Visit the ' +\n",
              "            '<a target=\"_blank\" href=https://colab.research.google.com/notebooks/data_table.ipynb>data table notebook</a>'\n",
              "            + ' to learn more about interactive tables.';\n",
              "          element.innerHTML = '';\n",
              "          dataTable['output_type'] = 'display_data';\n",
              "          await google.colab.output.renderOutput(dataTable, element);\n",
              "          const docLink = document.createElement('div');\n",
              "          docLink.innerHTML = docLinkHtml;\n",
              "          element.appendChild(docLink);\n",
              "        }\n",
              "      </script>\n",
              "    </div>\n",
              "  </div>\n",
              "  "
            ],
            "text/plain": [
              "           Frequency                                         actionName\n",
              "1000            6132                                Introduced in House\n",
              "Intro-H         6118                                                NaN\n",
              "H11100          6109                          Referred to the Committee\n",
              "10000           3735                               Introduced in Senate\n",
              "11000           3348                       Referred to Senate committee\n",
              "3000            2951                     Referred to House subcommittee\n",
              "H30000           485                             Consideration by House\n",
              "H8D000           392                                             DEBATE\n",
              "8000             337                          Passed/agreed to in House\n",
              "H30300           281                                                NaN\n",
              "H37300           281  Final Passage Under Suspension of the Rules Re...\n",
              "B00100           247            Sponsor introductory remarks on measure\n",
              "H38310           232                       Motion To Reconsider Results\n",
              "17000            221                         Passed/agreed to in Senate\n",
              "H37220           210                                                NaN\n",
              "4000             177               House committee/subcommittee actions\n",
              "5000             161                                  Reported to House\n",
              "H12410           120                          Union Calendar assignment\n",
              "H12200           115                                 Committee reported\n",
              "H1B000           105                                                NaN\n",
              "SenateCal        104                                                NaN\n",
              "14000            100                                 Reported to Senate\n",
              "H15000            85                                   Held at the desk\n",
              "H14000            85                              Received in the House\n",
              "E20000            70                             Presented to President\n",
              "28000             70                             Presented to President\n",
              "E30000            68                                Signed by President\n",
              "E40000            68                       Became Public Law No: 114-47\n",
              "36000             68                                  Became Public Law\n",
              "H37100            60                                                NaN\n",
              "14500             56                        Senate committee discharged\n",
              "H1L210            54                 Rule provides for consideration of\n",
              "H35000            51  The previous question was ordered pursuant to ...\n",
              "4200              42               House committee/subcommittee markups\n",
              "H36210            28                                                NaN\n",
              "H36200            28                                                NaN\n",
              "H8A000            26                                                NaN\n",
              "H1L220            21                        Rule passed/agreed in House\n",
              "H12300            18                               Committee discharged\n",
              "5500              18                         House committee discharged\n",
              "H38800            17                                                NaN\n",
              "H12100            14            Committee report of an original measure\n",
              "H38900             9                                                NaN\n",
              "19500              8                                                NaN\n",
              "H41931             8                                                NaN\n",
              "H41610             8                                                NaN\n",
              "16000              7                               Senate floor actions\n",
              "14900              6      Senate committee report filed after reporting\n",
              "H30200             6                                                NaN\n",
              "H12420             5                                                NaN\n",
              "H11210             5                                                NaN\n",
              "H12210             5                                                NaN\n",
              "4100               4              House committee/subcommittee hearings\n",
              "9000               4           Failed of passage/not agreed to in House\n",
              "H82000             3                                                NaN\n",
              "H36610             3                                                NaN\n",
              "H36600             3                                                NaN\n",
              "20500              3                                                NaN\n",
              "H41400             3                                                NaN\n",
              "13100              3             Senate committee/subcommittee hearings\n",
              "H17000             3                      Motion to Discharge Committee\n",
              "H12440             2                                                NaN\n",
              "H38400             2                                                NaN\n",
              "H40150             2                                                NaN\n",
              "H40140             2                                                NaN\n",
              "H40110             2                                                NaN\n",
              "20000              2            Resolving differences -- Senate actions\n",
              "H30800             1                                                NaN\n",
              "H38410             1                                                NaN\n",
              "H40130             1                                                NaN\n",
              "H41930             1                                                NaN"
            ]
          },
          "metadata": {},
          "execution_count": 31
        }
      ]
    },
    {
      "cell_type": "code",
      "source": [
        "new_dict = {'Intro-H' : 'Introduced in House', # IntroReferral\n",
        "            'H30300' : 'Motion to suspend rules and pass bill', # House Floor\n",
        "            'H37220' : 'Further proceedings postponed', #  House Floor\n",
        "            'H1B000' : 'Proceedings are considered vacated', #  Senate Calendars\n",
        "            'SenateCal' : 'Placed on Senate Legislative Calendar',\n",
        "            'E40000' : 'Became Public Law', # President # Generalization needed\n",
        "            'H37100' : 'Passed/agreed to in House', # House Floor\n",
        "            'H36210' : 'Motion to recommit Failed', # House Floor\n",
        "            'H36200' : 'Motion to recommit to Committee', # House Floor - Should occur prior to H36210\n",
        "            'H8A000' : \"Motion to recommit ordered\", # House Floor\n",
        "            'H38800' : 'Title of measure amended', # House Floor\n",
        "            'H38900' : 'Clerk technical correction', # House Floor\n",
        "            '19500' : actionCode_dict['19000'], # House Floor - same as 19000, but possibly after senate amendment\n",
        "            'H41931' : 'Motion to Reconsider Agreed', # House Resolving Differences\n",
        "            'H41610' : actionCode_dict['19000'], # House Resolving Differences - same as 19000, but possibly after senate amendment\n",
        "            'H30200' : 'Motion to Consider', # House Floor\n",
        "            'H12420' : 'Placed on House Calendar', # House Calendars\n",
        "            'H11210' : 'House committee time extension', # House Intro Referral - same as 4900\n",
        "            'H82000' : 'Motion to table Motion to Reconsider', # House Resolving Differences\n",
        "            'H36610' : 'Motion to table Motion to Reconsider Agreed', # House Floor\n",
        "            'H36600' : 'Motion to table Motion to Reconsider', # House Floor - same as H82000\n",
        "            '20500' : actionCode_dict['20000'], # Senate Resolving Differences - same as 20000, but possibly after house amendment\n",
        "            'H41400' : actionCode_dict['H35000']} # House Resolving Differences - same as H35000\n",
        "            \n",
        "\n",
        "\n",
        "\n"
      ],
      "metadata": {
        "id": "HeutjxMSEIVv"
      },
      "execution_count": 83,
      "outputs": []
    },
    {
      "cell_type": "code",
      "source": [
        "view = df.loc[df['actionCode'] == 'H35000']\n",
        "pd.set_option('display.max_colwidth', None)\n",
        "view.text"
      ],
      "metadata": {
        "colab": {
          "base_uri": "https://localhost:8080/"
        },
        "id": "SpxQGW_cE0N4",
        "outputId": "563233ed-e87f-4b1b-d3b7-e307f7f8142f"
      },
      "execution_count": 82,
      "outputs": [
        {
          "output_type": "execute_result",
          "data": {
            "text/plain": [
              "36                             The previous question was ordered pursuant to the rule.\n",
              "280                            The previous question was ordered pursuant to the rule.\n",
              "614                            The previous question was ordered pursuant to the rule.\n",
              "1209                           The previous question was ordered pursuant to the rule.\n",
              "1271                           The previous question was ordered pursuant to the rule.\n",
              "1726                           The previous question was ordered pursuant to the rule.\n",
              "1926                           The previous question was ordered pursuant to the rule.\n",
              "2022                           The previous question was ordered pursuant to the rule.\n",
              "2545                           The previous question was ordered pursuant to the rule.\n",
              "3263                           The previous question was ordered pursuant to the rule.\n",
              "3408                           The previous question was ordered pursuant to the rule.\n",
              "3506                           The previous question was ordered pursuant to the rule.\n",
              "3553                           The previous question was ordered pursuant to the rule.\n",
              "4691                              The previous question was ordered without objection.\n",
              "5682                           The previous question was ordered pursuant to the rule.\n",
              "5991                              The previous question was ordered without objection.\n",
              "7223                           The previous question was ordered pursuant to the rule.\n",
              "7600                           The previous question was ordered pursuant to the rule.\n",
              "8016                           The previous question was ordered pursuant to the rule.\n",
              "8078                           The previous question was ordered pursuant to the rule.\n",
              "8618                           The previous question was ordered pursuant to the rule.\n",
              "10260                          The previous question was ordered pursuant to the rule.\n",
              "10718                          The previous question was ordered pursuant to the rule.\n",
              "11293                          The previous question was ordered pursuant to the rule.\n",
              "11318                          The previous question was ordered pursuant to the rule.\n",
              "11893    The previous question was ordered pursuant to a previous  order of the House.\n",
              "13372                          The previous question was ordered pursuant to the rule.\n",
              "13741                          The previous question was ordered pursuant to the rule.\n",
              "14741                          The previous question was ordered pursuant to the rule.\n",
              "14783                          The previous question was ordered pursuant to the rule.\n",
              "14817                          The previous question was ordered pursuant to the rule.\n",
              "16354                             The previous question was ordered without objection.\n",
              "16395                          The previous question was ordered pursuant to the rule.\n",
              "16523                             The previous question was ordered without objection.\n",
              "16942                          The previous question was ordered pursuant to the rule.\n",
              "17100                          The previous question was ordered pursuant to the rule.\n",
              "19209                          The previous question was ordered pursuant to the rule.\n",
              "19621                          The previous question was ordered pursuant to the rule.\n",
              "20438                          The previous question was ordered pursuant to the rule.\n",
              "20743                          The previous question was ordered pursuant to the rule.\n",
              "23156                          The previous question was ordered pursuant to the rule.\n",
              "23809                             The previous question was ordered without objection.\n",
              "24341                          The previous question was ordered pursuant to the rule.\n",
              "24533                          The previous question was ordered pursuant to the rule.\n",
              "26051                             The previous question was ordered without objection.\n",
              "26832                          The previous question was ordered pursuant to the rule.\n",
              "31446                          The previous question was ordered pursuant to the rule.\n",
              "31863                          The previous question was ordered pursuant to the rule.\n",
              "32912                          The previous question was ordered pursuant to the rule.\n",
              "32934                          The previous question was ordered pursuant to the rule.\n",
              "32954                          The previous question was ordered pursuant to the rule.\n",
              "Name: text, dtype: object"
            ]
          },
          "metadata": {},
          "execution_count": 82
        }
      ]
    }
  ]
}