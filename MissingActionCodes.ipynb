{
  "nbformat": 4,
  "nbformat_minor": 0,
  "metadata": {
    "colab": {
      "name": "MissingActionCodes.ipynb",
      "provenance": [],
      "collapsed_sections": [],
      "authorship_tag": "ABX9TyOflymVslPoKQNKMwWUmDRo",
      "include_colab_link": true
    },
    "kernelspec": {
      "name": "python3",
      "display_name": "Python 3"
    },
    "language_info": {
      "name": "python"
    }
  },
  "cells": [
    {
      "cell_type": "markdown",
      "metadata": {
        "id": "view-in-github",
        "colab_type": "text"
      },
      "source": [
        "<a href=\"https://colab.research.google.com/github/KatBCN/PODS-Project/blob/main/MissingActionCodes.ipynb\" target=\"_parent\"><img src=\"https://colab.research.google.com/assets/colab-badge.svg\" alt=\"Open In Colab\"/></a>"
      ]
    },
    {
      "cell_type": "code",
      "execution_count": 163,
      "metadata": {
        "id": "T7SyYuwXdgs5"
      },
      "outputs": [],
      "source": [
        "import pandas as pd\n",
        "import datetime"
      ]
    },
    {
      "cell_type": "code",
      "source": [
        "# Import raw data from Github link\n",
        "dfRaw = pd.read_csv(\"https://raw.githubusercontent.com/KatBCN/PODS-Project/Irene/obtain_data/data/117Congress_BillActions_RAW.csv\")\n",
        "\n",
        "# Import action code dictionary from Github link\n",
        "actionCode_df = pd.read_csv(\"https://raw.githubusercontent.com/KatBCN/PODS-Project/Irene/obtain_data/data/actionCode_dict.csv\", sep = '\\t', )[['Code','Action']]\n",
        "actionCode_df.columns = ['actionCode','actionName']"
      ],
      "metadata": {
        "id": "SV5BbwsdeIcc"
      },
      "execution_count": 164,
      "outputs": []
    },
    {
      "cell_type": "code",
      "source": [
        "# Show shape of raw data frame\n",
        "dfRaw.shape"
      ],
      "metadata": {
        "colab": {
          "base_uri": "https://localhost:8080/"
        },
        "id": "cvazC_5WeQw-",
        "outputId": "79013391-47dc-4d17-9bc9-3b52e6d2406c"
      },
      "execution_count": 165,
      "outputs": [
        {
          "output_type": "execute_result",
          "data": {
            "text/plain": [
              "(33020, 11)"
            ]
          },
          "metadata": {},
          "execution_count": 165
        }
      ]
    },
    {
      "cell_type": "code",
      "source": [
        "# Show column titles and types\n",
        "dfRaw.dtypes"
      ],
      "metadata": {
        "colab": {
          "base_uri": "https://localhost:8080/"
        },
        "id": "a8aP39dGeb6R",
        "outputId": "d10199a3-e69c-4f3a-be0f-b1fad7defa95"
      },
      "execution_count": 166,
      "outputs": [
        {
          "output_type": "execute_result",
          "data": {
            "text/plain": [
              "billTitle            object\n",
              "billNumber            int64\n",
              "billType             object\n",
              "congress              int64\n",
              "fullDate             object\n",
              "actionCode           object\n",
              "actionName           object\n",
              "type                 object\n",
              "sourceSystem/name    object\n",
              "text                 object\n",
              "billOriginalTitle    object\n",
              "dtype: object"
            ]
          },
          "metadata": {},
          "execution_count": 166
        }
      ]
    },
    {
      "cell_type": "code",
      "source": [
        "# Assign data types\n",
        "dfRaw = dfRaw.astype({'billNumber':object, 'congress':object, 'fullDate':'datetime64'})"
      ],
      "metadata": {
        "id": "PxGQ9WsqlM17"
      },
      "execution_count": 167,
      "outputs": []
    },
    {
      "cell_type": "code",
      "source": [
        "# Check for duplicates\n",
        "sum(dfRaw.duplicated())"
      ],
      "metadata": {
        "colab": {
          "base_uri": "https://localhost:8080/"
        },
        "id": "p7uAx3Y5h0E7",
        "outputId": "0bb26078-253f-4df4-edef-7745831c52f6"
      },
      "execution_count": 168,
      "outputs": [
        {
          "output_type": "execute_result",
          "data": {
            "text/plain": [
              "0"
            ]
          },
          "metadata": {},
          "execution_count": 168
        }
      ]
    },
    {
      "cell_type": "code",
      "source": [
        "# Show first 5 rows of data\n",
        "dfRaw.head(5)"
      ],
      "metadata": {
        "colab": {
          "base_uri": "https://localhost:8080/",
          "height": 643
        },
        "id": "axI1TERXe2lH",
        "outputId": "97fd37f4-39e3-4f3e-f18c-3371a6d62c07"
      },
      "execution_count": 169,
      "outputs": [
        {
          "output_type": "execute_result",
          "data": {
            "text/html": [
              "<div>\n",
              "<style scoped>\n",
              "    .dataframe tbody tr th:only-of-type {\n",
              "        vertical-align: middle;\n",
              "    }\n",
              "\n",
              "    .dataframe tbody tr th {\n",
              "        vertical-align: top;\n",
              "    }\n",
              "\n",
              "    .dataframe thead th {\n",
              "        text-align: right;\n",
              "    }\n",
              "</style>\n",
              "<table border=\"1\" class=\"dataframe\">\n",
              "  <thead>\n",
              "    <tr style=\"text-align: right;\">\n",
              "      <th></th>\n",
              "      <th>billTitle</th>\n",
              "      <th>billNumber</th>\n",
              "      <th>billType</th>\n",
              "      <th>congress</th>\n",
              "      <th>fullDate</th>\n",
              "      <th>actionCode</th>\n",
              "      <th>actionName</th>\n",
              "      <th>type</th>\n",
              "      <th>sourceSystem/name</th>\n",
              "      <th>text</th>\n",
              "      <th>billOriginalTitle</th>\n",
              "    </tr>\n",
              "  </thead>\n",
              "  <tbody>\n",
              "    <tr>\n",
              "      <th>0</th>\n",
              "      <td>Proposing an amendment to the Constitution of ...</td>\n",
              "      <td>1</td>\n",
              "      <td>HJRES</td>\n",
              "      <td>117</td>\n",
              "      <td>2021-01-04</td>\n",
              "      <td>1000</td>\n",
              "      <td>Introduced in House</td>\n",
              "      <td>IntroReferral</td>\n",
              "      <td>Library of Congress</td>\n",
              "      <td>Introduced in House</td>\n",
              "      <td>Proposing an amendment to the Constitution of ...</td>\n",
              "    </tr>\n",
              "    <tr>\n",
              "      <th>1</th>\n",
              "      <td>Proposing an amendment to the Constitution of ...</td>\n",
              "      <td>1</td>\n",
              "      <td>HJRES</td>\n",
              "      <td>117</td>\n",
              "      <td>2021-01-04</td>\n",
              "      <td>H11100</td>\n",
              "      <td>Referred to the Committee</td>\n",
              "      <td>IntroReferral</td>\n",
              "      <td>House floor actions</td>\n",
              "      <td>Referred to the House Committee on the Judiciary.</td>\n",
              "      <td>Proposing an amendment to the Constitution of ...</td>\n",
              "    </tr>\n",
              "    <tr>\n",
              "      <th>2</th>\n",
              "      <td>Proposing an amendment to the Constitution of ...</td>\n",
              "      <td>1</td>\n",
              "      <td>HJRES</td>\n",
              "      <td>117</td>\n",
              "      <td>2021-01-04</td>\n",
              "      <td>Intro-H</td>\n",
              "      <td>NaN</td>\n",
              "      <td>IntroReferral</td>\n",
              "      <td>Library of Congress</td>\n",
              "      <td>Introduced in House</td>\n",
              "      <td>Proposing an amendment to the Constitution of ...</td>\n",
              "    </tr>\n",
              "    <tr>\n",
              "      <th>3</th>\n",
              "      <td>Proposing an amendment to the Constitution of ...</td>\n",
              "      <td>1</td>\n",
              "      <td>HJRES</td>\n",
              "      <td>117</td>\n",
              "      <td>2021-03-04</td>\n",
              "      <td>NaN</td>\n",
              "      <td>NaN</td>\n",
              "      <td>Committee</td>\n",
              "      <td>House committee actions</td>\n",
              "      <td>Referred to the Subcommittee on the Constituti...</td>\n",
              "      <td>Proposing an amendment to the Constitution of ...</td>\n",
              "    </tr>\n",
              "    <tr>\n",
              "      <th>4</th>\n",
              "      <td>Expressing support for designation of Septembe...</td>\n",
              "      <td>10</td>\n",
              "      <td>HJRES</td>\n",
              "      <td>117</td>\n",
              "      <td>2021-01-04</td>\n",
              "      <td>1000</td>\n",
              "      <td>Introduced in House</td>\n",
              "      <td>IntroReferral</td>\n",
              "      <td>Library of Congress</td>\n",
              "      <td>Introduced in House</td>\n",
              "      <td>Expressing support for designation of Septembe...</td>\n",
              "    </tr>\n",
              "  </tbody>\n",
              "</table>\n",
              "</div>"
            ],
            "text/plain": [
              "                                           billTitle  ...                                  billOriginalTitle\n",
              "0  Proposing an amendment to the Constitution of ...  ...  Proposing an amendment to the Constitution of ...\n",
              "1  Proposing an amendment to the Constitution of ...  ...  Proposing an amendment to the Constitution of ...\n",
              "2  Proposing an amendment to the Constitution of ...  ...  Proposing an amendment to the Constitution of ...\n",
              "3  Proposing an amendment to the Constitution of ...  ...  Proposing an amendment to the Constitution of ...\n",
              "4  Expressing support for designation of Septembe...  ...  Expressing support for designation of Septembe...\n",
              "\n",
              "[5 rows x 11 columns]"
            ]
          },
          "metadata": {},
          "execution_count": 169
        }
      ]
    },
    {
      "cell_type": "code",
      "source": [
        "# Create function to view summary statistics of each variable.\n",
        "def mySummary(df):\n",
        "    for v in df.columns:\n",
        "            print (\"\\n\" + v)\n",
        "            print(df[v].describe())"
      ],
      "metadata": {
        "id": "Iuy4Vh0-jJ2h"
      },
      "execution_count": 170,
      "outputs": []
    },
    {
      "cell_type": "code",
      "source": [
        "mySummary(dfRaw)"
      ],
      "metadata": {
        "colab": {
          "base_uri": "https://localhost:8080/"
        },
        "id": "TPU91AfPjUMM",
        "outputId": "f461f1f9-3c3b-454f-89f4-e0cf10462fcc"
      },
      "execution_count": 171,
      "outputs": [
        {
          "output_type": "stream",
          "name": "stdout",
          "text": [
            "\n",
            "billTitle\n",
            "count                                                 33020\n",
            "unique                                                 7675\n",
            "top       National Defense Authorization Act for Fiscal ...\n",
            "freq                                                     43\n",
            "Name: billTitle, dtype: object\n",
            "\n",
            "billNumber\n",
            "count     33020\n",
            "unique     6065\n",
            "top         610\n",
            "freq         41\n",
            "Name: billNumber, dtype: int64\n",
            "\n",
            "billType\n",
            "count     33020\n",
            "unique        4\n",
            "top          HR\n",
            "freq      24976\n",
            "Name: billType, dtype: object\n",
            "\n",
            "congress\n",
            "count     33020\n",
            "unique        1\n",
            "top         117\n",
            "freq      33020\n",
            "Name: congress, dtype: int64\n",
            "\n",
            "fullDate\n",
            "count                   33020\n",
            "unique                   2706\n",
            "top       2021-01-28 00:00:00\n",
            "freq                      587\n",
            "first     2021-01-03 00:00:00\n",
            "last      2021-12-10 00:00:00\n",
            "Name: fullDate, dtype: object\n",
            "\n",
            "actionCode\n",
            "count     25921\n",
            "unique       62\n",
            "top        1000\n",
            "freq       6132\n",
            "Name: actionCode, dtype: object\n",
            "\n",
            "actionName\n",
            "count                   18965\n",
            "unique                     30\n",
            "top       Introduced in House\n",
            "freq                     6132\n",
            "Name: actionName, dtype: object\n",
            "\n",
            "type\n",
            "count             33020\n",
            "unique                9\n",
            "top       IntroReferral\n",
            "freq              25644\n",
            "Name: type, dtype: object\n",
            "\n",
            "sourceSystem/name\n",
            "count                   33020\n",
            "unique                      4\n",
            "top       Library of Congress\n",
            "freq                    16959\n",
            "Name: sourceSystem/name, dtype: object\n",
            "\n",
            "text\n",
            "count                   33020\n",
            "unique                   3781\n",
            "top       Introduced in House\n",
            "freq                    12250\n",
            "Name: text, dtype: object\n",
            "\n",
            "billOriginalTitle\n",
            "count                                                  3685\n",
            "unique                                                  927\n",
            "top       To prevent across-the-board direct spending cu...\n",
            "freq                                                     26\n",
            "Name: billOriginalTitle, dtype: object\n"
          ]
        },
        {
          "output_type": "stream",
          "name": "stderr",
          "text": [
            "/usr/local/lib/python3.7/dist-packages/ipykernel_launcher.py:5: FutureWarning: Treating datetime data as categorical rather than numeric in `.describe` is deprecated and will be removed in a future version of pandas. Specify `datetime_is_numeric=True` to silence this warning and adopt the future behavior now.\n",
            "  \"\"\"\n"
          ]
        }
      ]
    },
    {
      "cell_type": "code",
      "source": [
        "# Create variable of unique actionCodes\n",
        "actionCodes = dfRaw['actionCode'].unique()\n",
        "actionCodes"
      ],
      "metadata": {
        "colab": {
          "base_uri": "https://localhost:8080/"
        },
        "id": "riC-T5Nrfdut",
        "outputId": "4a2656ff-b2b2-45c9-99e0-13cacfa8bff3"
      },
      "execution_count": 172,
      "outputs": [
        {
          "output_type": "execute_result",
          "data": {
            "text/plain": [
              "array(['1000', 'H11100', 'Intro-H', nan, 'H1L210', 'H1L220', 'H30000',\n",
              "       'H8D000', 'H35000', '8000', 'H37100', 'H38310', 'B00100', '5500',\n",
              "       'H12300', 'H30200', '14500', '17000', '28000', 'E20000', '36000',\n",
              "       'E30000', 'E40000', '5000', 'H12200', 'H12410', 'H36200', 'H8A000',\n",
              "       'H36210', 'H38900', 'H30300', 'H37220', 'H37300', 'H1B000', '9000',\n",
              "       'H38800', '19500', 'H41610', 'H41931', 'H12100', 'H40150',\n",
              "       'H41400', 'H12440', 'H40110', 'H40140', 'H11210', '14000',\n",
              "       'H36600', 'H36610', 'H17000', 'H12210', 'H12420', 'H30800',\n",
              "       'H41930', 'H82000', 'H38400', 'H38410', 'H40130', '10000',\n",
              "       'H14000', 'H15000', '20500', '14900'], dtype=object)"
            ]
          },
          "metadata": {},
          "execution_count": 172
        }
      ]
    },
    {
      "cell_type": "code",
      "source": [
        "# Show number of unique actionCodes\n",
        "actionCodes.shape"
      ],
      "metadata": {
        "colab": {
          "base_uri": "https://localhost:8080/"
        },
        "id": "tVOymYkpfnzU",
        "outputId": "f5116140-6fcd-416a-da2a-5dc20f047143"
      },
      "execution_count": 173,
      "outputs": [
        {
          "output_type": "execute_result",
          "data": {
            "text/plain": [
              "(63,)"
            ]
          },
          "metadata": {},
          "execution_count": 173
        }
      ]
    },
    {
      "cell_type": "code",
      "source": [
        "# Create variable of unique actionNames\n",
        "actionNames = dfRaw['actionName'].unique()\n",
        "actionNames"
      ],
      "metadata": {
        "colab": {
          "base_uri": "https://localhost:8080/"
        },
        "id": "Lsz8xtBXoDwH",
        "outputId": "10888928-1162-4e5f-d7c1-ca0011a4fd0e"
      },
      "execution_count": 174,
      "outputs": [
        {
          "output_type": "execute_result",
          "data": {
            "text/plain": [
              "array(['Introduced in House', 'Referred to the Committee', nan,\n",
              "       'Rule provides for consideration of',\n",
              "       'Rule passed/agreed in House', 'Consideration by House', 'DEBATE',\n",
              "       'The previous question was ordered pursuant to the rule',\n",
              "       'Passed/agreed to in House', 'Motion To Reconsider Results',\n",
              "       'Sponsor introductory remarks on measure',\n",
              "       'House committee discharged', 'Committee discharged',\n",
              "       'Senate committee discharged', 'Passed/agreed to in Senate',\n",
              "       'Presented to President', 'Became Public Law',\n",
              "       'Signed by President', 'Became Public Law No: 114-47',\n",
              "       'Reported to House', 'Committee reported',\n",
              "       'Union Calendar assignment',\n",
              "       'Final Passage Under Suspension of the Rules Results',\n",
              "       'Failed of passage/not agreed to in House',\n",
              "       'Committee report of an original measure', 'Reported to Senate',\n",
              "       'Motion to Discharge Committee', 'Introduced in Senate',\n",
              "       'Received in the House', 'Held at the desk',\n",
              "       'Senate committee report filed after reporting'], dtype=object)"
            ]
          },
          "metadata": {},
          "execution_count": 174
        }
      ]
    },
    {
      "cell_type": "code",
      "source": [
        "# Show number of unique actionNames\n",
        "actionNames.shape"
      ],
      "metadata": {
        "colab": {
          "base_uri": "https://localhost:8080/"
        },
        "id": "zgYMgELLoNvH",
        "outputId": "42f631f3-83de-45c0-c82c-88d37da56f56"
      },
      "execution_count": 175,
      "outputs": [
        {
          "output_type": "execute_result",
          "data": {
            "text/plain": [
              "(31,)"
            ]
          },
          "metadata": {},
          "execution_count": 175
        }
      ]
    },
    {
      "cell_type": "markdown",
      "source": [
        "In order to fill in missing action codes and maintain consistency, we will reference the websites: https://www.congress.gov/help/field-values/action-codes and https://github.com/usgpo/bill-status/blob/master/BILLSTATUS-XML_User_User-Guide.md#3-action-code-element-possible-values"
      ],
      "metadata": {
        "id": "LKjLRIE8nB8u"
      }
    },
    {
      "cell_type": "code",
      "source": [
        "# Create dicitionary of published action codes\n",
        "actionCode_dict = dict(zip(actionCode_df.actionCode, actionCode_df.actionName))\n",
        "len(actionCode_dict)"
      ],
      "metadata": {
        "colab": {
          "base_uri": "https://localhost:8080/"
        },
        "id": "QtWa4lLswB2I",
        "outputId": "4c52c312-1761-4e04-bd9c-f738b3471a22"
      },
      "execution_count": 176,
      "outputs": [
        {
          "output_type": "execute_result",
          "data": {
            "text/plain": [
              "93"
            ]
          },
          "metadata": {},
          "execution_count": 176
        }
      ]
    },
    {
      "cell_type": "code",
      "source": [
        "# Display action code dictionary from published sources\n",
        "actionCode_dict"
      ],
      "metadata": {
        "colab": {
          "base_uri": "https://localhost:8080/"
        },
        "id": "tAblAiLJzNlg",
        "outputId": "58008e63-584d-4bc4-f6fe-681928d5bc99"
      },
      "execution_count": 177,
      "outputs": [
        {
          "output_type": "execute_result",
          "data": {
            "text/plain": [
              "{'1000': 'Introduced in House',\n",
              " '10000': 'Introduced in Senate',\n",
              " '11000': 'Referred to Senate committee',\n",
              " '12000': 'Referred to Senate subcommittee',\n",
              " '13000': 'Senate committee/subcommittee actions',\n",
              " '13100': 'Senate committee/subcommittee hearings',\n",
              " '13200': 'Senate committee/subcommittee markups',\n",
              " '13900': 'Senate committee time extension',\n",
              " '14000': 'Reported to Senate',\n",
              " '14500': 'Senate committee discharged',\n",
              " '14900': 'Senate committee report filed after reporting',\n",
              " '16000': 'Senate floor actions',\n",
              " '17000': 'Passed/agreed to in Senate',\n",
              " '18000': 'Failed of passage/not agreed to in Senate',\n",
              " '19000': 'Resolving differences -- House actions',\n",
              " '2000': 'Referred to House committee',\n",
              " '20000': 'Resolving differences -- Senate actions',\n",
              " '20800': 'Conference committee actions',\n",
              " '20900': 'Conference report filed',\n",
              " '21000': 'Conference report agreed to in House',\n",
              " '22000': 'Conference report disagreed to in House',\n",
              " '23000': 'Conference report agreed to in Senate',\n",
              " '24000': 'Conference report disagreed to in Senate',\n",
              " '25000': 'Roll call votes on measures in House',\n",
              " '26000': 'Roll call votes on measures in Senate',\n",
              " '28000': 'Presented to President',\n",
              " '29000': 'Signed by President',\n",
              " '29100': 'Sent to Archivist unsigned by President',\n",
              " '3000': 'Referred to House subcommittee',\n",
              " '30000': 'Pocket vetoed by President',\n",
              " '31000': 'Vetoed by President',\n",
              " '32000': 'Passed House over veto',\n",
              " '33000': 'Failed of passage in House over veto',\n",
              " '34000': 'Passed Senate over veto',\n",
              " '35000': 'Failed of passage in Senate over veto',\n",
              " '36000': 'Became Public Law',\n",
              " '37000': 'Public Law signed by President',\n",
              " '38000': 'Public Law unsigned by President',\n",
              " '39000': 'Public Law enacted over veto',\n",
              " '4000': 'House committee/subcommittee actions',\n",
              " '40000': 'Public Law by other means',\n",
              " '4100': 'House committee/subcommittee hearings',\n",
              " '41000': 'Became Private Law',\n",
              " '4200': 'House committee/subcommittee markups',\n",
              " '42000': 'Private Law signed by President',\n",
              " '43000': 'Private Law unsigned by President',\n",
              " '44000': 'Private Law enacted over veto',\n",
              " '45000': 'Private Law by other means',\n",
              " '46000': 'Line item veto by President',\n",
              " '47000': 'Disapproval bill in House',\n",
              " '48000': 'Disapproval bill in Senate',\n",
              " '4900': 'House committee time extension',\n",
              " '4950': 'House discharge petition filed',\n",
              " '5000': 'Reported to House',\n",
              " '5500': 'House committee discharged',\n",
              " '7000': 'House floor actions',\n",
              " '71000': 'House amendment offered',\n",
              " '72000': 'House amendment agreed to',\n",
              " '72500': 'House amendment considered as adopted',\n",
              " '73000': 'House amendment not agreed to',\n",
              " '74000': 'Other House amendment actions',\n",
              " '75000': 'Roll call votes on amendments in House',\n",
              " '8000': 'Passed/agreed to in House',\n",
              " '9000': 'Failed of passage/not agreed to in House',\n",
              " '91000': 'Senate amendment submitted',\n",
              " '92000': 'Senate amendment referred to committee',\n",
              " '93000': 'Senate amendment proposed (on the floor)',\n",
              " '94000': 'Senate amendment agreed to',\n",
              " '95000': 'Senate amendment not agreed to',\n",
              " '96000': 'Other Senate amendment actions',\n",
              " '97000': 'Roll call votes on amendments in Senate',\n",
              " 'B00100': 'Sponsor introductory remarks on measure',\n",
              " 'E20000': 'Presented to President',\n",
              " 'E30000': 'Signed by President',\n",
              " 'E40000': 'Became Public Law No: 114-47',\n",
              " 'H11100': 'Referred to the Committee',\n",
              " 'H11200': 'Sequential committee referral',\n",
              " 'H12100': 'Committee report of an original measure',\n",
              " 'H12200': 'Committee reported',\n",
              " 'H12300': 'Committee discharged',\n",
              " 'H12410': 'Union Calendar assignment',\n",
              " 'H14000': 'Received in the House',\n",
              " 'H15000': 'Held at the desk',\n",
              " 'H17000': 'Motion to Discharge Committee',\n",
              " 'H1L210': 'Rule provides for consideration of',\n",
              " 'H1L220': 'Rule passed/agreed in House',\n",
              " 'H25200': 'Conference report [free text] filed',\n",
              " 'H30000': 'Consideration by House',\n",
              " 'H35000': 'The previous question was ordered pursuant to the rule',\n",
              " 'H37300': 'Final Passage Under Suspension of the Rules Results',\n",
              " 'H38310': 'Motion To Reconsider Results',\n",
              " 'H81000': 'Point of order against a motion',\n",
              " 'H8D000': 'DEBATE'}"
            ]
          },
          "metadata": {},
          "execution_count": 177
        }
      ]
    },
    {
      "cell_type": "markdown",
      "source": [
        "Dictionaries of Action Codes should be built per source system because multiple sources may use the same codes for different types of actions. The systems are not coordinated with each other."
      ],
      "metadata": {
        "id": "j3C8sOG6rGdA"
      }
    },
    {
      "cell_type": "code",
      "source": [
        "# Display unique source system names\n",
        "dfRaw['sourceSystem/name'].unique()"
      ],
      "metadata": {
        "colab": {
          "base_uri": "https://localhost:8080/"
        },
        "id": "gpKa_up4kxhh",
        "outputId": "447631cd-77ae-4e40-96e5-8967e10d06d9"
      },
      "execution_count": 178,
      "outputs": [
        {
          "output_type": "execute_result",
          "data": {
            "text/plain": [
              "array(['Library of Congress', 'House floor actions',\n",
              "       'House committee actions', 'Senate'], dtype=object)"
            ]
          },
          "metadata": {},
          "execution_count": 178
        }
      ]
    },
    {
      "cell_type": "code",
      "source": [
        "# Subset data frame per unique source system\n",
        "dfLOC = dfRaw.loc[dfRaw['sourceSystem/name'] == 'Library of Congress']\n",
        "dfHF = dfRaw.loc[dfRaw['sourceSystem/name'] == 'House floor actions']\n",
        "dfHC = dfRaw.loc[dfRaw['sourceSystem/name'] == 'House committee actions']\n",
        "dfS = dfRaw.loc[dfRaw['sourceSystem/name'] == 'Senate']"
      ],
      "metadata": {
        "id": "TN4wpMhCj68_"
      },
      "execution_count": 179,
      "outputs": []
    },
    {
      "cell_type": "code",
      "source": [
        "# Create dictionaries of action codes and names per system that appear in data\n",
        "codeNameLOC = dict(zip(dfLOC.actionCode, dfLOC.actionName))\n",
        "codeNameHF = dict(zip(dfHF.actionCode, dfHF.actionName))\n",
        "codeNameHC = dict(zip(dfHC.actionCode, dfHC.actionName))\n",
        "codeNameS = dict(zip(dfS.actionCode, dfS.actionName))"
      ],
      "metadata": {
        "id": "LHV-8zKBlgGy"
      },
      "execution_count": 180,
      "outputs": []
    },
    {
      "cell_type": "markdown",
      "source": [
        "Action Code Dictionary for Library of Congress:"
      ],
      "metadata": {
        "id": "aw_T54NRmIFD"
      }
    },
    {
      "cell_type": "code",
      "source": [
        "codeNameLOC"
      ],
      "metadata": {
        "colab": {
          "base_uri": "https://localhost:8080/"
        },
        "id": "fWXuAdVhl9qe",
        "outputId": "6786a837-3815-4bca-98a4-b3ca51aa8e74"
      },
      "execution_count": 181,
      "outputs": [
        {
          "output_type": "execute_result",
          "data": {
            "text/plain": [
              "{'1000': 'Introduced in House',\n",
              " '10000': 'Introduced in Senate',\n",
              " '14000': 'Reported to Senate',\n",
              " '14500': 'Senate committee discharged',\n",
              " '14900': 'Senate committee report filed after reporting',\n",
              " '17000': 'Passed/agreed to in Senate',\n",
              " '19500': nan,\n",
              " '20500': nan,\n",
              " '28000': 'Presented to President',\n",
              " '36000': 'Became Public Law',\n",
              " '5000': 'Reported to House',\n",
              " '5500': 'House committee discharged',\n",
              " '8000': 'Passed/agreed to in House',\n",
              " '9000': 'Failed of passage/not agreed to in House',\n",
              " 'B00100': 'Sponsor introductory remarks on measure',\n",
              " 'E30000': 'Signed by President',\n",
              " 'E40000': 'Became Public Law No: 114-47',\n",
              " 'Intro-H': nan}"
            ]
          },
          "metadata": {},
          "execution_count": 181
        }
      ]
    },
    {
      "cell_type": "markdown",
      "source": [
        "Action Code Dictionary for House of Representatives Floor Actions"
      ],
      "metadata": {
        "id": "twhFyfogmQhr"
      }
    },
    {
      "cell_type": "code",
      "source": [
        "codeNameHF"
      ],
      "metadata": {
        "colab": {
          "base_uri": "https://localhost:8080/"
        },
        "id": "Hpwff85XmGlS",
        "outputId": "64e7c5d4-2875-443e-8f9d-19f9ed99a844"
      },
      "execution_count": 182,
      "outputs": [
        {
          "output_type": "execute_result",
          "data": {
            "text/plain": [
              "{'E20000': 'Presented to President',\n",
              " 'H11100': 'Referred to the Committee',\n",
              " 'H11210': nan,\n",
              " 'H12100': 'Committee report of an original measure',\n",
              " 'H12200': 'Committee reported',\n",
              " 'H12210': nan,\n",
              " 'H12300': 'Committee discharged',\n",
              " 'H12410': 'Union Calendar assignment',\n",
              " 'H12420': nan,\n",
              " 'H12440': nan,\n",
              " 'H14000': 'Received in the House',\n",
              " 'H15000': 'Held at the desk',\n",
              " 'H17000': 'Motion to Discharge Committee',\n",
              " 'H1B000': nan,\n",
              " 'H1L210': 'Rule provides for consideration of',\n",
              " 'H1L220': 'Rule passed/agreed in House',\n",
              " 'H30000': 'Consideration by House',\n",
              " 'H30200': nan,\n",
              " 'H30300': nan,\n",
              " 'H30800': nan,\n",
              " 'H35000': 'The previous question was ordered pursuant to the rule',\n",
              " 'H36200': nan,\n",
              " 'H36210': nan,\n",
              " 'H36600': nan,\n",
              " 'H36610': nan,\n",
              " 'H37100': nan,\n",
              " 'H37220': nan,\n",
              " 'H37300': 'Final Passage Under Suspension of the Rules Results',\n",
              " 'H38310': 'Motion To Reconsider Results',\n",
              " 'H38400': nan,\n",
              " 'H38410': nan,\n",
              " 'H38800': nan,\n",
              " 'H38900': nan,\n",
              " 'H40110': nan,\n",
              " 'H40130': nan,\n",
              " 'H40140': nan,\n",
              " 'H40150': nan,\n",
              " 'H41400': nan,\n",
              " 'H41610': nan,\n",
              " 'H41930': nan,\n",
              " 'H41931': nan,\n",
              " 'H82000': nan,\n",
              " 'H8A000': nan,\n",
              " 'H8D000': 'DEBATE'}"
            ]
          },
          "metadata": {},
          "execution_count": 182
        }
      ]
    },
    {
      "cell_type": "markdown",
      "source": [
        "Action Code Dictionary for House of Representatives Committee Actions:"
      ],
      "metadata": {
        "id": "KxLfegHammKL"
      }
    },
    {
      "cell_type": "code",
      "source": [
        "codeNameHC"
      ],
      "metadata": {
        "colab": {
          "base_uri": "https://localhost:8080/"
        },
        "id": "o0AqllFwmeeP",
        "outputId": "fc27b2ce-b0ba-41cb-f2c9-0bacd17bdbf3"
      },
      "execution_count": 183,
      "outputs": [
        {
          "output_type": "execute_result",
          "data": {
            "text/plain": [
              "{nan: nan}"
            ]
          },
          "metadata": {},
          "execution_count": 183
        }
      ]
    },
    {
      "cell_type": "markdown",
      "source": [
        "Action Code Dictionary for Senate:"
      ],
      "metadata": {
        "id": "2hmxozMrm1ks"
      }
    },
    {
      "cell_type": "code",
      "source": [
        "codeNameS"
      ],
      "metadata": {
        "colab": {
          "base_uri": "https://localhost:8080/"
        },
        "id": "cjTEaeA-mx_Y",
        "outputId": "26178e7f-d693-44fb-c03b-eb9cb896a001"
      },
      "execution_count": 184,
      "outputs": [
        {
          "output_type": "execute_result",
          "data": {
            "text/plain": [
              "{nan: nan}"
            ]
          },
          "metadata": {},
          "execution_count": 184
        }
      ]
    },
    {
      "cell_type": "code",
      "source": [
        "# Show number of rows which are missing actionCodes in Raw Data\n",
        "dfRaw.actionCode.isna().sum()"
      ],
      "metadata": {
        "colab": {
          "base_uri": "https://localhost:8080/"
        },
        "id": "H0lylV3Lzy4T",
        "outputId": "f73756c4-f690-45d1-a46a-ee7c7e32d556"
      },
      "execution_count": 185,
      "outputs": [
        {
          "output_type": "execute_result",
          "data": {
            "text/plain": [
              "7099"
            ]
          },
          "metadata": {},
          "execution_count": 185
        }
      ]
    },
    {
      "cell_type": "markdown",
      "source": [
        "All data that comes from the sources House Committee Actions and Senate do not have action codes included in the xml files that were downloaded from the bulk data repository."
      ],
      "metadata": {
        "id": "u6GvTdljzzYq"
      }
    },
    {
      "cell_type": "code",
      "source": [
        "# Create subset of data frame where actionCode is missing\n",
        "df = dfRaw[dfRaw['actionCode'].isnull()]\n",
        "df.shape"
      ],
      "metadata": {
        "colab": {
          "base_uri": "https://localhost:8080/"
        },
        "id": "Q8xGGiKgf6o8",
        "outputId": "becf888a-567c-4a05-87d8-63f38b428fc9"
      },
      "execution_count": 186,
      "outputs": [
        {
          "output_type": "execute_result",
          "data": {
            "text/plain": [
              "(7099, 11)"
            ]
          },
          "metadata": {},
          "execution_count": 186
        }
      ]
    },
    {
      "cell_type": "code",
      "source": [
        "df.head(5)"
      ],
      "metadata": {
        "colab": {
          "base_uri": "https://localhost:8080/",
          "height": 643
        },
        "id": "pTLQ98HigXkX",
        "outputId": "ff54e105-0829-476b-92c6-7a5bcf5d3bb4"
      },
      "execution_count": 187,
      "outputs": [
        {
          "output_type": "execute_result",
          "data": {
            "text/html": [
              "<div>\n",
              "<style scoped>\n",
              "    .dataframe tbody tr th:only-of-type {\n",
              "        vertical-align: middle;\n",
              "    }\n",
              "\n",
              "    .dataframe tbody tr th {\n",
              "        vertical-align: top;\n",
              "    }\n",
              "\n",
              "    .dataframe thead th {\n",
              "        text-align: right;\n",
              "    }\n",
              "</style>\n",
              "<table border=\"1\" class=\"dataframe\">\n",
              "  <thead>\n",
              "    <tr style=\"text-align: right;\">\n",
              "      <th></th>\n",
              "      <th>billTitle</th>\n",
              "      <th>billNumber</th>\n",
              "      <th>billType</th>\n",
              "      <th>congress</th>\n",
              "      <th>fullDate</th>\n",
              "      <th>actionCode</th>\n",
              "      <th>actionName</th>\n",
              "      <th>type</th>\n",
              "      <th>sourceSystem/name</th>\n",
              "      <th>text</th>\n",
              "      <th>billOriginalTitle</th>\n",
              "    </tr>\n",
              "  </thead>\n",
              "  <tbody>\n",
              "    <tr>\n",
              "      <th>3</th>\n",
              "      <td>Proposing an amendment to the Constitution of ...</td>\n",
              "      <td>1</td>\n",
              "      <td>HJRES</td>\n",
              "      <td>117</td>\n",
              "      <td>2021-03-04</td>\n",
              "      <td>NaN</td>\n",
              "      <td>NaN</td>\n",
              "      <td>Committee</td>\n",
              "      <td>House committee actions</td>\n",
              "      <td>Referred to the Subcommittee on the Constituti...</td>\n",
              "      <td>Proposing an amendment to the Constitution of ...</td>\n",
              "    </tr>\n",
              "    <tr>\n",
              "      <th>10</th>\n",
              "      <td>Proposing an amendment to the Constitution of ...</td>\n",
              "      <td>11</td>\n",
              "      <td>HJRES</td>\n",
              "      <td>117</td>\n",
              "      <td>2021-03-04</td>\n",
              "      <td>NaN</td>\n",
              "      <td>NaN</td>\n",
              "      <td>Committee</td>\n",
              "      <td>House committee actions</td>\n",
              "      <td>Referred to the Subcommittee on the Constituti...</td>\n",
              "      <td>Proposing an amendment to the Constitution of ...</td>\n",
              "    </tr>\n",
              "    <tr>\n",
              "      <th>14</th>\n",
              "      <td>Proposing an amendment to the Constitution of ...</td>\n",
              "      <td>12</td>\n",
              "      <td>HJRES</td>\n",
              "      <td>117</td>\n",
              "      <td>2021-03-04</td>\n",
              "      <td>NaN</td>\n",
              "      <td>NaN</td>\n",
              "      <td>Committee</td>\n",
              "      <td>House committee actions</td>\n",
              "      <td>Referred to the Subcommittee on the Constituti...</td>\n",
              "      <td>Proposing an amendment to the Constitution of ...</td>\n",
              "    </tr>\n",
              "    <tr>\n",
              "      <th>18</th>\n",
              "      <td>Proposing a balanced budget amendment to the C...</td>\n",
              "      <td>13</td>\n",
              "      <td>HJRES</td>\n",
              "      <td>117</td>\n",
              "      <td>2021-03-04</td>\n",
              "      <td>NaN</td>\n",
              "      <td>NaN</td>\n",
              "      <td>Committee</td>\n",
              "      <td>House committee actions</td>\n",
              "      <td>Referred to the Subcommittee on the Constituti...</td>\n",
              "      <td>Proposing a balanced budget amendment to the C...</td>\n",
              "    </tr>\n",
              "    <tr>\n",
              "      <th>22</th>\n",
              "      <td>Proposing an amendment to the Constitution of ...</td>\n",
              "      <td>14</td>\n",
              "      <td>HJRES</td>\n",
              "      <td>117</td>\n",
              "      <td>2021-03-04</td>\n",
              "      <td>NaN</td>\n",
              "      <td>NaN</td>\n",
              "      <td>Committee</td>\n",
              "      <td>House committee actions</td>\n",
              "      <td>Referred to the Subcommittee on the Constituti...</td>\n",
              "      <td>Proposing an amendment to the Constitution of ...</td>\n",
              "    </tr>\n",
              "  </tbody>\n",
              "</table>\n",
              "</div>"
            ],
            "text/plain": [
              "                                            billTitle  ...                                  billOriginalTitle\n",
              "3   Proposing an amendment to the Constitution of ...  ...  Proposing an amendment to the Constitution of ...\n",
              "10  Proposing an amendment to the Constitution of ...  ...  Proposing an amendment to the Constitution of ...\n",
              "14  Proposing an amendment to the Constitution of ...  ...  Proposing an amendment to the Constitution of ...\n",
              "18  Proposing a balanced budget amendment to the C...  ...  Proposing a balanced budget amendment to the C...\n",
              "22  Proposing an amendment to the Constitution of ...  ...  Proposing an amendment to the Constitution of ...\n",
              "\n",
              "[5 rows x 11 columns]"
            ]
          },
          "metadata": {},
          "execution_count": 187
        }
      ]
    },
    {
      "cell_type": "code",
      "source": [
        "# Summary of data frame of rows with missing action codes\n",
        "mySummary(df)"
      ],
      "metadata": {
        "colab": {
          "base_uri": "https://localhost:8080/"
        },
        "id": "zCCBcTPMkg6q",
        "outputId": "fcf2546d-585e-4dde-ddb2-fcbf0fd2695a"
      },
      "execution_count": 188,
      "outputs": [
        {
          "output_type": "stream",
          "name": "stdout",
          "text": [
            "\n",
            "billTitle\n",
            "count                                              7099\n",
            "unique                                             5605\n",
            "top       Promoting Physical Activity for Americans Act\n",
            "freq                                                  7\n",
            "Name: billTitle, dtype: object\n",
            "\n",
            "billNumber\n",
            "count     7099\n",
            "unique    4376\n",
            "top        610\n",
            "freq         8\n",
            "Name: billNumber, dtype: int64\n",
            "\n",
            "billType\n",
            "count     7099\n",
            "unique       4\n",
            "top          S\n",
            "freq      3540\n",
            "Name: billType, dtype: object\n",
            "\n",
            "congress\n",
            "count     7099\n",
            "unique       1\n",
            "top        117\n",
            "freq      7099\n",
            "Name: congress, dtype: int64\n",
            "\n",
            "fullDate\n",
            "count                    7099\n",
            "unique                    238\n",
            "top       2021-06-24 00:00:00\n",
            "freq                      150\n",
            "first     2021-01-03 00:00:00\n",
            "last      2021-12-10 00:00:00\n",
            "Name: fullDate, dtype: object\n",
            "\n",
            "actionCode\n",
            "count       0\n",
            "unique      0\n",
            "top       NaN\n",
            "freq      NaN\n",
            "Name: actionCode, dtype: object\n",
            "\n",
            "actionName\n",
            "count       0\n",
            "unique      0\n",
            "top       NaN\n",
            "freq      NaN\n",
            "Name: actionName, dtype: object\n",
            "\n",
            "type\n",
            "count              7099\n",
            "unique                5\n",
            "top       IntroReferral\n",
            "freq               3634\n",
            "Name: type, dtype: object\n",
            "\n",
            "sourceSystem/name\n",
            "count       7099\n",
            "unique         2\n",
            "top       Senate\n",
            "freq        3925\n",
            "Name: sourceSystem/name, dtype: object\n",
            "\n",
            "text\n",
            "count                                        7099\n",
            "unique                                        605\n",
            "top       Referred to the Subcommittee on Health.\n",
            "freq                                          790\n",
            "Name: text, dtype: object\n",
            "\n",
            "billOriginalTitle\n",
            "count                                                   647\n",
            "unique                                                  551\n",
            "top       To designate the facility of the United States...\n",
            "freq                                                      4\n",
            "Name: billOriginalTitle, dtype: object\n"
          ]
        },
        {
          "output_type": "stream",
          "name": "stderr",
          "text": [
            "/usr/local/lib/python3.7/dist-packages/ipykernel_launcher.py:5: FutureWarning: Treating datetime data as categorical rather than numeric in `.describe` is deprecated and will be removed in a future version of pandas. Specify `datetime_is_numeric=True` to silence this warning and adopt the future behavior now.\n",
            "  \"\"\"\n"
          ]
        }
      ]
    },
    {
      "cell_type": "code",
      "source": [
        "\n",
        "def fillCode (row):\n",
        "  \"\"\"\n",
        "  A function to fill missing actionCodes. This can be used with\n",
        "  df['actionCode'] = df.apply (lambda row: fillCode(row) if pd.isnull(row['actionCode']) else row['actionCode'], axis=1)\n",
        "\n",
        "  This has only been tested on rows with null actionCodes.\n",
        "  If rows with non-null actionCodes are used, this will not work as intended.\n",
        "\n",
        "  After filling the actionCodes, it is recommended to apply a dictionary\n",
        "  of actionCodes and actionNames to complete the data.\n",
        "  \"\"\"\n",
        "  if row['sourceSystem/name'] == \"House committee actions\":\n",
        "    if \"referred to the subcommittee\" in str.lower(row['text']):\n",
        "      return '3000'  # Referred to House subcommittee\n",
        "    elif \"markup\" in str.lower(row['text']):\n",
        "      return '4200'  # House committee/subcommittee markups\n",
        "    elif \"mark-up\" in str.lower(row['text']):\n",
        "      return '4200'  # House committee/subcommittee markups\n",
        "    elif \"hearings\" in str.lower(row['text']):\n",
        "      return '4100'  # House committee/subcommittee hearings\n",
        "    elif \"ordered to be reported\" in str.lower(row['text']):\n",
        "      return '4000'  # House committee/subcommittee actions\n",
        "    # Generic rule based on type for text not matching earlier rules\n",
        "    elif row['type'] == \"Committee\":\n",
        "      return '4000'  # House committee/subcommittee actions\n",
        "  # Setting rules for actionCodes related to the Senate\n",
        "  elif row['sourceSystem/name'] == \"Senate\":\n",
        "    if \"received in the senate\" in str.lower(row['text']):\n",
        "      return '10000'  # Introduced in Senate\n",
        "    elif \"introduced in the senate\" in str.lower(row['text']):\n",
        "      return '10000'  # Introduced in Senate\n",
        "    elif \"referred to the committee\" in str.lower(row['text']):\n",
        "      return '11000'  # Referred to Senate committee\n",
        "    elif \"passed senate\" in str.lower(row['text']):\n",
        "      return '17000'  # Passed/agreed to in Senate\n",
        "    elif all(word in str.lower((row['text'])) for word in [\"committee\", \"filed\", \"report\"]):\n",
        "      return '14900' # Senate committee report filed after reporting\n",
        "    elif row['type'] == \"IntroReferral\":\n",
        "      return '11000'  # Referred to Senate committee\n",
        "    elif row['type'] == \"ResolvingDifferences\":\n",
        "      return '20000' # Resolving differences -- Senate actions\n",
        "    # Generic rule based on type for text not matching earlier rules\n",
        "    elif row['type'] == \"Calendars\":\n",
        "      return 'SenateCal' # need to define a code for Senate Calendar and add to dictionary\n",
        "    elif row['type'] == \"Committee\":\n",
        "      if \"hearings\" in str.lower(row['text']):\n",
        "        return '13100' # Senate committee/subcommittee hearings\n",
        "      elif \"markup\" in str.lower(row['text']):\n",
        "        return '13200'  # Senate committee/subcommittee markups\n",
        "      elif \"mark-up\" in str.lower(row['text']):\n",
        "        return '13200'  # Senate committee/subcommittee markups\n",
        "      # Generic rule based on type for text not matching earlier rules\n",
        "      else: \n",
        "        return '13000' # Senate committee/subcommittee actions\n",
        "    elif row['type'] == \"Floor\":\n",
        "      if \"message on senate action sent to the house\" in str.lower(row['text']):\n",
        "        return '5000'  # Reported to House\n",
        "      if \"message on house action received in senate\" in str.lower(row['text']):\n",
        "        return '14000'  # Reported to Senate\n",
        "      # Generic rule based on type for text not matching earlier rules\n",
        "      else:\n",
        "        return '16000'  # Senate floor action\n",
        "  else:\n",
        "    return row['actionCode']  # do nothing if source system doesn't match rules\n",
        "\n"
      ],
      "metadata": {
        "id": "AKESV-5N23o8"
      },
      "execution_count": 189,
      "outputs": []
    },
    {
      "cell_type": "code",
      "source": [
        "# Create a copy of original raw data to fill missing actionCodes\n",
        "df = dfRaw.copy()\n",
        "# Use df.apply with a lambda function to fill the missing actionCodes\n",
        "# It is very important only to pass rows to the function which have a null actionCode.\n",
        "df['actionCode'] = df.apply (lambda row: fillCode(row) if pd.isnull(row['actionCode']) else row['actionCode'], axis=1)  "
      ],
      "metadata": {
        "id": "d5ogJnzA33GW"
      },
      "execution_count": 190,
      "outputs": []
    },
    {
      "cell_type": "code",
      "source": [
        "# Number of null actionCodes in original data\n",
        "dfRaw.actionCode.isna().sum()"
      ],
      "metadata": {
        "colab": {
          "base_uri": "https://localhost:8080/"
        },
        "id": "76NXidho3aoJ",
        "outputId": "113f9be2-aec5-4ddc-ee06-87bf83308ccc"
      },
      "execution_count": 191,
      "outputs": [
        {
          "output_type": "execute_result",
          "data": {
            "text/plain": [
              "7099"
            ]
          },
          "metadata": {},
          "execution_count": 191
        }
      ]
    },
    {
      "cell_type": "code",
      "source": [
        "# Number of null actionCodes in filled data\n",
        "df.actionCode.isna().sum()"
      ],
      "metadata": {
        "colab": {
          "base_uri": "https://localhost:8080/"
        },
        "id": "-jLRJNtO5_WU",
        "outputId": "f1f8e73e-0649-4404-8e59-5952dc9510f7"
      },
      "execution_count": 192,
      "outputs": [
        {
          "output_type": "execute_result",
          "data": {
            "text/plain": [
              "0"
            ]
          },
          "metadata": {},
          "execution_count": 192
        }
      ]
    },
    {
      "cell_type": "markdown",
      "source": [
        "The next step should be to make sure that every actionCode has a reasonable actionName and standardize the names to name that are available on this website when possible: https://www.congress.gov/help/field-values/action-codes"
      ],
      "metadata": {
        "id": "T1SkTGVqA4fX"
      }
    },
    {
      "cell_type": "code",
      "source": [
        "pd.set_option('display.max_rows', None)\n",
        "# Create a data frame showing the frequency of actionCodes\n",
        "acFreq = df.actionCode.value_counts().to_frame()\n",
        "acFreq = acFreq.rename(columns={\"actionCode\": \"Frequency\"})\n",
        "acFreq['actionName'] = acFreq.index.map(actionCode_dict)  # index is actionCode\n",
        "acFreq"
      ],
      "metadata": {
        "colab": {
          "base_uri": "https://localhost:8080/",
          "height": 1000
        },
        "id": "W1rXIuk8-EwN",
        "outputId": "fae9e7aa-1e32-4452-ff20-c88b9f5159d9"
      },
      "execution_count": 210,
      "outputs": [
        {
          "output_type": "execute_result",
          "data": {
            "text/html": [
              "<div>\n",
              "<style scoped>\n",
              "    .dataframe tbody tr th:only-of-type {\n",
              "        vertical-align: middle;\n",
              "    }\n",
              "\n",
              "    .dataframe tbody tr th {\n",
              "        vertical-align: top;\n",
              "    }\n",
              "\n",
              "    .dataframe thead th {\n",
              "        text-align: right;\n",
              "    }\n",
              "</style>\n",
              "<table border=\"1\" class=\"dataframe\">\n",
              "  <thead>\n",
              "    <tr style=\"text-align: right;\">\n",
              "      <th></th>\n",
              "      <th>Frequency</th>\n",
              "      <th>actionName</th>\n",
              "    </tr>\n",
              "  </thead>\n",
              "  <tbody>\n",
              "    <tr>\n",
              "      <th>1000</th>\n",
              "      <td>6132</td>\n",
              "      <td>Introduced in House</td>\n",
              "    </tr>\n",
              "    <tr>\n",
              "      <th>Intro-H</th>\n",
              "      <td>6118</td>\n",
              "      <td>NaN</td>\n",
              "    </tr>\n",
              "    <tr>\n",
              "      <th>H11100</th>\n",
              "      <td>6109</td>\n",
              "      <td>Referred to the Committee</td>\n",
              "    </tr>\n",
              "    <tr>\n",
              "      <th>10000</th>\n",
              "      <td>3735</td>\n",
              "      <td>Introduced in Senate</td>\n",
              "    </tr>\n",
              "    <tr>\n",
              "      <th>11000</th>\n",
              "      <td>3348</td>\n",
              "      <td>Referred to Senate committee</td>\n",
              "    </tr>\n",
              "    <tr>\n",
              "      <th>3000</th>\n",
              "      <td>2951</td>\n",
              "      <td>Referred to House subcommittee</td>\n",
              "    </tr>\n",
              "    <tr>\n",
              "      <th>H30000</th>\n",
              "      <td>485</td>\n",
              "      <td>Consideration by House</td>\n",
              "    </tr>\n",
              "    <tr>\n",
              "      <th>H8D000</th>\n",
              "      <td>392</td>\n",
              "      <td>DEBATE</td>\n",
              "    </tr>\n",
              "    <tr>\n",
              "      <th>8000</th>\n",
              "      <td>337</td>\n",
              "      <td>Passed/agreed to in House</td>\n",
              "    </tr>\n",
              "    <tr>\n",
              "      <th>H37300</th>\n",
              "      <td>281</td>\n",
              "      <td>Final Passage Under Suspension of the Rules Re...</td>\n",
              "    </tr>\n",
              "    <tr>\n",
              "      <th>H30300</th>\n",
              "      <td>281</td>\n",
              "      <td>NaN</td>\n",
              "    </tr>\n",
              "    <tr>\n",
              "      <th>B00100</th>\n",
              "      <td>247</td>\n",
              "      <td>Sponsor introductory remarks on measure</td>\n",
              "    </tr>\n",
              "    <tr>\n",
              "      <th>H38310</th>\n",
              "      <td>232</td>\n",
              "      <td>Motion To Reconsider Results</td>\n",
              "    </tr>\n",
              "    <tr>\n",
              "      <th>17000</th>\n",
              "      <td>221</td>\n",
              "      <td>Passed/agreed to in Senate</td>\n",
              "    </tr>\n",
              "    <tr>\n",
              "      <th>H37220</th>\n",
              "      <td>210</td>\n",
              "      <td>NaN</td>\n",
              "    </tr>\n",
              "    <tr>\n",
              "      <th>4000</th>\n",
              "      <td>177</td>\n",
              "      <td>House committee/subcommittee actions</td>\n",
              "    </tr>\n",
              "    <tr>\n",
              "      <th>5000</th>\n",
              "      <td>161</td>\n",
              "      <td>Reported to House</td>\n",
              "    </tr>\n",
              "    <tr>\n",
              "      <th>H12410</th>\n",
              "      <td>120</td>\n",
              "      <td>Union Calendar assignment</td>\n",
              "    </tr>\n",
              "    <tr>\n",
              "      <th>H12200</th>\n",
              "      <td>115</td>\n",
              "      <td>Committee reported</td>\n",
              "    </tr>\n",
              "    <tr>\n",
              "      <th>H1B000</th>\n",
              "      <td>105</td>\n",
              "      <td>NaN</td>\n",
              "    </tr>\n",
              "    <tr>\n",
              "      <th>SenateCal</th>\n",
              "      <td>104</td>\n",
              "      <td>NaN</td>\n",
              "    </tr>\n",
              "    <tr>\n",
              "      <th>14000</th>\n",
              "      <td>100</td>\n",
              "      <td>Reported to Senate</td>\n",
              "    </tr>\n",
              "    <tr>\n",
              "      <th>H14000</th>\n",
              "      <td>85</td>\n",
              "      <td>Received in the House</td>\n",
              "    </tr>\n",
              "    <tr>\n",
              "      <th>H15000</th>\n",
              "      <td>85</td>\n",
              "      <td>Held at the desk</td>\n",
              "    </tr>\n",
              "    <tr>\n",
              "      <th>28000</th>\n",
              "      <td>70</td>\n",
              "      <td>Presented to President</td>\n",
              "    </tr>\n",
              "    <tr>\n",
              "      <th>E20000</th>\n",
              "      <td>70</td>\n",
              "      <td>Presented to President</td>\n",
              "    </tr>\n",
              "    <tr>\n",
              "      <th>E40000</th>\n",
              "      <td>68</td>\n",
              "      <td>Became Public Law No: 114-47</td>\n",
              "    </tr>\n",
              "    <tr>\n",
              "      <th>E30000</th>\n",
              "      <td>68</td>\n",
              "      <td>Signed by President</td>\n",
              "    </tr>\n",
              "    <tr>\n",
              "      <th>36000</th>\n",
              "      <td>68</td>\n",
              "      <td>Became Public Law</td>\n",
              "    </tr>\n",
              "    <tr>\n",
              "      <th>H37100</th>\n",
              "      <td>60</td>\n",
              "      <td>NaN</td>\n",
              "    </tr>\n",
              "    <tr>\n",
              "      <th>14500</th>\n",
              "      <td>56</td>\n",
              "      <td>Senate committee discharged</td>\n",
              "    </tr>\n",
              "    <tr>\n",
              "      <th>H1L210</th>\n",
              "      <td>54</td>\n",
              "      <td>Rule provides for consideration of</td>\n",
              "    </tr>\n",
              "    <tr>\n",
              "      <th>H35000</th>\n",
              "      <td>51</td>\n",
              "      <td>The previous question was ordered pursuant to ...</td>\n",
              "    </tr>\n",
              "    <tr>\n",
              "      <th>4200</th>\n",
              "      <td>42</td>\n",
              "      <td>House committee/subcommittee markups</td>\n",
              "    </tr>\n",
              "    <tr>\n",
              "      <th>H36210</th>\n",
              "      <td>28</td>\n",
              "      <td>NaN</td>\n",
              "    </tr>\n",
              "    <tr>\n",
              "      <th>H36200</th>\n",
              "      <td>28</td>\n",
              "      <td>NaN</td>\n",
              "    </tr>\n",
              "    <tr>\n",
              "      <th>H8A000</th>\n",
              "      <td>26</td>\n",
              "      <td>NaN</td>\n",
              "    </tr>\n",
              "    <tr>\n",
              "      <th>H1L220</th>\n",
              "      <td>21</td>\n",
              "      <td>Rule passed/agreed in House</td>\n",
              "    </tr>\n",
              "    <tr>\n",
              "      <th>H12300</th>\n",
              "      <td>18</td>\n",
              "      <td>Committee discharged</td>\n",
              "    </tr>\n",
              "    <tr>\n",
              "      <th>5500</th>\n",
              "      <td>18</td>\n",
              "      <td>House committee discharged</td>\n",
              "    </tr>\n",
              "    <tr>\n",
              "      <th>H38800</th>\n",
              "      <td>17</td>\n",
              "      <td>NaN</td>\n",
              "    </tr>\n",
              "    <tr>\n",
              "      <th>H12100</th>\n",
              "      <td>14</td>\n",
              "      <td>Committee report of an original measure</td>\n",
              "    </tr>\n",
              "    <tr>\n",
              "      <th>H38900</th>\n",
              "      <td>9</td>\n",
              "      <td>NaN</td>\n",
              "    </tr>\n",
              "    <tr>\n",
              "      <th>H41931</th>\n",
              "      <td>8</td>\n",
              "      <td>NaN</td>\n",
              "    </tr>\n",
              "    <tr>\n",
              "      <th>19500</th>\n",
              "      <td>8</td>\n",
              "      <td>NaN</td>\n",
              "    </tr>\n",
              "    <tr>\n",
              "      <th>H41610</th>\n",
              "      <td>8</td>\n",
              "      <td>NaN</td>\n",
              "    </tr>\n",
              "    <tr>\n",
              "      <th>16000</th>\n",
              "      <td>7</td>\n",
              "      <td>Senate floor actions</td>\n",
              "    </tr>\n",
              "    <tr>\n",
              "      <th>14900</th>\n",
              "      <td>6</td>\n",
              "      <td>Senate committee report filed after reporting</td>\n",
              "    </tr>\n",
              "    <tr>\n",
              "      <th>H30200</th>\n",
              "      <td>6</td>\n",
              "      <td>NaN</td>\n",
              "    </tr>\n",
              "    <tr>\n",
              "      <th>H12210</th>\n",
              "      <td>5</td>\n",
              "      <td>NaN</td>\n",
              "    </tr>\n",
              "    <tr>\n",
              "      <th>H12420</th>\n",
              "      <td>5</td>\n",
              "      <td>NaN</td>\n",
              "    </tr>\n",
              "    <tr>\n",
              "      <th>H11210</th>\n",
              "      <td>5</td>\n",
              "      <td>NaN</td>\n",
              "    </tr>\n",
              "    <tr>\n",
              "      <th>9000</th>\n",
              "      <td>4</td>\n",
              "      <td>Failed of passage/not agreed to in House</td>\n",
              "    </tr>\n",
              "    <tr>\n",
              "      <th>4100</th>\n",
              "      <td>4</td>\n",
              "      <td>House committee/subcommittee hearings</td>\n",
              "    </tr>\n",
              "    <tr>\n",
              "      <th>13100</th>\n",
              "      <td>3</td>\n",
              "      <td>Senate committee/subcommittee hearings</td>\n",
              "    </tr>\n",
              "    <tr>\n",
              "      <th>H41400</th>\n",
              "      <td>3</td>\n",
              "      <td>NaN</td>\n",
              "    </tr>\n",
              "    <tr>\n",
              "      <th>H82000</th>\n",
              "      <td>3</td>\n",
              "      <td>NaN</td>\n",
              "    </tr>\n",
              "    <tr>\n",
              "      <th>H36600</th>\n",
              "      <td>3</td>\n",
              "      <td>NaN</td>\n",
              "    </tr>\n",
              "    <tr>\n",
              "      <th>H17000</th>\n",
              "      <td>3</td>\n",
              "      <td>Motion to Discharge Committee</td>\n",
              "    </tr>\n",
              "    <tr>\n",
              "      <th>20500</th>\n",
              "      <td>3</td>\n",
              "      <td>NaN</td>\n",
              "    </tr>\n",
              "    <tr>\n",
              "      <th>H36610</th>\n",
              "      <td>3</td>\n",
              "      <td>NaN</td>\n",
              "    </tr>\n",
              "    <tr>\n",
              "      <th>H40150</th>\n",
              "      <td>2</td>\n",
              "      <td>NaN</td>\n",
              "    </tr>\n",
              "    <tr>\n",
              "      <th>H38400</th>\n",
              "      <td>2</td>\n",
              "      <td>NaN</td>\n",
              "    </tr>\n",
              "    <tr>\n",
              "      <th>20000</th>\n",
              "      <td>2</td>\n",
              "      <td>Resolving differences -- Senate actions</td>\n",
              "    </tr>\n",
              "    <tr>\n",
              "      <th>H40110</th>\n",
              "      <td>2</td>\n",
              "      <td>NaN</td>\n",
              "    </tr>\n",
              "    <tr>\n",
              "      <th>H40140</th>\n",
              "      <td>2</td>\n",
              "      <td>NaN</td>\n",
              "    </tr>\n",
              "    <tr>\n",
              "      <th>H12440</th>\n",
              "      <td>2</td>\n",
              "      <td>NaN</td>\n",
              "    </tr>\n",
              "    <tr>\n",
              "      <th>H40130</th>\n",
              "      <td>1</td>\n",
              "      <td>NaN</td>\n",
              "    </tr>\n",
              "    <tr>\n",
              "      <th>H41930</th>\n",
              "      <td>1</td>\n",
              "      <td>NaN</td>\n",
              "    </tr>\n",
              "    <tr>\n",
              "      <th>H30800</th>\n",
              "      <td>1</td>\n",
              "      <td>NaN</td>\n",
              "    </tr>\n",
              "    <tr>\n",
              "      <th>H38410</th>\n",
              "      <td>1</td>\n",
              "      <td>NaN</td>\n",
              "    </tr>\n",
              "  </tbody>\n",
              "</table>\n",
              "</div>"
            ],
            "text/plain": [
              "           Frequency                                         actionName\n",
              "1000            6132                                Introduced in House\n",
              "Intro-H         6118                                                NaN\n",
              "H11100          6109                          Referred to the Committee\n",
              "10000           3735                               Introduced in Senate\n",
              "11000           3348                       Referred to Senate committee\n",
              "3000            2951                     Referred to House subcommittee\n",
              "H30000           485                             Consideration by House\n",
              "H8D000           392                                             DEBATE\n",
              "8000             337                          Passed/agreed to in House\n",
              "H37300           281  Final Passage Under Suspension of the Rules Re...\n",
              "H30300           281                                                NaN\n",
              "B00100           247            Sponsor introductory remarks on measure\n",
              "H38310           232                       Motion To Reconsider Results\n",
              "17000            221                         Passed/agreed to in Senate\n",
              "H37220           210                                                NaN\n",
              "4000             177               House committee/subcommittee actions\n",
              "5000             161                                  Reported to House\n",
              "H12410           120                          Union Calendar assignment\n",
              "H12200           115                                 Committee reported\n",
              "H1B000           105                                                NaN\n",
              "SenateCal        104                                                NaN\n",
              "14000            100                                 Reported to Senate\n",
              "H14000            85                              Received in the House\n",
              "H15000            85                                   Held at the desk\n",
              "28000             70                             Presented to President\n",
              "E20000            70                             Presented to President\n",
              "E40000            68                       Became Public Law No: 114-47\n",
              "E30000            68                                Signed by President\n",
              "36000             68                                  Became Public Law\n",
              "H37100            60                                                NaN\n",
              "14500             56                        Senate committee discharged\n",
              "H1L210            54                 Rule provides for consideration of\n",
              "H35000            51  The previous question was ordered pursuant to ...\n",
              "4200              42               House committee/subcommittee markups\n",
              "H36210            28                                                NaN\n",
              "H36200            28                                                NaN\n",
              "H8A000            26                                                NaN\n",
              "H1L220            21                        Rule passed/agreed in House\n",
              "H12300            18                               Committee discharged\n",
              "5500              18                         House committee discharged\n",
              "H38800            17                                                NaN\n",
              "H12100            14            Committee report of an original measure\n",
              "H38900             9                                                NaN\n",
              "H41931             8                                                NaN\n",
              "19500              8                                                NaN\n",
              "H41610             8                                                NaN\n",
              "16000              7                               Senate floor actions\n",
              "14900              6      Senate committee report filed after reporting\n",
              "H30200             6                                                NaN\n",
              "H12210             5                                                NaN\n",
              "H12420             5                                                NaN\n",
              "H11210             5                                                NaN\n",
              "9000               4           Failed of passage/not agreed to in House\n",
              "4100               4              House committee/subcommittee hearings\n",
              "13100              3             Senate committee/subcommittee hearings\n",
              "H41400             3                                                NaN\n",
              "H82000             3                                                NaN\n",
              "H36600             3                                                NaN\n",
              "H17000             3                      Motion to Discharge Committee\n",
              "20500              3                                                NaN\n",
              "H36610             3                                                NaN\n",
              "H40150             2                                                NaN\n",
              "H38400             2                                                NaN\n",
              "20000              2            Resolving differences -- Senate actions\n",
              "H40110             2                                                NaN\n",
              "H40140             2                                                NaN\n",
              "H12440             2                                                NaN\n",
              "H40130             1                                                NaN\n",
              "H41930             1                                                NaN\n",
              "H30800             1                                                NaN\n",
              "H38410             1                                                NaN"
            ]
          },
          "metadata": {},
          "execution_count": 210
        }
      ]
    },
    {
      "cell_type": "code",
      "source": [
        "new_dict = {'Intro-H': 'Introduced in House',\n",
        "            'H30300': 'House floor actions', # motion to suspend rules and pass bill\n",
        "            'H37220': 'House floor actions', # further proceedings postponed\n",
        "            'H1B000': 'House floor actions'} # proceedings are considered vacated"
      ],
      "metadata": {
        "id": "HeutjxMSEIVv"
      },
      "execution_count": 212,
      "outputs": []
    },
    {
      "cell_type": "code",
      "source": [
        "#view = df.loc[df['actionCode'] == 'H1B000']\n",
        "#pd.set_option('display.max_colwidth', None)\n",
        "#view.text"
      ],
      "metadata": {
        "colab": {
          "base_uri": "https://localhost:8080/"
        },
        "id": "SpxQGW_cE0N4",
        "outputId": "9e463310-144b-4a88-f5cf-eccf9c8764ba"
      },
      "execution_count": 222,
      "outputs": [
        {
          "output_type": "execute_result",
          "data": {
            "text/plain": [
              "479        Pursuant to the provisions of H. Res. 535, proceedings on H.R. 1036 are considered vacated.\n",
              "678        Pursuant to the provisions of H. Res. 535, proceedings on H.R. 1079 are considered vacated.\n",
              "982        Pursuant to the provisions of H. Res. 473, proceedings on H.R. 1144 are considered vacated.\n",
              "1057       Pursuant to the provisions of H. Res. 403, proceedings on H.R. 1157 are considered vacated.\n",
              "1070       Pursuant to the provisions of H. Res. 535, proceedings on H.R. 1158 are considered vacated.\n",
              "1334       Pursuant to the provisions of H. Res. 380, proceedings on H.R. 1205 are considered vacated.\n",
              "1543       Pursuant to the provisions of H. Res. 535, proceedings on H.R. 1250 are considered vacated.\n",
              "1555       Pursuant to the provisions of H. Res. 330, proceedings on H.R. 1251 are considered vacated.\n",
              "1608       Pursuant to the provisions of H. Res. 380, proceedings on H.R. 1260 are considered vacated.\n",
              "1884       Pursuant to the provisions of H. Res. 486, proceedings on H.R. 1314 are considered vacated.\n",
              "1972       Pursuant to the provisions of H. Res. 380, proceedings on H.R. 1324 are considered vacated.\n",
              "2322       Pursuant to the provisions of H. Res. 330, proceedings on H.R. 1395 are considered vacated.\n",
              "2512        Pursuant to the provisions of H. Res. 403, proceedings on H.R. 144 are considered vacated.\n",
              "2592       Pursuant to the provisions of H. Res. 403, proceedings on H.R. 1447 are considered vacated.\n",
              "2608       Pursuant to the provisions of H. Res. 380, proceedings on H.R. 1448 are considered vacated.\n",
              "2756       Pursuant to the provisions of H. Res. 380, proceedings on H.R. 1475 are considered vacated.\n",
              "2787       Pursuant to the provisions of H. Res. 380, proceedings on H.R. 1480 are considered vacated.\n",
              "2865       Pursuant to the provisions of H. Res. 330, proceedings on H.R. 1491 are considered vacated.\n",
              "2911       Pursuant to the provisions of H. Res. 504, proceedings on H.R. 1500 are considered vacated.\n",
              "2976       Pursuant to the provisions of H. Res. 403, proceedings on H.R. 1510 are considered vacated.\n",
              "3058       Pursuant to the provisions of H. Res. 330, proceedings on H.R. 1528 are considered vacated.\n",
              "3084       Pursuant to the provisions of H. Res. 330, proceedings on H.R. 1532 are considered vacated.\n",
              "3219       Pursuant to the provisions of H. Res. 330, proceedings on H.R. 1565 are considered vacated.\n",
              "3398       Pursuant to the provisions of H. Res. 330, proceedings on H.R. 1602 are considered vacated.\n",
              "3936       Pursuant to the provisions of H. Res. 473, proceedings on H.R. 1703 are considered vacated.\n",
              "3974       Pursuant to the provisions of H. Res. 403, proceedings on H.R. 1711 are considered vacated.\n",
              "4163       Pursuant to the provisions of H. Res. 535, proceedings on H.R. 1754 are considered vacated.\n",
              "4533       Pursuant to the provisions of H. Res. 535, proceedings on H.R. 1833 are considered vacated.\n",
              "4613       Pursuant to the provisions of H. Res. 535, proceedings on H.R. 1850 are considered vacated.\n",
              "4737       Pursuant to the provisions of H. Res. 535, proceedings on H.R. 1871 are considered vacated.\n",
              "4772       Pursuant to the provisions of H. Res. 535, proceedings on H.R. 1877 are considered vacated.\n",
              "4860       Pursuant to the provisions of H. Res. 535, proceedings on H.R. 1893 are considered vacated.\n",
              "4879       Pursuant to the provisions of H. Res. 535, proceedings on H.R. 1895 are considered vacated.\n",
              "5040       Pursuant to the provisions of H. Res. 473, proceedings on H.R. 1921 are considered vacated.\n",
              "5415       Pursuant to the provisions of H. Res. 473, proceedings on H.R. 2008 are considered vacated.\n",
              "5512       Pursuant to the provisions of H. Res. 403, proceedings on H.R. 2027 are considered vacated.\n",
              "5566        Pursuant to the provisions of H. Res. 403, proceedings on H.R. 204 are considered vacated.\n",
              "5896        Pursuant to the provisions of H. Res. 403, proceedings on H.R. 210 are considered vacated.\n",
              "5976       Pursuant to the provisions of H. Res. 535, proceedings on H.R. 2118 are considered vacated.\n",
              "6196       Pursuant to the provisions of H. Res. 403, proceedings on H.R. 2167 are considered vacated.\n",
              "6955       Pursuant to the provisions of H. Res. 473, proceedings on H.R. 2332 are considered vacated.\n",
              "7279        Pursuant to the provisions of H. Res. 403, proceedings on H.R. 240 are considered vacated.\n",
              "7477       Pursuant to the provisions of H. Res. 403, proceedings on H.R. 2441 are considered vacated.\n",
              "7634       Pursuant to the provisions of H. Res. 504, proceedings on H.R. 2471 are considered vacated.\n",
              "7746       Pursuant to the provisions of H. Res. 403, proceedings on H.R. 2494 are considered vacated.\n",
              "7887       Pursuant to the provisions of H. Res. 330, proceedings on H.R. 2523 are considered vacated.\n",
              "7942       Pursuant to the provisions of H. Res. 403, proceedings on H.R. 2533 are considered vacated.\n",
              "7999       Pursuant to the provisions of H. Res. 473, proceedings on H.R. 2545 are considered vacated.\n",
              "8137       Pursuant to the provisions of H. Res. 486, proceedings on H.R. 2571 are considered vacated.\n",
              "8541       Pursuant to the provisions of H. Res. 403, proceedings on H.R. 2655 are considered vacated.\n",
              "8678       Pursuant to the provisions of H. Res. 486, proceedings on H.R. 2679 are considered vacated.\n",
              "8751       Pursuant to the provisions of H. Res. 486, proceedings on H.R. 2694 are considered vacated.\n",
              "8763       Pursuant to the provisions of H. Res. 403, proceedings on H.R. 2695 are considered vacated.\n",
              "8821       Pursuant to the provisions of H. Res. 403, proceedings on H.R. 2704 are considered vacated.\n",
              "9186       Pursuant to the provisions of H. Res. 403, proceedings on H.R. 2788 are considered vacated.\n",
              "9224       Pursuant to the provisions of H. Res. 535, proceedings on H.R. 2795 are considered vacated.\n",
              "9515       Pursuant to the provisions of H. Res. 380, proceedings on H.R. 2862 are considered vacated.\n",
              "9593       Pursuant to the provisions of H. Res. 403, proceedings on H.R. 2878 are considered vacated.\n",
              "9826       Pursuant to the provisions of H. Res. 486, proceedings on H.R. 2922 are considered vacated.\n",
              "9860       Pursuant to the provisions of H. Res. 535, proceedings on H.R. 2928 are considered vacated.\n",
              "9876        Pursuant to the provisions of H. Res. 473, proceedings on H.R. 293 are considered vacated.\n",
              "9994       Pursuant to the provisions of H. Res. 380, proceedings on H.R. 2955 are considered vacated.\n",
              "10065       Pursuant to the provisions of H. Res. 380, proceedings on H.R. 297 are considered vacated.\n",
              "10118      Pursuant to the provisions of H. Res. 535, proceedings on H.R. 2980 are considered vacated.\n",
              "10130      Pursuant to the provisions of H. Res. 380, proceedings on H.R. 2981 are considered vacated.\n",
              "10247      Pursuant to the provisions of H. Res. 535, proceedings on H.R. 3003 are considered vacated.\n",
              "10284      Pursuant to the provisions of H. Res. 403, proceedings on H.R. 3008 are considered vacated.\n",
              "10858      Pursuant to the provisions of H. Res. 535, proceedings on H.R. 3138 are considered vacated.\n",
              "11053      Pursuant to the provisions of H. Res. 486, proceedings on H.R. 3182 are considered vacated.\n",
              "11249      Pursuant to the provisions of H. Res. 535, proceedings on H.R. 3223 are considered vacated.\n",
              "11353      Pursuant to the provisions of H. Res. 486, proceedings on H.R. 3239 are considered vacated.\n",
              "11374      Pursuant to the provisions of H. Res. 486, proceedings on H.R. 3241 are considered vacated.\n",
              "11462      Pursuant to the provisions of H. Res. 504, proceedings on H.R. 3261 are considered vacated.\n",
              "11481      Pursuant to the provisions of H. Res. 535, proceedings on H.R. 3263 are considered vacated.\n",
              "11496      Pursuant to the provisions of H. Res. 535, proceedings on H.R. 3264 are considered vacated.\n",
              "11577      Pursuant to the provisions of H. Res. 504, proceedings on H.R. 3283 are considered vacated.\n",
              "12047      Pursuant to the provisions of H. Res. 504, proceedings on H.R. 3385 are considered vacated.\n",
              "13170      Pursuant to the provisions of H. Res. 473, proceedings on H.R. 3642 are considered vacated.\n",
              "13297       Pursuant to the provisions of H. Res. 330, proceedings on H.R. 367 are considered vacated.\n",
              "13468       Pursuant to the provisions of H. Res. 330, proceedings on H.R. 370 are considered vacated.\n",
              "13585      Pursuant to the provisions of H. Res. 486, proceedings on H.R. 3723 are considered vacated.\n",
              "13723      Pursuant to the provisions of H. Res. 486, proceedings on H.R. 3752 are considered vacated.\n",
              "14107      Pursuant to the provisions of H. Res. 486, proceedings on H.R. 3841 are considered vacated.\n",
              "14624       Pursuant to the provisions of H. Res. 330, proceedings on H.R. 396 are considered vacated.\n",
              "14673       Pursuant to the provisions of H. Res. 330, proceedings on H.R. 397 are considered vacated.\n",
              "15214       Pursuant to the provisions of H. Res. 330, proceedings on H.R. 408 are considered vacated.\n",
              "16287       Pursuant to the provisions of H. Res. 380, proceedings on H.R. 433 are considered vacated.\n",
              "18316       Pursuant to the provisions of H. Res. 380, proceedings on H.R. 478 are considered vacated.\n",
              "18475       Pursuant to the provisions of H. Res. 486, proceedings on H.R. 482 are considered vacated.\n",
              "18814       Pursuant to the provisions of H. Res. 330, proceedings on H.R. 490 are considered vacated.\n",
              "22644       Pursuant to the provisions of H. Res. 380, proceedings on H.R. 586 are considered vacated.\n",
              "22692       Pursuant to the provisions of H. Res. 473, proceedings on H.R. 587 are considered vacated.\n",
              "23419       Pursuant to the provisions of H. Res. 473, proceedings on H.R. 610 are considered vacated.\n",
              "23710       Pursuant to the provisions of H. Res. 535, proceedings on H.R. 678 are considered vacated.\n",
              "23839       Pursuant to the provisions of H. Res. 486, proceedings on H.R. 704 are considered vacated.\n",
              "23859       Pursuant to the provisions of H. Res. 403, proceedings on H.R. 707 are considered vacated.\n",
              "23887       Pursuant to the provisions of H. Res. 403, proceedings on H.R. 711 are considered vacated.\n",
              "23949       Pursuant to the provisions of H. Res. 380, proceedings on H.R. 721 are considered vacated.\n",
              "24156       Pursuant to the provisions of H. Res. 380, proceedings on H.R. 768 are considered vacated.\n",
              "24382       Pursuant to the provisions of H. Res. 380, proceedings on H.R. 810 are considered vacated.\n",
              "25069       Pursuant to the provisions of H. Res. 486, proceedings on H.R. 961 are considered vacated.\n",
              "25092       Pursuant to the provisions of H. Res. 330, proceedings on H.R. 965 are considered vacated.\n",
              "26063    Pursuant to the provisions of H.Res. 716, House agreed to Senate amendment to House amendment\n",
              "26164        Pursuant to the provisions of H. Res. 486, proceedings on S. 1340 are considered vacated.\n",
              "31247         Pursuant to the provisions of H. Res. 486, proceedings on S. 409 are considered vacated.\n",
              "Name: text, dtype: object"
            ]
          },
          "metadata": {},
          "execution_count": 222
        }
      ]
    }
  ]
}